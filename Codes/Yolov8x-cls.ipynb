{
 "nbformat": 4,
 "nbformat_minor": 0,
 "metadata": {
  "colab": {
   "provenance": [],
   "gpuType": "T4",
   "collapsed_sections": [
    "J8pmHeo5YFMC",
    "vu8lyd8hX_cM"
   ],
   "authorship_tag": "ABX9TyPr/dhDV4obTPOXKHqrAcXj"
  },
  "kernelspec": {
   "name": "python3",
   "display_name": "Python 3"
  },
  "language_info": {
   "name": "python"
  },
  "accelerator": "GPU"
 },
 "cells": [
  {
   "cell_type": "markdown",
   "source": "## Pre Train",
   "metadata": {
    "id": "J8pmHeo5YFMC"
   }
  },
  {
   "cell_type": "code",
   "source": [
    "!pip install ultralytics"
   ],
   "metadata": {
    "colab": {
     "base_uri": "https://localhost:8080/"
    },
    "id": "V8waYjBXieVt",
    "executionInfo": {
     "status": "ok",
     "timestamp": 1728832341327,
     "user_tz": -210,
     "elapsed": 7278,
     "user": {
      "displayName": "a se",
      "userId": "15717729663052586629"
     }
    },
    "outputId": "c50e0133-bac9-4375-e302-cd0a1eb540b8"
   },
   "outputs": [],
   "execution_count": null
  },
  {
   "cell_type": "code",
   "source": [
    "import os\n",
    "import numpy as np\n",
    "from sklearn.metrics import accuracy_score, confusion_matrix, classification_report\n",
    "from tqdm import tqdm\n",
    "import matplotlib.pyplot as plt\n",
    "import seaborn as sns\n",
    "from ultralytics import YOLO"
   ],
   "metadata": {
    "id": "bkeGRleqAQEl",
    "colab": {
     "base_uri": "https://localhost:8080/"
    },
    "executionInfo": {
     "status": "ok",
     "timestamp": 1728832354757,
     "user_tz": -210,
     "elapsed": 13437,
     "user": {
      "displayName": "a se",
      "userId": "15717729663052586629"
     }
    },
    "outputId": "4c17b9c1-c04c-4bd0-e39f-eed931da7b4b"
   },
   "outputs": [],
   "execution_count": null
  },
  {
   "cell_type": "code",
   "metadata": {
    "colab": {
     "base_uri": "https://localhost:8080/"
    },
    "id": "B31QXd1Mh_gA",
    "executionInfo": {
     "status": "ok",
     "timestamp": 1728832378883,
     "user_tz": -210,
     "elapsed": 24130,
     "user": {
      "displayName": "a se",
      "userId": "15717729663052586629"
     }
    },
    "outputId": "d3d293fb-20ae-406a-8cf4-4e5c713ae161"
   },
   "source": [
    "from google.colab import drive\n",
    "drive.mount('/content/drive')"
   ],
   "outputs": [],
   "execution_count": null
  },
  {
   "cell_type": "code",
   "source": "data_path = '/content/drive/MyDrive/projects/Kidney/Dataset'",
   "metadata": {
    "id": "QSCReIbkiOxu",
    "executionInfo": {
     "status": "ok",
     "timestamp": 1728832378884,
     "user_tz": -210,
     "elapsed": 10,
     "user": {
      "displayName": "a se",
      "userId": "15717729663052586629"
     }
    }
   },
   "outputs": [],
   "execution_count": null
  },
  {
   "cell_type": "code",
   "source": "%cd {'/content/drive/MyDrive/projects/Kidney/All model last version/Yolo'}",
   "metadata": {
    "colab": {
     "base_uri": "https://localhost:8080/"
    },
    "id": "ZxByEexCievg",
    "executionInfo": {
     "status": "ok",
     "timestamp": 1728832379278,
     "user_tz": -210,
     "elapsed": 402,
     "user": {
      "displayName": "a se",
      "userId": "15717729663052586629"
     }
    },
    "outputId": "abf71359-2c56-4392-8886-60b486a6af23"
   },
   "outputs": [],
   "execution_count": null
  },
  {
   "cell_type": "markdown",
   "source": [
    "## Train"
   ],
   "metadata": {
    "id": "vu8lyd8hX_cM"
   }
  },
  {
   "cell_type": "code",
   "source": [
    "model = YOLO(\"yolov8x-cls.pt\")\n",
    "\n",
    "results = model.train(data=data_path, epochs=15, imgsz=240, batch=32, augment=False)"
   ],
   "metadata": {
    "colab": {
     "base_uri": "https://localhost:8080/"
    },
    "id": "V13-KaByioQV",
    "executionInfo": {
     "status": "ok",
     "timestamp": 1728583261198,
     "user_tz": -210,
     "elapsed": 559904,
     "user": {
      "displayName": "a se",
      "userId": "15717729663052586629"
     }
    },
    "outputId": "5a165f14-1d9c-4228-c014-fbfc36848335"
   },
   "outputs": [],
   "execution_count": null
  },
  {
   "cell_type": "markdown",
   "source": [
    "## Eval"
   ],
   "metadata": {
    "id": "SvGHQCF05eSc"
   }
  },
  {
   "cell_type": "code",
   "source": "model = YOLO('/content/drive/MyDrive/projects/Kidney/All model last version/Yolo/runs/classify/train8/weights/best.pt')",
   "metadata": {
    "id": "5g5oQdfQrMg2",
    "executionInfo": {
     "status": "ok",
     "timestamp": 1728832390340,
     "user_tz": -210,
     "elapsed": 11065,
     "user": {
      "displayName": "a se",
      "userId": "15717729663052586629"
     }
    }
   },
   "outputs": [],
   "execution_count": null
  },
  {
   "cell_type": "markdown",
   "source": [
    "### Test 1"
   ],
   "metadata": {
    "id": "_2k7syleqQqo"
   }
  },
  {
   "cell_type": "code",
   "source": [
    "test_dir = '/content/drive/MyDrive/projects/Kidney/JPG_480/test/'\n",
    "\n",
    "classes = ['Bad', 'Good', 'Null']\n",
    "\n",
    "# Lists to store true labels and predicted labels\n",
    "true_labels = []\n",
    "pred_labels = []\n",
    "\n",
    "# Loop through the test directory\n",
    "for label in classes:\n",
    "    class_dir = os.path.join(test_dir, label)\n",
    "    for image_name in tqdm(os.listdir(class_dir)):\n",
    "        image_path = os.path.join(class_dir, image_name)\n",
    "\n",
    "        # Predict the image's class\n",
    "        result = model.predict(image_path)\n",
    "\n",
    "        # Since result is a list, extract the first element\n",
    "        result = result[0]  # Get the first (and only) result in the list\n",
    "\n",
    "        # Get the predicted class index using the top1 attribute\n",
    "        predicted_idx = result.probs.top1  # This gives the index of the highest probability class\n",
    "        predicted_class = classes[predicted_idx]\n",
    "\n",
    "        # Append the true label and predicted label\n",
    "        true_labels.append(label)\n",
    "        pred_labels.append(predicted_class)\n",
    "\n",
    "# Convert lists to numpy arrays for sklearn functions\n",
    "true_labels = np.array(true_labels)\n",
    "pred_labels = np.array(pred_labels)"
   ],
   "metadata": {
    "colab": {
     "base_uri": "https://localhost:8080/"
    },
    "id": "ozBnfkNO95kM",
    "executionInfo": {
     "status": "ok",
     "timestamp": 1728826725938,
     "user_tz": -210,
     "elapsed": 8271,
     "user": {
      "displayName": "a se",
      "userId": "15717729663052586629"
     }
    },
    "outputId": "3df89911-394f-44b2-d2c5-52ea787c2bce"
   },
   "outputs": [],
   "execution_count": null
  },
  {
   "cell_type": "code",
   "source": [
    "# Calculate Confusion Matrix with specified order\n",
    "conf_matrix = confusion_matrix(true_labels, pred_labels, labels=classes)  # Using the specified class order\n",
    "print('Confusion Matrix:')\n",
    "print(conf_matrix)\n",
    "\n",
    "# Plot Confusion Matrix with the original class labels\n",
    "plt.figure(figsize=(8, 6))\n",
    "sns.heatmap(conf_matrix, annot=True, fmt='d', cmap='Blues',\n",
    "            xticklabels=classes, yticklabels=classes,\n",
    "            cbar_kws={\"orientation\": \"vertical\"})  # Add color bar\n",
    "plt.xlabel('Predicted Label')\n",
    "plt.ylabel('True Label')\n",
    "plt.title('Confusion Matrix')\n",
    "plt.show()\n"
   ],
   "metadata": {
    "colab": {
     "base_uri": "https://localhost:8080/",
     "height": 633
    },
    "id": "l-YcMF5bEBxL",
    "executionInfo": {
     "status": "ok",
     "timestamp": 1728826726664,
     "user_tz": -210,
     "elapsed": 751,
     "user": {
      "displayName": "a se",
      "userId": "15717729663052586629"
     }
    },
    "outputId": "a153fbc3-c955-418d-e6a3-c01af38dfd86"
   },
   "outputs": [],
   "execution_count": null
  },
  {
   "cell_type": "code",
   "source": [
    "# Display Confusion Matrix\n",
    "conf_matrix = confusion_matrix(true_labels, pred_labels, labels=classes)\n",
    "print('Confusion Matrix:')\n",
    "print(conf_matrix)\n",
    "\n",
    "# Display Classification Report (includes precision, recall, F1-score)\n",
    "class_report = classification_report(true_labels, pred_labels, target_names=classes)\n",
    "print('Classification Report:')\n",
    "print(class_report)"
   ],
   "metadata": {
    "colab": {
     "base_uri": "https://localhost:8080/"
    },
    "id": "WakmOdYW_5vd",
    "executionInfo": {
     "status": "ok",
     "timestamp": 1728826733779,
     "user_tz": -210,
     "elapsed": 7,
     "user": {
      "displayName": "a se",
      "userId": "15717729663052586629"
     }
    },
    "outputId": "8dd5f5ff-5829-49c2-d5e0-998650abbc42"
   },
   "outputs": [],
   "execution_count": null
  },
  {
   "cell_type": "markdown",
   "source": [
    "### Test 2"
   ],
   "metadata": {
    "id": "VE7ud3Z0GW6a"
   }
  },
  {
   "cell_type": "code",
   "source": [
    "test_dir = '/content/drive/MyDrive/projects/Kidney/JPG_480/val/'\n",
    "\n",
    "classes = ['Bad', 'Good', 'Null']\n",
    "\n",
    "# Lists to store true labels and predicted labels\n",
    "true_labels = []\n",
    "pred_labels = []\n",
    "\n",
    "# Loop through the test directory\n",
    "for label in classes:\n",
    "    class_dir = os.path.join(test_dir, label)\n",
    "    for image_name in tqdm(os.listdir(class_dir)):\n",
    "        image_path = os.path.join(class_dir, image_name)\n",
    "\n",
    "        # Predict the image's class\n",
    "        result = model.predict(image_path)\n",
    "\n",
    "        # Since result is a list, extract the first element\n",
    "        result = result[0]  # Get the first (and only) result in the list\n",
    "\n",
    "        # Get the predicted class index using the top1 attribute\n",
    "        predicted_idx = result.probs.top1  # This gives the index of the highest probability class\n",
    "        predicted_class = classes[predicted_idx]\n",
    "\n",
    "        # Append the true label and predicted label\n",
    "        true_labels.append(label)\n",
    "        pred_labels.append(predicted_class)\n",
    "\n",
    "# Convert lists to numpy arrays for sklearn functions\n",
    "true_labels = np.array(true_labels)\n",
    "pred_labels = np.array(pred_labels)"
   ],
   "metadata": {
    "colab": {
     "base_uri": "https://localhost:8080/"
    },
    "id": "Afx4XCQTAIE1",
    "executionInfo": {
     "status": "ok",
     "timestamp": 1728826741127,
     "user_tz": -210,
     "elapsed": 4157,
     "user": {
      "displayName": "a se",
      "userId": "15717729663052586629"
     }
    },
    "outputId": "7caf2cf5-47a4-4a08-a502-f366a8a48971"
   },
   "outputs": [],
   "execution_count": null
  },
  {
   "cell_type": "code",
   "source": [
    "# Calculate Confusion Matrix with specified order\n",
    "conf_matrix = confusion_matrix(true_labels, pred_labels, labels=classes)  # Using the specified class order\n",
    "print('Confusion Matrix:')\n",
    "print(conf_matrix)\n",
    "\n",
    "# Plot Confusion Matrix with the original class labels\n",
    "plt.figure(figsize=(8, 6))\n",
    "sns.heatmap(conf_matrix, annot=True, fmt='d', cmap='Blues',\n",
    "            xticklabels=classes, yticklabels=classes,\n",
    "            cbar_kws={\"orientation\": \"vertical\"})  # Add color bar\n",
    "plt.xlabel('Predicted Label')\n",
    "plt.ylabel('True Label')\n",
    "plt.title('Confusion Matrix')\n",
    "plt.show()"
   ],
   "metadata": {
    "colab": {
     "base_uri": "https://localhost:8080/",
     "height": 633
    },
    "id": "kWuTm37zGdrq",
    "executionInfo": {
     "status": "ok",
     "timestamp": 1728826751882,
     "user_tz": -210,
     "elapsed": 649,
     "user": {
      "displayName": "a se",
      "userId": "15717729663052586629"
     }
    },
    "outputId": "ef0a8dad-e252-45bf-c779-fe19fba15195"
   },
   "outputs": [],
   "execution_count": null
  },
  {
   "cell_type": "code",
   "source": [
    "# Display Confusion Matrix\n",
    "conf_matrix = confusion_matrix(true_labels, pred_labels, labels=classes)\n",
    "print('Confusion Matrix:')\n",
    "print(conf_matrix)\n",
    "\n",
    "# Display Classification Report (includes precision, recall, F1-score)\n",
    "class_report = classification_report(true_labels, pred_labels, target_names=classes)\n",
    "print('Classification Report:')\n",
    "print(class_report)"
   ],
   "metadata": {
    "colab": {
     "base_uri": "https://localhost:8080/"
    },
    "id": "bpWwEWsxGgNL",
    "executionInfo": {
     "status": "ok",
     "timestamp": 1728826760010,
     "user_tz": -210,
     "elapsed": 803,
     "user": {
      "displayName": "a se",
      "userId": "15717729663052586629"
     }
    },
    "outputId": "8ec15279-05a5-4a65-d9ae-f979797d8db3"
   },
   "outputs": [],
   "execution_count": null
  },
  {
   "cell_type": "markdown",
   "source": [
    "### Model Evaluation"
   ],
   "metadata": {
    "id": "zDxkBzdwtZu4"
   }
  },
  {
   "cell_type": "code",
   "source": [
    "model.eval()"
   ],
   "metadata": {
    "colab": {
     "base_uri": "https://localhost:8080/"
    },
    "id": "xkF5lWdgtQqf",
    "executionInfo": {
     "status": "ok",
     "timestamp": 1728826688853,
     "user_tz": -210,
     "elapsed": 2729706,
     "user": {
      "displayName": "a se",
      "userId": "15717729663052586629"
     }
    },
    "outputId": "ffe87611-d5de-4dfc-cc64-6375663d0be5"
   },
   "outputs": [],
   "execution_count": null
  },
  {
   "cell_type": "markdown",
   "source": [
    "## TensorBoard"
   ],
   "metadata": {
    "id": "JluAVCLwb17l"
   }
  },
  {
   "cell_type": "code",
   "source": [
    "!pip install tensorboard"
   ],
   "metadata": {
    "colab": {
     "base_uri": "https://localhost:8080/"
    },
    "id": "-Q6TyqOCdlWV",
    "executionInfo": {
     "status": "ok",
     "timestamp": 1728832773235,
     "user_tz": -210,
     "elapsed": 4291,
     "user": {
      "displayName": "a se",
      "userId": "15717729663052586629"
     }
    },
    "outputId": "d8a307a8-f544-4767-ac33-052db5c84eb2"
   },
   "outputs": [],
   "execution_count": null
  },
  {
   "cell_type": "code",
   "source": [
    "\n",
    "!tensorboard --logdir /content/drive/MyDrive/projects/Kidney/All model last version/Yolo/runs/classify/train2/"
   ],
   "metadata": {
    "id": "xkh3OgBGtjub",
    "colab": {
     "base_uri": "https://localhost:8080/"
    },
    "executionInfo": {
     "status": "ok",
     "timestamp": 1728833367242,
     "user_tz": -210,
     "elapsed": 9482,
     "user": {
      "displayName": "a se",
      "userId": "15717729663052586629"
     }
    },
    "outputId": "86fdb23a-da39-4ecd-e55b-5ecfe736d613"
   },
   "outputs": [],
   "execution_count": null
  },
  {
   "cell_type": "code",
   "source": [],
   "metadata": {
    "id": "uCUaUqcCf3-3"
   },
   "outputs": [],
   "execution_count": null
  }
 ]
}
