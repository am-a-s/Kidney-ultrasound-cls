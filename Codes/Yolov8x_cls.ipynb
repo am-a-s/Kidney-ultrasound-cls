{
  "cells": [
    {
      "cell_type": "markdown",
      "metadata": {
        "id": "J8pmHeo5YFMC"
      },
      "source": [
        "##Pre Train"
      ]
    },
    {
      "cell_type": "code",
      "execution_count": 1,
      "metadata": {
        "colab": {
          "base_uri": "https://localhost:8080/"
        },
        "id": "V8waYjBXieVt",
        "outputId": "8facabbe-f024-45df-f385-ce14cce33e5f"
      },
      "outputs": [
        {
          "name": "stdout",
          "output_type": "stream",
          "text": [
            "Collecting ultralytics\n",
            "  Downloading ultralytics-8.3.162-py3-none-any.whl.metadata (37 kB)\n",
            "Requirement already satisfied: numpy>=1.23.0 in /usr/local/lib/python3.11/dist-packages (from ultralytics) (2.0.2)\n",
            "Requirement already satisfied: matplotlib>=3.3.0 in /usr/local/lib/python3.11/dist-packages (from ultralytics) (3.10.0)\n",
            "Requirement already satisfied: opencv-python>=4.6.0 in /usr/local/lib/python3.11/dist-packages (from ultralytics) (4.11.0.86)\n",
            "Requirement already satisfied: pillow>=7.1.2 in /usr/local/lib/python3.11/dist-packages (from ultralytics) (11.2.1)\n",
            "Requirement already satisfied: pyyaml>=5.3.1 in /usr/local/lib/python3.11/dist-packages (from ultralytics) (6.0.2)\n",
            "Requirement already satisfied: requests>=2.23.0 in /usr/local/lib/python3.11/dist-packages (from ultralytics) (2.32.3)\n",
            "Requirement already satisfied: scipy>=1.4.1 in /usr/local/lib/python3.11/dist-packages (from ultralytics) (1.15.3)\n",
            "Requirement already satisfied: torch>=1.8.0 in /usr/local/lib/python3.11/dist-packages (from ultralytics) (2.6.0+cu124)\n",
            "Requirement already satisfied: torchvision>=0.9.0 in /usr/local/lib/python3.11/dist-packages (from ultralytics) (0.21.0+cu124)\n",
            "Requirement already satisfied: tqdm>=4.64.0 in /usr/local/lib/python3.11/dist-packages (from ultralytics) (4.67.1)\n",
            "Requirement already satisfied: psutil in /usr/local/lib/python3.11/dist-packages (from ultralytics) (5.9.5)\n",
            "Requirement already satisfied: py-cpuinfo in /usr/local/lib/python3.11/dist-packages (from ultralytics) (9.0.0)\n",
            "Requirement already satisfied: pandas>=1.1.4 in /usr/local/lib/python3.11/dist-packages (from ultralytics) (2.2.2)\n",
            "Collecting ultralytics-thop>=2.0.0 (from ultralytics)\n",
            "  Downloading ultralytics_thop-2.0.14-py3-none-any.whl.metadata (9.4 kB)\n",
            "Requirement already satisfied: contourpy>=1.0.1 in /usr/local/lib/python3.11/dist-packages (from matplotlib>=3.3.0->ultralytics) (1.3.2)\n",
            "Requirement already satisfied: cycler>=0.10 in /usr/local/lib/python3.11/dist-packages (from matplotlib>=3.3.0->ultralytics) (0.12.1)\n",
            "Requirement already satisfied: fonttools>=4.22.0 in /usr/local/lib/python3.11/dist-packages (from matplotlib>=3.3.0->ultralytics) (4.58.4)\n",
            "Requirement already satisfied: kiwisolver>=1.3.1 in /usr/local/lib/python3.11/dist-packages (from matplotlib>=3.3.0->ultralytics) (1.4.8)\n",
            "Requirement already satisfied: packaging>=20.0 in /usr/local/lib/python3.11/dist-packages (from matplotlib>=3.3.0->ultralytics) (24.2)\n",
            "Requirement already satisfied: pyparsing>=2.3.1 in /usr/local/lib/python3.11/dist-packages (from matplotlib>=3.3.0->ultralytics) (3.2.3)\n",
            "Requirement already satisfied: python-dateutil>=2.7 in /usr/local/lib/python3.11/dist-packages (from matplotlib>=3.3.0->ultralytics) (2.9.0.post0)\n",
            "Requirement already satisfied: pytz>=2020.1 in /usr/local/lib/python3.11/dist-packages (from pandas>=1.1.4->ultralytics) (2025.2)\n",
            "Requirement already satisfied: tzdata>=2022.7 in /usr/local/lib/python3.11/dist-packages (from pandas>=1.1.4->ultralytics) (2025.2)\n",
            "Requirement already satisfied: charset-normalizer<4,>=2 in /usr/local/lib/python3.11/dist-packages (from requests>=2.23.0->ultralytics) (3.4.2)\n",
            "Requirement already satisfied: idna<4,>=2.5 in /usr/local/lib/python3.11/dist-packages (from requests>=2.23.0->ultralytics) (3.10)\n",
            "Requirement already satisfied: urllib3<3,>=1.21.1 in /usr/local/lib/python3.11/dist-packages (from requests>=2.23.0->ultralytics) (2.4.0)\n",
            "Requirement already satisfied: certifi>=2017.4.17 in /usr/local/lib/python3.11/dist-packages (from requests>=2.23.0->ultralytics) (2025.6.15)\n",
            "Requirement already satisfied: filelock in /usr/local/lib/python3.11/dist-packages (from torch>=1.8.0->ultralytics) (3.18.0)\n",
            "Requirement already satisfied: typing-extensions>=4.10.0 in /usr/local/lib/python3.11/dist-packages (from torch>=1.8.0->ultralytics) (4.14.0)\n",
            "Requirement already satisfied: networkx in /usr/local/lib/python3.11/dist-packages (from torch>=1.8.0->ultralytics) (3.5)\n",
            "Requirement already satisfied: jinja2 in /usr/local/lib/python3.11/dist-packages (from torch>=1.8.0->ultralytics) (3.1.6)\n",
            "Requirement already satisfied: fsspec in /usr/local/lib/python3.11/dist-packages (from torch>=1.8.0->ultralytics) (2025.3.2)\n",
            "Collecting nvidia-cuda-nvrtc-cu12==12.4.127 (from torch>=1.8.0->ultralytics)\n",
            "  Downloading nvidia_cuda_nvrtc_cu12-12.4.127-py3-none-manylinux2014_x86_64.whl.metadata (1.5 kB)\n",
            "Collecting nvidia-cuda-runtime-cu12==12.4.127 (from torch>=1.8.0->ultralytics)\n",
            "  Downloading nvidia_cuda_runtime_cu12-12.4.127-py3-none-manylinux2014_x86_64.whl.metadata (1.5 kB)\n",
            "Collecting nvidia-cuda-cupti-cu12==12.4.127 (from torch>=1.8.0->ultralytics)\n",
            "  Downloading nvidia_cuda_cupti_cu12-12.4.127-py3-none-manylinux2014_x86_64.whl.metadata (1.6 kB)\n",
            "Collecting nvidia-cudnn-cu12==9.1.0.70 (from torch>=1.8.0->ultralytics)\n",
            "  Downloading nvidia_cudnn_cu12-9.1.0.70-py3-none-manylinux2014_x86_64.whl.metadata (1.6 kB)\n",
            "Collecting nvidia-cublas-cu12==12.4.5.8 (from torch>=1.8.0->ultralytics)\n",
            "  Downloading nvidia_cublas_cu12-12.4.5.8-py3-none-manylinux2014_x86_64.whl.metadata (1.5 kB)\n",
            "Collecting nvidia-cufft-cu12==11.2.1.3 (from torch>=1.8.0->ultralytics)\n",
            "  Downloading nvidia_cufft_cu12-11.2.1.3-py3-none-manylinux2014_x86_64.whl.metadata (1.5 kB)\n",
            "Collecting nvidia-curand-cu12==10.3.5.147 (from torch>=1.8.0->ultralytics)\n",
            "  Downloading nvidia_curand_cu12-10.3.5.147-py3-none-manylinux2014_x86_64.whl.metadata (1.5 kB)\n",
            "Collecting nvidia-cusolver-cu12==11.6.1.9 (from torch>=1.8.0->ultralytics)\n",
            "  Downloading nvidia_cusolver_cu12-11.6.1.9-py3-none-manylinux2014_x86_64.whl.metadata (1.6 kB)\n",
            "Collecting nvidia-cusparse-cu12==12.3.1.170 (from torch>=1.8.0->ultralytics)\n",
            "  Downloading nvidia_cusparse_cu12-12.3.1.170-py3-none-manylinux2014_x86_64.whl.metadata (1.6 kB)\n",
            "Requirement already satisfied: nvidia-cusparselt-cu12==0.6.2 in /usr/local/lib/python3.11/dist-packages (from torch>=1.8.0->ultralytics) (0.6.2)\n",
            "Requirement already satisfied: nvidia-nccl-cu12==2.21.5 in /usr/local/lib/python3.11/dist-packages (from torch>=1.8.0->ultralytics) (2.21.5)\n",
            "Requirement already satisfied: nvidia-nvtx-cu12==12.4.127 in /usr/local/lib/python3.11/dist-packages (from torch>=1.8.0->ultralytics) (12.4.127)\n",
            "Collecting nvidia-nvjitlink-cu12==12.4.127 (from torch>=1.8.0->ultralytics)\n",
            "  Downloading nvidia_nvjitlink_cu12-12.4.127-py3-none-manylinux2014_x86_64.whl.metadata (1.5 kB)\n",
            "Requirement already satisfied: triton==3.2.0 in /usr/local/lib/python3.11/dist-packages (from torch>=1.8.0->ultralytics) (3.2.0)\n",
            "Requirement already satisfied: sympy==1.13.1 in /usr/local/lib/python3.11/dist-packages (from torch>=1.8.0->ultralytics) (1.13.1)\n",
            "Requirement already satisfied: mpmath<1.4,>=1.1.0 in /usr/local/lib/python3.11/dist-packages (from sympy==1.13.1->torch>=1.8.0->ultralytics) (1.3.0)\n",
            "Requirement already satisfied: six>=1.5 in /usr/local/lib/python3.11/dist-packages (from python-dateutil>=2.7->matplotlib>=3.3.0->ultralytics) (1.17.0)\n",
            "Requirement already satisfied: MarkupSafe>=2.0 in /usr/local/lib/python3.11/dist-packages (from jinja2->torch>=1.8.0->ultralytics) (3.0.2)\n",
            "Downloading ultralytics-8.3.162-py3-none-any.whl (1.0 MB)\n",
            "\u001b[2K   \u001b[90m━━━━━━━━━━━━━━━━━━━━━━━━━━━━━━━━━━━━━━━━\u001b[0m \u001b[32m1.0/1.0 MB\u001b[0m \u001b[31m21.0 MB/s\u001b[0m eta \u001b[36m0:00:00\u001b[0m\n",
            "\u001b[?25hDownloading nvidia_cublas_cu12-12.4.5.8-py3-none-manylinux2014_x86_64.whl (363.4 MB)\n",
            "\u001b[2K   \u001b[90m━━━━━━━━━━━━━━━━━━━━━━━━━━━━━━━━━━━━━━━━\u001b[0m \u001b[32m363.4/363.4 MB\u001b[0m \u001b[31m4.4 MB/s\u001b[0m eta \u001b[36m0:00:00\u001b[0m\n",
            "\u001b[?25hDownloading nvidia_cuda_cupti_cu12-12.4.127-py3-none-manylinux2014_x86_64.whl (13.8 MB)\n",
            "\u001b[2K   \u001b[90m━━━━━━━━━━━━━━━━━━━━━━━━━━━━━━━━━━━━━━━━\u001b[0m \u001b[32m13.8/13.8 MB\u001b[0m \u001b[31m65.5 MB/s\u001b[0m eta \u001b[36m0:00:00\u001b[0m\n",
            "\u001b[?25hDownloading nvidia_cuda_nvrtc_cu12-12.4.127-py3-none-manylinux2014_x86_64.whl (24.6 MB)\n",
            "\u001b[2K   \u001b[90m━━━━━━━━━━━━━━━━━━━━━━━━━━━━━━━━━━━━━━━━\u001b[0m \u001b[32m24.6/24.6 MB\u001b[0m \u001b[31m62.4 MB/s\u001b[0m eta \u001b[36m0:00:00\u001b[0m\n",
            "\u001b[?25hDownloading nvidia_cuda_runtime_cu12-12.4.127-py3-none-manylinux2014_x86_64.whl (883 kB)\n",
            "\u001b[2K   \u001b[90m━━━━━━━━━━━━━━━━━━━━━━━━━━━━━━━━━━━━━━━━\u001b[0m \u001b[32m883.7/883.7 kB\u001b[0m \u001b[31m29.5 MB/s\u001b[0m eta \u001b[36m0:00:00\u001b[0m\n",
            "\u001b[?25hDownloading nvidia_cudnn_cu12-9.1.0.70-py3-none-manylinux2014_x86_64.whl (664.8 MB)\n",
            "\u001b[2K   \u001b[90m━━━━━━━━━━━━━━━━━━━━━━━━━━━━━━━━━━━━━━━━\u001b[0m \u001b[32m664.8/664.8 MB\u001b[0m \u001b[31m1.2 MB/s\u001b[0m eta \u001b[36m0:00:00\u001b[0m\n",
            "\u001b[?25hDownloading nvidia_cufft_cu12-11.2.1.3-py3-none-manylinux2014_x86_64.whl (211.5 MB)\n",
            "\u001b[2K   \u001b[90m━━━━━━━━━━━━━━━━━━━━━━━━━━━━━━━━━━━━━━━━\u001b[0m \u001b[32m211.5/211.5 MB\u001b[0m \u001b[31m5.5 MB/s\u001b[0m eta \u001b[36m0:00:00\u001b[0m\n",
            "\u001b[?25hDownloading nvidia_curand_cu12-10.3.5.147-py3-none-manylinux2014_x86_64.whl (56.3 MB)\n",
            "\u001b[2K   \u001b[90m━━━━━━━━━━━━━━━━━━━━━━━━━━━━━━━━━━━━━━━━\u001b[0m \u001b[32m56.3/56.3 MB\u001b[0m \u001b[31m17.1 MB/s\u001b[0m eta \u001b[36m0:00:00\u001b[0m\n",
            "\u001b[?25hDownloading nvidia_cusolver_cu12-11.6.1.9-py3-none-manylinux2014_x86_64.whl (127.9 MB)\n",
            "\u001b[2K   \u001b[90m━━━━━━━━━━━━━━━━━━━━━━━━━━━━━━━━━━━━━━━━\u001b[0m \u001b[32m127.9/127.9 MB\u001b[0m \u001b[31m7.6 MB/s\u001b[0m eta \u001b[36m0:00:00\u001b[0m\n",
            "\u001b[?25hDownloading nvidia_cusparse_cu12-12.3.1.170-py3-none-manylinux2014_x86_64.whl (207.5 MB)\n",
            "\u001b[2K   \u001b[90m━━━━━━━━━━━━━━━━━━━━━━━━━━━━━━━━━━━━━━━━\u001b[0m \u001b[32m207.5/207.5 MB\u001b[0m \u001b[31m5.4 MB/s\u001b[0m eta \u001b[36m0:00:00\u001b[0m\n",
            "\u001b[?25hDownloading nvidia_nvjitlink_cu12-12.4.127-py3-none-manylinux2014_x86_64.whl (21.1 MB)\n",
            "\u001b[2K   \u001b[90m━━━━━━━━━━━━━━━━━━━━━━━━━━━━━━━━━━━━━━━━\u001b[0m \u001b[32m21.1/21.1 MB\u001b[0m \u001b[31m43.0 MB/s\u001b[0m eta \u001b[36m0:00:00\u001b[0m\n",
            "\u001b[?25hDownloading ultralytics_thop-2.0.14-py3-none-any.whl (26 kB)\n",
            "Installing collected packages: nvidia-nvjitlink-cu12, nvidia-curand-cu12, nvidia-cufft-cu12, nvidia-cuda-runtime-cu12, nvidia-cuda-nvrtc-cu12, nvidia-cuda-cupti-cu12, nvidia-cublas-cu12, nvidia-cusparse-cu12, nvidia-cudnn-cu12, nvidia-cusolver-cu12, ultralytics-thop, ultralytics\n",
            "  Attempting uninstall: nvidia-nvjitlink-cu12\n",
            "    Found existing installation: nvidia-nvjitlink-cu12 12.5.82\n",
            "    Uninstalling nvidia-nvjitlink-cu12-12.5.82:\n",
            "      Successfully uninstalled nvidia-nvjitlink-cu12-12.5.82\n",
            "  Attempting uninstall: nvidia-curand-cu12\n",
            "    Found existing installation: nvidia-curand-cu12 10.3.6.82\n",
            "    Uninstalling nvidia-curand-cu12-10.3.6.82:\n",
            "      Successfully uninstalled nvidia-curand-cu12-10.3.6.82\n",
            "  Attempting uninstall: nvidia-cufft-cu12\n",
            "    Found existing installation: nvidia-cufft-cu12 11.2.3.61\n",
            "    Uninstalling nvidia-cufft-cu12-11.2.3.61:\n",
            "      Successfully uninstalled nvidia-cufft-cu12-11.2.3.61\n",
            "  Attempting uninstall: nvidia-cuda-runtime-cu12\n",
            "    Found existing installation: nvidia-cuda-runtime-cu12 12.5.82\n",
            "    Uninstalling nvidia-cuda-runtime-cu12-12.5.82:\n",
            "      Successfully uninstalled nvidia-cuda-runtime-cu12-12.5.82\n",
            "  Attempting uninstall: nvidia-cuda-nvrtc-cu12\n",
            "    Found existing installation: nvidia-cuda-nvrtc-cu12 12.5.82\n",
            "    Uninstalling nvidia-cuda-nvrtc-cu12-12.5.82:\n",
            "      Successfully uninstalled nvidia-cuda-nvrtc-cu12-12.5.82\n",
            "  Attempting uninstall: nvidia-cuda-cupti-cu12\n",
            "    Found existing installation: nvidia-cuda-cupti-cu12 12.5.82\n",
            "    Uninstalling nvidia-cuda-cupti-cu12-12.5.82:\n",
            "      Successfully uninstalled nvidia-cuda-cupti-cu12-12.5.82\n",
            "  Attempting uninstall: nvidia-cublas-cu12\n",
            "    Found existing installation: nvidia-cublas-cu12 12.5.3.2\n",
            "    Uninstalling nvidia-cublas-cu12-12.5.3.2:\n",
            "      Successfully uninstalled nvidia-cublas-cu12-12.5.3.2\n",
            "  Attempting uninstall: nvidia-cusparse-cu12\n",
            "    Found existing installation: nvidia-cusparse-cu12 12.5.1.3\n",
            "    Uninstalling nvidia-cusparse-cu12-12.5.1.3:\n",
            "      Successfully uninstalled nvidia-cusparse-cu12-12.5.1.3\n",
            "  Attempting uninstall: nvidia-cudnn-cu12\n",
            "    Found existing installation: nvidia-cudnn-cu12 9.3.0.75\n",
            "    Uninstalling nvidia-cudnn-cu12-9.3.0.75:\n",
            "      Successfully uninstalled nvidia-cudnn-cu12-9.3.0.75\n",
            "  Attempting uninstall: nvidia-cusolver-cu12\n",
            "    Found existing installation: nvidia-cusolver-cu12 11.6.3.83\n",
            "    Uninstalling nvidia-cusolver-cu12-11.6.3.83:\n",
            "      Successfully uninstalled nvidia-cusolver-cu12-11.6.3.83\n",
            "Successfully installed nvidia-cublas-cu12-12.4.5.8 nvidia-cuda-cupti-cu12-12.4.127 nvidia-cuda-nvrtc-cu12-12.4.127 nvidia-cuda-runtime-cu12-12.4.127 nvidia-cudnn-cu12-9.1.0.70 nvidia-cufft-cu12-11.2.1.3 nvidia-curand-cu12-10.3.5.147 nvidia-cusolver-cu12-11.6.1.9 nvidia-cusparse-cu12-12.3.1.170 nvidia-nvjitlink-cu12-12.4.127 ultralytics-8.3.162 ultralytics-thop-2.0.14\n"
          ]
        }
      ],
      "source": [
        "!pip install ultralytics"
      ]
    },
    {
      "cell_type": "code",
      "execution_count": 2,
      "metadata": {
        "colab": {
          "base_uri": "https://localhost:8080/"
        },
        "id": "bkeGRleqAQEl",
        "outputId": "737b7297-2a7d-453d-bdcb-cfb7ba15f634"
      },
      "outputs": [
        {
          "name": "stdout",
          "output_type": "stream",
          "text": [
            "Creating new Ultralytics Settings v0.0.6 file ✅ \n",
            "View Ultralytics Settings with 'yolo settings' or at '/root/.config/Ultralytics/settings.json'\n",
            "Update Settings with 'yolo settings key=value', i.e. 'yolo settings runs_dir=path/to/dir'. For help see https://docs.ultralytics.com/quickstart/#ultralytics-settings.\n"
          ]
        }
      ],
      "source": [
        "import os\n",
        "import numpy as np\n",
        "from sklearn.metrics import accuracy_score, confusion_matrix, classification_report\n",
        "from tqdm import tqdm\n",
        "import matplotlib.pyplot as plt\n",
        "import seaborn as sns\n",
        "from ultralytics import YOLO"
      ]
    },
    {
      "cell_type": "code",
      "execution_count": 3,
      "metadata": {
        "colab": {
          "base_uri": "https://localhost:8080/"
        },
        "id": "B31QXd1Mh_gA",
        "outputId": "ed639d4f-c8fb-458b-e7fa-c2a0f97f35a7"
      },
      "outputs": [
        {
          "name": "stdout",
          "output_type": "stream",
          "text": [
            "Mounted at /content/drive\n"
          ]
        }
      ],
      "source": [
        "from google.colab import drive\n",
        "drive.mount('/content/drive')"
      ]
    },
    {
      "cell_type": "code",
      "execution_count": 4,
      "metadata": {
        "id": "QSCReIbkiOxu"
      },
      "outputs": [],
      "source": [
        "data_path = '/content/drive/MyDrive/projects/SecondTry/Folds/fold_5'"
      ]
    },
    {
      "cell_type": "code",
      "execution_count": 5,
      "metadata": {
        "colab": {
          "base_uri": "https://localhost:8080/"
        },
        "id": "ZxByEexCievg",
        "outputId": "bbc74a55-f561-4aaa-edc5-c8bc5ada73ed"
      },
      "outputs": [
        {
          "name": "stdout",
          "output_type": "stream",
          "text": [
            "/content/drive/MyDrive/projects/SecondTry/All model last version/Yolo\n"
          ]
        }
      ],
      "source": [
        "%cd {'/content/drive/MyDrive/projects/SecondTry/All model last version/Yolo'}"
      ]
    },
    {
      "cell_type": "markdown",
      "metadata": {
        "id": "vu8lyd8hX_cM"
      },
      "source": [
        "## Train"
      ]
    },
    {
      "cell_type": "code",
      "execution_count": null,
      "metadata": {
        "colab": {
          "base_uri": "https://localhost:8080/"
        },
        "id": "V13-KaByioQV",
        "outputId": "5a165f14-1d9c-4228-c014-fbfc36848335"
      },
      "outputs": [
        {
          "name": "stdout",
          "output_type": "stream",
          "text": [
            "Ultralytics 8.3.9 🚀 Python-3.10.12 torch-2.4.1+cu121 CUDA:0 (Tesla T4, 15102MiB)\n",
            "\u001b[34m\u001b[1mengine/trainer: \u001b[0mtask=classify, mode=train, model=yolov8x-cls.pt, data=/content/drive/MyDrive/projects/SecondTry/Folds/fold_5, epochs=15, time=None, patience=100, batch=32, imgsz=240, save=True, save_period=-1, cache=False, device=None, workers=8, project=None, name=train6, exist_ok=False, pretrained=True, optimizer=auto, verbose=True, seed=0, deterministic=True, single_cls=False, rect=False, cos_lr=False, close_mosaic=10, resume=False, amp=True, fraction=1.0, profile=False, freeze=None, multi_scale=False, overlap_mask=True, mask_ratio=4, dropout=0.0, val=True, split=val, save_json=False, save_hybrid=False, conf=None, iou=0.7, max_det=300, half=False, dnn=False, plots=True, source=None, vid_stride=1, stream_buffer=False, visualize=False, augment=False, agnostic_nms=False, classes=None, retina_masks=False, embed=None, show=False, save_frames=False, save_txt=False, save_conf=False, save_crop=False, show_labels=True, show_conf=True, show_boxes=True, line_width=None, format=torchscript, keras=False, optimize=False, int8=False, dynamic=False, simplify=True, opset=None, workspace=4, nms=False, lr0=0.01, lrf=0.01, momentum=0.937, weight_decay=0.0005, warmup_epochs=3.0, warmup_momentum=0.8, warmup_bias_lr=0.1, box=7.5, cls=0.5, dfl=1.5, pose=12.0, kobj=1.0, label_smoothing=0.0, nbs=64, hsv_h=0.015, hsv_s=0.7, hsv_v=0.4, degrees=0.0, translate=0.1, scale=0.5, shear=0.0, perspective=0.0, flipud=0.0, fliplr=0.5, bgr=0.0, mosaic=1.0, mixup=0.0, copy_paste=0.0, copy_paste_mode=flip, auto_augment=randaugment, erasing=0.4, crop_fraction=1.0, cfg=None, tracker=botsort.yaml, save_dir=runs/classify/train6\n",
            "\u001b[34m\u001b[1mtrain:\u001b[0m /content/drive/MyDrive/projects/SecondTry/Folds/fold_5/train... found 963 images in 3 classes ✅ \n",
            "\u001b[34m\u001b[1mval:\u001b[0m /content/drive/MyDrive/projects/SecondTry/Folds/fold_5/val... found 240 images in 3 classes ✅ \n",
            "\u001b[34m\u001b[1mtest:\u001b[0m None...\n",
            "Overriding model.yaml nc=1000 with nc=3\n",
            "\n",
            "                   from  n    params  module                                       arguments                     \n",
            "  0                  -1  1      2320  ultralytics.nn.modules.conv.Conv             [3, 80, 3, 2]                 \n",
            "  1                  -1  1    115520  ultralytics.nn.modules.conv.Conv             [80, 160, 3, 2]               \n",
            "  2                  -1  3    436800  ultralytics.nn.modules.block.C2f             [160, 160, 3, True]           \n",
            "  3                  -1  1    461440  ultralytics.nn.modules.conv.Conv             [160, 320, 3, 2]              \n",
            "  4                  -1  6   3281920  ultralytics.nn.modules.block.C2f             [320, 320, 6, True]           \n",
            "  5                  -1  1   1844480  ultralytics.nn.modules.conv.Conv             [320, 640, 3, 2]              \n",
            "  6                  -1  6  13117440  ultralytics.nn.modules.block.C2f             [640, 640, 6, True]           \n",
            "  7                  -1  1   7375360  ultralytics.nn.modules.conv.Conv             [640, 1280, 3, 2]             \n",
            "  8                  -1  3  27865600  ultralytics.nn.modules.block.C2f             [1280, 1280, 3, True]         \n",
            "  9                  -1  1   1644803  ultralytics.nn.modules.head.Classify         [1280, 3]                     \n",
            "YOLOv8x-cls summary: 183 layers, 56,145,683 parameters, 56,145,683 gradients, 154.3 GFLOPs\n",
            "Transferred 300/302 items from pretrained weights\n",
            "\u001b[34m\u001b[1mTensorBoard: \u001b[0mStart with 'tensorboard --logdir runs/classify/train6', view at http://localhost:6006/\n",
            "\u001b[34m\u001b[1mAMP: \u001b[0mrunning Automatic Mixed Precision (AMP) checks with YOLO11n...\n",
            "\u001b[34m\u001b[1mAMP: \u001b[0mchecks passed ✅\n",
            "WARNING ⚠️ imgsz=[240] must be multiple of max stride 32, updating to [256]\n"
          ]
        },
        {
          "name": "stderr",
          "output_type": "stream",
          "text": [
            "\u001b[34m\u001b[1mtrain: \u001b[0mScanning /content/drive/MyDrive/projects/SecondTry/Folds/fold_5/train... 963 images, 0 corrupt: 100%|██████████| 963/963 [01:55<00:00,  8.36it/s]\n"
          ]
        },
        {
          "name": "stdout",
          "output_type": "stream",
          "text": [
            "\u001b[34m\u001b[1mtrain: \u001b[0mNew cache created: /content/drive/MyDrive/projects/SecondTry/Folds/fold_5/train.cache\n"
          ]
        },
        {
          "name": "stderr",
          "output_type": "stream",
          "text": [
            "\u001b[34m\u001b[1mval: \u001b[0mScanning /content/drive/MyDrive/projects/SecondTry/Folds/fold_5/val... 240 images, 0 corrupt: 100%|██████████| 240/240 [00:38<00:00,  6.31it/s]\n"
          ]
        },
        {
          "name": "stdout",
          "output_type": "stream",
          "text": [
            "\u001b[34m\u001b[1mval: \u001b[0mNew cache created: /content/drive/MyDrive/projects/SecondTry/Folds/fold_5/val.cache\n",
            "\u001b[34m\u001b[1moptimizer:\u001b[0m 'optimizer=auto' found, ignoring 'lr0=0.01' and 'momentum=0.937' and determining best 'optimizer', 'lr0' and 'momentum' automatically... \n",
            "\u001b[34m\u001b[1moptimizer:\u001b[0m AdamW(lr=0.000714, momentum=0.9) with parameter groups 50 weight(decay=0.0), 51 weight(decay=0.0005), 51 bias(decay=0.0)\n",
            "\u001b[34m\u001b[1mTensorBoard: \u001b[0mmodel graph visualization added ✅\n",
            "Image sizes 256 train, 256 val\n",
            "Using 2 dataloader workers\n",
            "Logging results to \u001b[1mruns/classify/train6\u001b[0m\n",
            "Starting training for 15 epochs...\n",
            "\n",
            "      Epoch    GPU_mem       loss  Instances       Size\n"
          ]
        },
        {
          "name": "stderr",
          "output_type": "stream",
          "text": [
            "       1/15      5.03G     0.9929          3        256: 100%|██████████| 31/31 [00:16<00:00,  1.83it/s]\n",
            "               classes   top1_acc   top5_acc: 100%|██████████| 4/4 [00:00<00:00,  6.68it/s]"
          ]
        },
        {
          "name": "stdout",
          "output_type": "stream",
          "text": [
            "                   all      0.738          1\n"
          ]
        },
        {
          "name": "stderr",
          "output_type": "stream",
          "text": [
            "\n"
          ]
        },
        {
          "name": "stdout",
          "output_type": "stream",
          "text": [
            "\n",
            "      Epoch    GPU_mem       loss  Instances       Size\n"
          ]
        },
        {
          "name": "stderr",
          "output_type": "stream",
          "text": [
            "       2/15      4.07G     0.4389          3        256: 100%|██████████| 31/31 [00:16<00:00,  1.87it/s]\n",
            "               classes   top1_acc   top5_acc: 100%|██████████| 4/4 [00:00<00:00,  6.77it/s]"
          ]
        },
        {
          "name": "stdout",
          "output_type": "stream",
          "text": [
            "                   all      0.879          1\n"
          ]
        },
        {
          "name": "stderr",
          "output_type": "stream",
          "text": [
            "\n"
          ]
        },
        {
          "name": "stdout",
          "output_type": "stream",
          "text": [
            "\n",
            "      Epoch    GPU_mem       loss  Instances       Size\n"
          ]
        },
        {
          "name": "stderr",
          "output_type": "stream",
          "text": [
            "       3/15      4.05G     0.2755          3        256: 100%|██████████| 31/31 [00:18<00:00,  1.69it/s]\n",
            "               classes   top1_acc   top5_acc: 100%|██████████| 4/4 [00:00<00:00,  6.31it/s]"
          ]
        },
        {
          "name": "stdout",
          "output_type": "stream",
          "text": [
            "                   all      0.796          1\n"
          ]
        },
        {
          "name": "stderr",
          "output_type": "stream",
          "text": [
            "\n"
          ]
        },
        {
          "name": "stdout",
          "output_type": "stream",
          "text": [
            "\n",
            "      Epoch    GPU_mem       loss  Instances       Size\n"
          ]
        },
        {
          "name": "stderr",
          "output_type": "stream",
          "text": [
            "       4/15      4.19G     0.2297          3        256: 100%|██████████| 31/31 [00:17<00:00,  1.82it/s]\n",
            "               classes   top1_acc   top5_acc: 100%|██████████| 4/4 [00:00<00:00,  6.50it/s]"
          ]
        },
        {
          "name": "stdout",
          "output_type": "stream",
          "text": [
            "                   all      0.846          1\n"
          ]
        },
        {
          "name": "stderr",
          "output_type": "stream",
          "text": [
            "\n"
          ]
        },
        {
          "name": "stdout",
          "output_type": "stream",
          "text": [
            "\n",
            "      Epoch    GPU_mem       loss  Instances       Size\n"
          ]
        },
        {
          "name": "stderr",
          "output_type": "stream",
          "text": [
            "       5/15      4.05G     0.2272          3        256: 100%|██████████| 31/31 [00:16<00:00,  1.85it/s]\n",
            "               classes   top1_acc   top5_acc: 100%|██████████| 4/4 [00:00<00:00,  6.61it/s]"
          ]
        },
        {
          "name": "stdout",
          "output_type": "stream",
          "text": [
            "                   all      0.837          1\n"
          ]
        },
        {
          "name": "stderr",
          "output_type": "stream",
          "text": [
            "\n"
          ]
        },
        {
          "name": "stdout",
          "output_type": "stream",
          "text": [
            "\n",
            "      Epoch    GPU_mem       loss  Instances       Size\n"
          ]
        },
        {
          "name": "stderr",
          "output_type": "stream",
          "text": [
            "       6/15      4.19G     0.1545          3        256: 100%|██████████| 31/31 [00:21<00:00,  1.42it/s]\n",
            "               classes   top1_acc   top5_acc: 100%|██████████| 4/4 [00:00<00:00,  5.90it/s]"
          ]
        },
        {
          "name": "stdout",
          "output_type": "stream",
          "text": [
            "                   all      0.812          1\n"
          ]
        },
        {
          "name": "stderr",
          "output_type": "stream",
          "text": [
            "\n"
          ]
        },
        {
          "name": "stdout",
          "output_type": "stream",
          "text": [
            "\n",
            "      Epoch    GPU_mem       loss  Instances       Size\n"
          ]
        },
        {
          "name": "stderr",
          "output_type": "stream",
          "text": [
            "       7/15      4.05G     0.1836          3        256: 100%|██████████| 31/31 [00:16<00:00,  1.86it/s]\n",
            "               classes   top1_acc   top5_acc: 100%|██████████| 4/4 [00:00<00:00,  6.80it/s]"
          ]
        },
        {
          "name": "stdout",
          "output_type": "stream",
          "text": [
            "                   all      0.842          1\n"
          ]
        },
        {
          "name": "stderr",
          "output_type": "stream",
          "text": [
            "\n"
          ]
        },
        {
          "name": "stdout",
          "output_type": "stream",
          "text": [
            "\n",
            "      Epoch    GPU_mem       loss  Instances       Size\n"
          ]
        },
        {
          "name": "stderr",
          "output_type": "stream",
          "text": [
            "       8/15      4.19G    0.09498          3        256: 100%|██████████| 31/31 [00:15<00:00,  1.96it/s]\n",
            "               classes   top1_acc   top5_acc: 100%|██████████| 4/4 [00:00<00:00,  6.12it/s]"
          ]
        },
        {
          "name": "stdout",
          "output_type": "stream",
          "text": [
            "                   all      0.817          1\n"
          ]
        },
        {
          "name": "stderr",
          "output_type": "stream",
          "text": [
            "\n"
          ]
        },
        {
          "name": "stdout",
          "output_type": "stream",
          "text": [
            "\n",
            "      Epoch    GPU_mem       loss  Instances       Size\n"
          ]
        },
        {
          "name": "stderr",
          "output_type": "stream",
          "text": [
            "       9/15      4.05G     0.1556          3        256: 100%|██████████| 31/31 [00:17<00:00,  1.82it/s]\n",
            "               classes   top1_acc   top5_acc: 100%|██████████| 4/4 [00:00<00:00,  6.59it/s]"
          ]
        },
        {
          "name": "stdout",
          "output_type": "stream",
          "text": [
            "                   all      0.833          1\n"
          ]
        },
        {
          "name": "stderr",
          "output_type": "stream",
          "text": [
            "\n"
          ]
        },
        {
          "name": "stdout",
          "output_type": "stream",
          "text": [
            "\n",
            "      Epoch    GPU_mem       loss  Instances       Size\n"
          ]
        },
        {
          "name": "stderr",
          "output_type": "stream",
          "text": [
            "      10/15      4.17G    0.08502          3        256: 100%|██████████| 31/31 [00:16<00:00,  1.84it/s]\n",
            "               classes   top1_acc   top5_acc: 100%|██████████| 4/4 [00:00<00:00,  6.54it/s]"
          ]
        },
        {
          "name": "stdout",
          "output_type": "stream",
          "text": [
            "                   all      0.842          1\n"
          ]
        },
        {
          "name": "stderr",
          "output_type": "stream",
          "text": [
            "\n"
          ]
        },
        {
          "name": "stdout",
          "output_type": "stream",
          "text": [
            "\n",
            "      Epoch    GPU_mem       loss  Instances       Size\n"
          ]
        },
        {
          "name": "stderr",
          "output_type": "stream",
          "text": [
            "      11/15      4.05G     0.1005          3        256: 100%|██████████| 31/31 [00:17<00:00,  1.79it/s]\n",
            "               classes   top1_acc   top5_acc: 100%|██████████| 4/4 [00:00<00:00,  6.55it/s]"
          ]
        },
        {
          "name": "stdout",
          "output_type": "stream",
          "text": [
            "                   all      0.842          1\n"
          ]
        },
        {
          "name": "stderr",
          "output_type": "stream",
          "text": [
            "\n"
          ]
        },
        {
          "name": "stdout",
          "output_type": "stream",
          "text": [
            "\n",
            "      Epoch    GPU_mem       loss  Instances       Size\n"
          ]
        },
        {
          "name": "stderr",
          "output_type": "stream",
          "text": [
            "      12/15      4.17G    0.05398          3        256: 100%|██████████| 31/31 [00:17<00:00,  1.75it/s]\n",
            "               classes   top1_acc   top5_acc: 100%|██████████| 4/4 [00:00<00:00,  6.52it/s]"
          ]
        },
        {
          "name": "stdout",
          "output_type": "stream",
          "text": [
            "                   all      0.846          1\n"
          ]
        },
        {
          "name": "stderr",
          "output_type": "stream",
          "text": [
            "\n"
          ]
        },
        {
          "name": "stdout",
          "output_type": "stream",
          "text": [
            "\n",
            "      Epoch    GPU_mem       loss  Instances       Size\n"
          ]
        },
        {
          "name": "stderr",
          "output_type": "stream",
          "text": [
            "      13/15      4.05G     0.1671          3        256: 100%|██████████| 31/31 [00:14<00:00,  2.07it/s]\n",
            "               classes   top1_acc   top5_acc: 100%|██████████| 4/4 [00:00<00:00,  5.77it/s]"
          ]
        },
        {
          "name": "stdout",
          "output_type": "stream",
          "text": [
            "                   all      0.858          1\n"
          ]
        },
        {
          "name": "stderr",
          "output_type": "stream",
          "text": [
            "\n"
          ]
        },
        {
          "name": "stdout",
          "output_type": "stream",
          "text": [
            "\n",
            "      Epoch    GPU_mem       loss  Instances       Size\n"
          ]
        },
        {
          "name": "stderr",
          "output_type": "stream",
          "text": [
            "      14/15      4.17G    0.07113          3        256: 100%|██████████| 31/31 [00:16<00:00,  1.93it/s]\n",
            "               classes   top1_acc   top5_acc: 100%|██████████| 4/4 [00:00<00:00,  5.96it/s]"
          ]
        },
        {
          "name": "stdout",
          "output_type": "stream",
          "text": [
            "                   all      0.837          1\n"
          ]
        },
        {
          "name": "stderr",
          "output_type": "stream",
          "text": [
            "\n"
          ]
        },
        {
          "name": "stdout",
          "output_type": "stream",
          "text": [
            "\n",
            "      Epoch    GPU_mem       loss  Instances       Size\n"
          ]
        },
        {
          "name": "stderr",
          "output_type": "stream",
          "text": [
            "      15/15      4.05G    0.04638          3        256: 100%|██████████| 31/31 [00:16<00:00,  1.85it/s]\n",
            "               classes   top1_acc   top5_acc: 100%|██████████| 4/4 [00:00<00:00,  6.66it/s]"
          ]
        },
        {
          "name": "stdout",
          "output_type": "stream",
          "text": [
            "                   all      0.833          1\n"
          ]
        },
        {
          "name": "stderr",
          "output_type": "stream",
          "text": [
            "\n"
          ]
        },
        {
          "name": "stdout",
          "output_type": "stream",
          "text": [
            "\n",
            "15 epochs completed in 0.107 hours.\n",
            "Optimizer stripped from runs/classify/train6/weights/last.pt, 112.5MB\n",
            "Optimizer stripped from runs/classify/train6/weights/best.pt, 112.5MB\n",
            "\n",
            "Validating runs/classify/train6/weights/best.pt...\n",
            "Ultralytics 8.3.9 🚀 Python-3.10.12 torch-2.4.1+cu121 CUDA:0 (Tesla T4, 15102MiB)\n",
            "YOLOv8x-cls summary (fused): 133 layers, 56,127,043 parameters, 0 gradients, 153.8 GFLOPs\n",
            "\u001b[34m\u001b[1mtrain:\u001b[0m /content/drive/MyDrive/projects/SecondTry/Folds/fold_5/train... found 963 images in 3 classes ✅ \n",
            "\u001b[34m\u001b[1mval:\u001b[0m /content/drive/MyDrive/projects/SecondTry/Folds/fold_5/val... found 240 images in 3 classes ✅ \n",
            "\u001b[34m\u001b[1mtest:\u001b[0m None...\n"
          ]
        },
        {
          "name": "stderr",
          "output_type": "stream",
          "text": [
            "               classes   top1_acc   top5_acc: 100%|██████████| 4/4 [00:00<00:00,  4.90it/s]\n"
          ]
        },
        {
          "name": "stdout",
          "output_type": "stream",
          "text": [
            "                   all      0.879          1\n",
            "Speed: 0.3ms preprocess, 2.6ms inference, 0.0ms loss, 0.0ms postprocess per image\n",
            "Results saved to \u001b[1mruns/classify/train6\u001b[0m\n",
            "Results saved to \u001b[1mruns/classify/train6\u001b[0m\n"
          ]
        }
      ],
      "source": [
        "model = YOLO(\"yolov8x-cls.pt\")\n",
        "\n",
        "results = model.train(data=data_path, epochs=15, imgsz=240, batch=32, augment=False)"
      ]
    },
    {
      "cell_type": "markdown",
      "metadata": {
        "id": "SvGHQCF05eSc"
      },
      "source": [
        "## Eval"
      ]
    },
    {
      "cell_type": "code",
      "execution_count": 6,
      "metadata": {
        "id": "5g5oQdfQrMg2"
      },
      "outputs": [],
      "source": [
        "model = YOLO('/content/drive/MyDrive/projects/SecondTry/All model last version/Yolo/runs/classify/train7/weights/best.pt')"
      ]
    },
    {
      "cell_type": "markdown",
      "metadata": {
        "id": "VE7ud3Z0GW6a"
      },
      "source": [
        "### Test"
      ]
    },
    {
      "cell_type": "code",
      "execution_count": 7,
      "metadata": {
        "colab": {
          "base_uri": "https://localhost:8080/"
        },
        "id": "Afx4XCQTAIE1",
        "outputId": "52df26a7-6c30-4fe3-809f-18e48c5640c8"
      },
      "outputs": [
        {
          "name": "stderr",
          "output_type": "stream",
          "text": [
            "\r  0%|          | 0/31 [00:00<?, ?it/s]"
          ]
        },
        {
          "name": "stdout",
          "output_type": "stream",
          "text": [
            "\n",
            "image 1/1 /content/drive/MyDrive/projects/SecondTry/JPG_480/val/Bad/MehrdadMAHDI-130of130_IMG0002.jpg: 256x256 Bad 0.94, Null 0.05, Good 0.00, 14.6ms\n",
            "Speed: 25.1ms preprocess, 14.6ms inference, 0.1ms postprocess per image at shape (1, 3, 256, 256)\n"
          ]
        },
        {
          "name": "stderr",
          "output_type": "stream",
          "text": [
            "\r  3%|▎         | 1/31 [00:02<01:05,  2.20s/it]"
          ]
        },
        {
          "name": "stdout",
          "output_type": "stream",
          "text": [
            "\n",
            "image 1/1 /content/drive/MyDrive/projects/SecondTry/JPG_480/val/Bad/MehrdadMAHDI-130of130_IMG0003.jpg: 256x256 Bad 0.96, Null 0.03, Good 0.01, 20.3ms\n",
            "Speed: 36.1ms preprocess, 20.3ms inference, 0.1ms postprocess per image at shape (1, 3, 256, 256)\n"
          ]
        },
        {
          "name": "stderr",
          "output_type": "stream",
          "text": [
            "\r  6%|▋         | 2/31 [00:03<00:50,  1.75s/it]"
          ]
        },
        {
          "name": "stdout",
          "output_type": "stream",
          "text": [
            "\n",
            "image 1/1 /content/drive/MyDrive/projects/SecondTry/JPG_480/val/Bad/MehrdadMAHDI-130of130_IMG0001.jpg: 256x256 Bad 0.87, Null 0.13, Good 0.00, 50.7ms\n",
            "Speed: 10.7ms preprocess, 50.7ms inference, 0.1ms postprocess per image at shape (1, 3, 256, 256)\n"
          ]
        },
        {
          "name": "stderr",
          "output_type": "stream",
          "text": [
            "\r 10%|▉         | 3/31 [00:04<00:36,  1.32s/it]"
          ]
        },
        {
          "name": "stdout",
          "output_type": "stream",
          "text": [
            "\n",
            "image 1/1 /content/drive/MyDrive/projects/SecondTry/JPG_480/val/Bad/MIRZAEIEHamidreza-192of192_IMG0138.jpg: 256x256 Bad 0.98, Good 0.02, Null 0.00, 24.0ms\n",
            "Speed: 15.1ms preprocess, 24.0ms inference, 0.1ms postprocess per image at shape (1, 3, 256, 256)\n"
          ]
        },
        {
          "name": "stderr",
          "output_type": "stream",
          "text": [
            "\r 13%|█▎        | 4/31 [00:05<00:29,  1.08s/it]"
          ]
        },
        {
          "name": "stdout",
          "output_type": "stream",
          "text": [
            "\n",
            "image 1/1 /content/drive/MyDrive/projects/SecondTry/JPG_480/val/Bad/MIRZAEIEHamidreza-192of192_IMG0137.jpg: 256x256 Bad 0.98, Good 0.02, Null 0.00, 25.1ms\n",
            "Speed: 6.1ms preprocess, 25.1ms inference, 0.1ms postprocess per image at shape (1, 3, 256, 256)\n"
          ]
        },
        {
          "name": "stderr",
          "output_type": "stream",
          "text": [
            "\r 16%|█▌        | 5/31 [00:05<00:23,  1.09it/s]"
          ]
        },
        {
          "name": "stdout",
          "output_type": "stream",
          "text": [
            "\n",
            "image 1/1 /content/drive/MyDrive/projects/SecondTry/JPG_480/val/Bad/MIRZAEIEHamidreza-192of192_IMG0136.jpg: 256x256 Bad 0.94, Good 0.06, Null 0.00, 14.9ms\n",
            "Speed: 8.5ms preprocess, 14.9ms inference, 0.1ms postprocess per image at shape (1, 3, 256, 256)\n"
          ]
        },
        {
          "name": "stderr",
          "output_type": "stream",
          "text": [
            "\r 19%|█▉        | 6/31 [00:06<00:20,  1.22it/s]"
          ]
        },
        {
          "name": "stdout",
          "output_type": "stream",
          "text": [
            "\n",
            "image 1/1 /content/drive/MyDrive/projects/SecondTry/JPG_480/val/Bad/MohammadisaniHossein-423of434_IMG0303.jpg: 256x256 Bad 0.89, Null 0.11, Good 0.00, 14.7ms\n",
            "Speed: 6.0ms preprocess, 14.7ms inference, 0.1ms postprocess per image at shape (1, 3, 256, 256)\n"
          ]
        },
        {
          "name": "stderr",
          "output_type": "stream",
          "text": [
            "\r 23%|██▎       | 7/31 [00:07<00:18,  1.30it/s]"
          ]
        },
        {
          "name": "stdout",
          "output_type": "stream",
          "text": [
            "\n",
            "image 1/1 /content/drive/MyDrive/projects/SecondTry/JPG_480/val/Bad/MohammadisaniHossein-423of434_IMG0292.jpg: 256x256 Bad 0.99, Null 0.01, Good 0.00, 14.8ms\n",
            "Speed: 5.9ms preprocess, 14.8ms inference, 0.1ms postprocess per image at shape (1, 3, 256, 256)\n"
          ]
        },
        {
          "name": "stderr",
          "output_type": "stream",
          "text": [
            "\r 26%|██▌       | 8/31 [00:07<00:17,  1.32it/s]"
          ]
        },
        {
          "name": "stdout",
          "output_type": "stream",
          "text": [
            "\n",
            "image 1/1 /content/drive/MyDrive/projects/SecondTry/JPG_480/val/Bad/MohammadisaniHossein-423of434_IMG0295.jpg: 256x256 Bad 0.94, Null 0.06, Good 0.00, 33.5ms\n",
            "Speed: 5.9ms preprocess, 33.5ms inference, 0.1ms postprocess per image at shape (1, 3, 256, 256)\n"
          ]
        },
        {
          "name": "stderr",
          "output_type": "stream",
          "text": [
            "\r 29%|██▉       | 9/31 [00:08<00:15,  1.38it/s]"
          ]
        },
        {
          "name": "stdout",
          "output_type": "stream",
          "text": [
            "\n",
            "image 1/1 /content/drive/MyDrive/projects/SecondTry/JPG_480/val/Bad/MohammadisaniHossein-423of434_IMG0300.jpg: 256x256 Null 0.95, Bad 0.04, Good 0.00, 14.9ms\n",
            "Speed: 5.8ms preprocess, 14.9ms inference, 0.1ms postprocess per image at shape (1, 3, 256, 256)\n"
          ]
        },
        {
          "name": "stderr",
          "output_type": "stream",
          "text": [
            "\r 32%|███▏      | 10/31 [00:09<00:15,  1.33it/s]"
          ]
        },
        {
          "name": "stdout",
          "output_type": "stream",
          "text": [
            "\n",
            "image 1/1 /content/drive/MyDrive/projects/SecondTry/JPG_480/val/Bad/MohammadisaniHossein-423of434_IMG0296.jpg: 256x256 Bad 0.78, Null 0.22, Good 0.00, 38.1ms\n",
            "Speed: 12.0ms preprocess, 38.1ms inference, 0.1ms postprocess per image at shape (1, 3, 256, 256)\n"
          ]
        },
        {
          "name": "stderr",
          "output_type": "stream",
          "text": [
            "\r 35%|███▌      | 11/31 [00:09<00:14,  1.37it/s]"
          ]
        },
        {
          "name": "stdout",
          "output_type": "stream",
          "text": [
            "\n",
            "image 1/1 /content/drive/MyDrive/projects/SecondTry/JPG_480/val/Bad/MohammadisaniHossein-423of434_IMG0294.jpg: 256x256 Bad 0.97, Null 0.03, Good 0.00, 27.4ms\n",
            "Speed: 6.0ms preprocess, 27.4ms inference, 0.1ms postprocess per image at shape (1, 3, 256, 256)\n"
          ]
        },
        {
          "name": "stderr",
          "output_type": "stream",
          "text": [
            "\r 39%|███▊      | 12/31 [00:10<00:14,  1.34it/s]"
          ]
        },
        {
          "name": "stdout",
          "output_type": "stream",
          "text": [
            "\n",
            "image 1/1 /content/drive/MyDrive/projects/SecondTry/JPG_480/val/Bad/MohammadisaniHossein-423of434_IMG0293.jpg: 256x256 Bad 0.96, Null 0.04, Good 0.00, 20.2ms\n",
            "Speed: 6.1ms preprocess, 20.2ms inference, 0.1ms postprocess per image at shape (1, 3, 256, 256)\n"
          ]
        },
        {
          "name": "stderr",
          "output_type": "stream",
          "text": [
            "\r 42%|████▏     | 13/31 [00:11<00:13,  1.30it/s]"
          ]
        },
        {
          "name": "stdout",
          "output_type": "stream",
          "text": [
            "\n",
            "image 1/1 /content/drive/MyDrive/projects/SecondTry/JPG_480/val/Bad/MohammadisaniHossein-423of434_IMG0301.jpg: 256x256 Null 0.80, Bad 0.20, Good 0.00, 46.5ms\n",
            "Speed: 15.6ms preprocess, 46.5ms inference, 0.1ms postprocess per image at shape (1, 3, 256, 256)\n"
          ]
        },
        {
          "name": "stderr",
          "output_type": "stream",
          "text": [
            "\r 45%|████▌     | 14/31 [00:12<00:13,  1.22it/s]"
          ]
        },
        {
          "name": "stdout",
          "output_type": "stream",
          "text": [
            "\n",
            "image 1/1 /content/drive/MyDrive/projects/SecondTry/JPG_480/val/Bad/MohammadisaniHossein-111of127_IMG0063.jpg: 256x256 Bad 1.00, Good 0.00, Null 0.00, 14.7ms\n",
            "Speed: 6.0ms preprocess, 14.7ms inference, 0.1ms postprocess per image at shape (1, 3, 256, 256)\n"
          ]
        },
        {
          "name": "stderr",
          "output_type": "stream",
          "text": [
            "\r 48%|████▊     | 15/31 [00:13<00:12,  1.27it/s]"
          ]
        },
        {
          "name": "stdout",
          "output_type": "stream",
          "text": [
            "\n",
            "image 1/1 /content/drive/MyDrive/projects/SecondTry/JPG_480/val/Bad/MohammadisaniHossein-423of434_IMG0298.jpg: 256x256 Null 0.96, Bad 0.03, Good 0.00, 14.7ms\n",
            "Speed: 5.9ms preprocess, 14.7ms inference, 0.1ms postprocess per image at shape (1, 3, 256, 256)\n"
          ]
        },
        {
          "name": "stderr",
          "output_type": "stream",
          "text": [
            "\r 52%|█████▏    | 16/31 [00:13<00:11,  1.32it/s]"
          ]
        },
        {
          "name": "stdout",
          "output_type": "stream",
          "text": [
            "\n",
            "image 1/1 /content/drive/MyDrive/projects/SecondTry/JPG_480/val/Bad/MoghbeliZAHRA-383of399_IMG0182.jpg: 256x256 Bad 0.99, Good 0.01, Null 0.00, 14.6ms\n",
            "Speed: 3.9ms preprocess, 14.6ms inference, 0.1ms postprocess per image at shape (1, 3, 256, 256)\n"
          ]
        },
        {
          "name": "stderr",
          "output_type": "stream",
          "text": [
            "\r 55%|█████▍    | 17/31 [00:14<00:10,  1.40it/s]"
          ]
        },
        {
          "name": "stdout",
          "output_type": "stream",
          "text": [
            "\n",
            "image 1/1 /content/drive/MyDrive/projects/SecondTry/JPG_480/val/Bad/MohammadisaniHossein-111of127_IMG0060.jpg: 256x256 Bad 1.00, Null 0.00, Good 0.00, 14.6ms\n",
            "Speed: 4.3ms preprocess, 14.6ms inference, 0.1ms postprocess per image at shape (1, 3, 256, 256)\n"
          ]
        },
        {
          "name": "stderr",
          "output_type": "stream",
          "text": [
            "\r 58%|█████▊    | 18/31 [00:15<00:09,  1.31it/s]"
          ]
        },
        {
          "name": "stdout",
          "output_type": "stream",
          "text": [
            "\n",
            "image 1/1 /content/drive/MyDrive/projects/SecondTry/JPG_480/val/Bad/MohammadisaniHossein-111of127_IMG0065.jpg: 256x256 Bad 1.00, Good 0.00, Null 0.00, 14.6ms\n",
            "Speed: 3.9ms preprocess, 14.6ms inference, 0.1ms postprocess per image at shape (1, 3, 256, 256)\n"
          ]
        },
        {
          "name": "stderr",
          "output_type": "stream",
          "text": [
            "\r 61%|██████▏   | 19/31 [00:16<00:08,  1.36it/s]"
          ]
        },
        {
          "name": "stdout",
          "output_type": "stream",
          "text": [
            "\n",
            "image 1/1 /content/drive/MyDrive/projects/SecondTry/JPG_480/val/Bad/MoghbeliZAHRA-383of399_IMG0185.jpg: 256x256 Bad 1.00, Good 0.00, Null 0.00, 14.6ms\n",
            "Speed: 6.0ms preprocess, 14.6ms inference, 0.1ms postprocess per image at shape (1, 3, 256, 256)\n"
          ]
        },
        {
          "name": "stderr",
          "output_type": "stream",
          "text": [
            "\r 65%|██████▍   | 20/31 [00:16<00:07,  1.39it/s]"
          ]
        },
        {
          "name": "stdout",
          "output_type": "stream",
          "text": [
            "\n",
            "image 1/1 /content/drive/MyDrive/projects/SecondTry/JPG_480/val/Bad/MoghbeliZAHRA-383of399_IMG0183.jpg: 256x256 Bad 0.99, Good 0.01, Null 0.00, 14.6ms\n",
            "Speed: 6.0ms preprocess, 14.6ms inference, 0.1ms postprocess per image at shape (1, 3, 256, 256)\n"
          ]
        },
        {
          "name": "stderr",
          "output_type": "stream",
          "text": [
            "\r 68%|██████▊   | 21/31 [00:17<00:07,  1.36it/s]"
          ]
        },
        {
          "name": "stdout",
          "output_type": "stream",
          "text": [
            "\n",
            "image 1/1 /content/drive/MyDrive/projects/SecondTry/JPG_480/val/Bad/MADAHSADEGH-927of927_IMG0425.jpg: 256x256 Bad 0.97, Null 0.02, Good 0.01, 14.7ms\n",
            "Speed: 5.9ms preprocess, 14.7ms inference, 0.1ms postprocess per image at shape (1, 3, 256, 256)\n"
          ]
        },
        {
          "name": "stderr",
          "output_type": "stream",
          "text": [
            "\r 71%|███████   | 22/31 [00:18<00:06,  1.36it/s]"
          ]
        },
        {
          "name": "stdout",
          "output_type": "stream",
          "text": [
            "\n",
            "image 1/1 /content/drive/MyDrive/projects/SecondTry/JPG_480/val/Bad/MoghbeliZAHRA-383of399_IMG0184.jpg: 256x256 Bad 0.99, Good 0.01, Null 0.00, 14.6ms\n",
            "Speed: 3.9ms preprocess, 14.6ms inference, 0.1ms postprocess per image at shape (1, 3, 256, 256)\n"
          ]
        },
        {
          "name": "stderr",
          "output_type": "stream",
          "text": [
            "\r 74%|███████▍  | 23/31 [00:18<00:05,  1.41it/s]"
          ]
        },
        {
          "name": "stdout",
          "output_type": "stream",
          "text": [
            "\n",
            "image 1/1 /content/drive/MyDrive/projects/SecondTry/JPG_480/val/Bad/MADAHSADEGH-927of927_IMG0797.jpg: 256x256 Bad 0.70, Good 0.28, Null 0.01, 14.6ms\n",
            "Speed: 4.4ms preprocess, 14.6ms inference, 0.1ms postprocess per image at shape (1, 3, 256, 256)\n"
          ]
        },
        {
          "name": "stderr",
          "output_type": "stream",
          "text": [
            "\r 77%|███████▋  | 24/31 [00:19<00:04,  1.40it/s]"
          ]
        },
        {
          "name": "stdout",
          "output_type": "stream",
          "text": [
            "\n",
            "image 1/1 /content/drive/MyDrive/projects/SecondTry/JPG_480/val/Bad/MoghbeliZAHRA-129of150_IMG0021.jpg: 256x256 Bad 0.86, Good 0.14, Null 0.00, 14.6ms\n",
            "Speed: 5.9ms preprocess, 14.6ms inference, 0.1ms postprocess per image at shape (1, 3, 256, 256)\n"
          ]
        },
        {
          "name": "stderr",
          "output_type": "stream",
          "text": [
            "\r 81%|████████  | 25/31 [00:20<00:04,  1.43it/s]"
          ]
        },
        {
          "name": "stdout",
          "output_type": "stream",
          "text": [
            "\n",
            "image 1/1 /content/drive/MyDrive/projects/SecondTry/JPG_480/val/Bad/MoghbeliZAHRA-129of150_IMG0019.jpg: 256x256 Bad 0.69, Good 0.31, Null 0.00, 14.6ms\n",
            "Speed: 3.9ms preprocess, 14.6ms inference, 0.0ms postprocess per image at shape (1, 3, 256, 256)\n"
          ]
        },
        {
          "name": "stderr",
          "output_type": "stream",
          "text": [
            "\r 84%|████████▍ | 26/31 [00:21<00:04,  1.22it/s]"
          ]
        },
        {
          "name": "stdout",
          "output_type": "stream",
          "text": [
            "\n",
            "image 1/1 /content/drive/MyDrive/projects/SecondTry/JPG_480/val/Bad/MADAHSADEGH-927of927_IMG0793.jpg: 256x256 Bad 0.81, Null 0.19, Good 0.00, 34.0ms\n",
            "Speed: 6.1ms preprocess, 34.0ms inference, 0.1ms postprocess per image at shape (1, 3, 256, 256)\n"
          ]
        },
        {
          "name": "stderr",
          "output_type": "stream",
          "text": [
            "\r 87%|████████▋ | 27/31 [00:22<00:03,  1.13it/s]"
          ]
        },
        {
          "name": "stdout",
          "output_type": "stream",
          "text": [
            "\n",
            "image 1/1 /content/drive/MyDrive/projects/SecondTry/JPG_480/val/Bad/MADAHSADEGH-927of927_IMG0799.jpg: 256x256 Good 0.99, Bad 0.01, Null 0.00, 14.8ms\n",
            "Speed: 6.1ms preprocess, 14.8ms inference, 0.1ms postprocess per image at shape (1, 3, 256, 256)\n"
          ]
        },
        {
          "name": "stderr",
          "output_type": "stream",
          "text": [
            "\r 90%|█████████ | 28/31 [00:23<00:02,  1.22it/s]"
          ]
        },
        {
          "name": "stdout",
          "output_type": "stream",
          "text": [
            "\n",
            "image 1/1 /content/drive/MyDrive/projects/SecondTry/JPG_480/val/Bad/MoghbeliZAHRA-129of150_IMG0023.jpg: 256x256 Bad 0.97, Good 0.03, Null 0.00, 14.6ms\n",
            "Speed: 4.0ms preprocess, 14.6ms inference, 0.0ms postprocess per image at shape (1, 3, 256, 256)\n"
          ]
        },
        {
          "name": "stderr",
          "output_type": "stream",
          "text": [
            "\r 94%|█████████▎| 29/31 [00:24<00:01,  1.13it/s]"
          ]
        },
        {
          "name": "stdout",
          "output_type": "stream",
          "text": [
            "\n",
            "image 1/1 /content/drive/MyDrive/projects/SecondTry/JPG_480/val/Bad/MoghbeliZAHRA-129of150_IMG0017.jpg: 256x256 Bad 0.57, Good 0.43, Null 0.00, 14.6ms\n",
            "Speed: 4.0ms preprocess, 14.6ms inference, 0.1ms postprocess per image at shape (1, 3, 256, 256)\n"
          ]
        },
        {
          "name": "stderr",
          "output_type": "stream",
          "text": [
            "\r 97%|█████████▋| 30/31 [00:24<00:00,  1.24it/s]"
          ]
        },
        {
          "name": "stdout",
          "output_type": "stream",
          "text": [
            "\n",
            "image 1/1 /content/drive/MyDrive/projects/SecondTry/JPG_480/val/Bad/MoghbeliZAHRA-129of150_IMG0015.jpg: 256x256 Bad 0.85, Good 0.15, Null 0.00, 14.9ms\n",
            "Speed: 6.7ms preprocess, 14.9ms inference, 0.1ms postprocess per image at shape (1, 3, 256, 256)\n"
          ]
        },
        {
          "name": "stderr",
          "output_type": "stream",
          "text": [
            "100%|██████████| 31/31 [00:25<00:00,  1.22it/s]\n",
            "  0%|          | 0/45 [00:00<?, ?it/s]"
          ]
        },
        {
          "name": "stdout",
          "output_type": "stream",
          "text": [
            "\n",
            "image 1/1 /content/drive/MyDrive/projects/SecondTry/JPG_480/val/Good/MOHEBIPARASTO-47of47_IMG0045.jpg: 256x256 Good 1.00, Bad 0.00, Null 0.00, 14.7ms\n",
            "Speed: 5.9ms preprocess, 14.7ms inference, 0.1ms postprocess per image at shape (1, 3, 256, 256)\n"
          ]
        },
        {
          "name": "stderr",
          "output_type": "stream",
          "text": [
            "\r  2%|▏         | 1/45 [00:00<00:33,  1.32it/s]"
          ]
        },
        {
          "name": "stdout",
          "output_type": "stream",
          "text": [
            "\n",
            "image 1/1 /content/drive/MyDrive/projects/SecondTry/JPG_480/val/Good/MOHEBIPARASTO-47of47_IMG0047.jpg: 256x256 Good 1.00, Bad 0.00, Null 0.00, 27.5ms\n",
            "Speed: 16.1ms preprocess, 27.5ms inference, 0.1ms postprocess per image at shape (1, 3, 256, 256)\n"
          ]
        },
        {
          "name": "stderr",
          "output_type": "stream",
          "text": [
            "\r  4%|▍         | 2/45 [00:02<01:10,  1.63s/it]"
          ]
        },
        {
          "name": "stdout",
          "output_type": "stream",
          "text": [
            "\n",
            "image 1/1 /content/drive/MyDrive/projects/SecondTry/JPG_480/val/Good/MOHEBIPARASTO-47of47_IMG0046.jpg: 256x256 Good 1.00, Bad 0.00, Null 0.00, 27.0ms\n",
            "Speed: 6.3ms preprocess, 27.0ms inference, 0.1ms postprocess per image at shape (1, 3, 256, 256)\n"
          ]
        },
        {
          "name": "stderr",
          "output_type": "stream",
          "text": [
            "\r  7%|▋         | 3/45 [00:03<00:54,  1.30s/it]"
          ]
        },
        {
          "name": "stdout",
          "output_type": "stream",
          "text": [
            "\n",
            "image 1/1 /content/drive/MyDrive/projects/SecondTry/JPG_480/val/Good/MoghbeliZAHRA-383of399_IMG0350.jpg: 256x256 Good 1.00, Bad 0.00, Null 0.00, 38.6ms\n",
            "Speed: 6.1ms preprocess, 38.6ms inference, 0.1ms postprocess per image at shape (1, 3, 256, 256)\n"
          ]
        },
        {
          "name": "stderr",
          "output_type": "stream",
          "text": [
            "\r  9%|▉         | 4/45 [00:05<00:56,  1.39s/it]"
          ]
        },
        {
          "name": "stdout",
          "output_type": "stream",
          "text": [
            "\n",
            "image 1/1 /content/drive/MyDrive/projects/SecondTry/JPG_480/val/Good/MoghbeliZAHRA-383of399_IMG0349.jpg: 256x256 Good 1.00, Bad 0.00, Null 0.00, 16.3ms\n",
            "Speed: 8.0ms preprocess, 16.3ms inference, 0.1ms postprocess per image at shape (1, 3, 256, 256)\n"
          ]
        },
        {
          "name": "stderr",
          "output_type": "stream",
          "text": [
            "\r 11%|█         | 5/45 [00:06<00:46,  1.16s/it]"
          ]
        },
        {
          "name": "stdout",
          "output_type": "stream",
          "text": [
            "\n",
            "image 1/1 /content/drive/MyDrive/projects/SecondTry/JPG_480/val/Good/MoghbeliZAHRA-383of399_IMG0351.jpg: 256x256 Good 1.00, Bad 0.00, Null 0.00, 14.6ms\n",
            "Speed: 4.1ms preprocess, 14.6ms inference, 0.1ms postprocess per image at shape (1, 3, 256, 256)\n"
          ]
        },
        {
          "name": "stderr",
          "output_type": "stream",
          "text": [
            "\r 13%|█▎        | 6/45 [00:06<00:39,  1.01s/it]"
          ]
        },
        {
          "name": "stdout",
          "output_type": "stream",
          "text": [
            "\n",
            "image 1/1 /content/drive/MyDrive/projects/SecondTry/JPG_480/val/Good/MohammadisaniHossein-423of434_IMG0324.jpg: 256x256 Good 1.00, Bad 0.00, Null 0.00, 14.6ms\n",
            "Speed: 4.0ms preprocess, 14.6ms inference, 0.0ms postprocess per image at shape (1, 3, 256, 256)\n"
          ]
        },
        {
          "name": "stderr",
          "output_type": "stream",
          "text": [
            "\r 16%|█▌        | 7/45 [00:07<00:36,  1.04it/s]"
          ]
        },
        {
          "name": "stdout",
          "output_type": "stream",
          "text": [
            "\n",
            "image 1/1 /content/drive/MyDrive/projects/SecondTry/JPG_480/val/Good/MohammadisaniHossein-423of434_IMG0423.jpg: 256x256 Good 1.00, Bad 0.00, Null 0.00, 14.6ms\n",
            "Speed: 4.0ms preprocess, 14.6ms inference, 0.1ms postprocess per image at shape (1, 3, 256, 256)\n"
          ]
        },
        {
          "name": "stderr",
          "output_type": "stream",
          "text": [
            "\r 18%|█▊        | 8/45 [00:08<00:31,  1.18it/s]"
          ]
        },
        {
          "name": "stdout",
          "output_type": "stream",
          "text": [
            "\n",
            "image 1/1 /content/drive/MyDrive/projects/SecondTry/JPG_480/val/Good/MOHAMMADIAMIR-91of91_IMG0048.jpg: 256x256 Good 1.00, Bad 0.00, Null 0.00, 14.7ms\n",
            "Speed: 6.0ms preprocess, 14.7ms inference, 0.1ms postprocess per image at shape (1, 3, 256, 256)\n"
          ]
        },
        {
          "name": "stderr",
          "output_type": "stream",
          "text": [
            "\r 20%|██        | 9/45 [00:09<00:28,  1.26it/s]"
          ]
        },
        {
          "name": "stdout",
          "output_type": "stream",
          "text": [
            "\n",
            "image 1/1 /content/drive/MyDrive/projects/SecondTry/JPG_480/val/Good/MOHAMMADIAMIR-91of91_IMG0047.jpg: 256x256 Good 1.00, Bad 0.00, Null 0.00, 14.7ms\n",
            "Speed: 6.0ms preprocess, 14.7ms inference, 0.1ms postprocess per image at shape (1, 3, 256, 256)\n"
          ]
        },
        {
          "name": "stderr",
          "output_type": "stream",
          "text": [
            "\r 22%|██▏       | 10/45 [00:09<00:26,  1.32it/s]"
          ]
        },
        {
          "name": "stdout",
          "output_type": "stream",
          "text": [
            "\n",
            "image 1/1 /content/drive/MyDrive/projects/SecondTry/JPG_480/val/Good/MohammadisaniHossein-423of434_IMG0243.jpg: 256x256 Good 1.00, Bad 0.00, Null 0.00, 14.6ms\n",
            "Speed: 3.9ms preprocess, 14.6ms inference, 0.1ms postprocess per image at shape (1, 3, 256, 256)\n"
          ]
        },
        {
          "name": "stderr",
          "output_type": "stream",
          "text": [
            "\r 24%|██▍       | 11/45 [00:10<00:25,  1.35it/s]"
          ]
        },
        {
          "name": "stdout",
          "output_type": "stream",
          "text": [
            "\n",
            "image 1/1 /content/drive/MyDrive/projects/SecondTry/JPG_480/val/Good/MOHAMMADIAMIR-91of91_IMG0046.jpg: 256x256 Good 1.00, Bad 0.00, Null 0.00, 18.1ms\n",
            "Speed: 12.9ms preprocess, 18.1ms inference, 0.1ms postprocess per image at shape (1, 3, 256, 256)\n"
          ]
        },
        {
          "name": "stderr",
          "output_type": "stream",
          "text": [
            "\r 27%|██▋       | 12/45 [00:11<00:23,  1.40it/s]"
          ]
        },
        {
          "name": "stdout",
          "output_type": "stream",
          "text": [
            "\n",
            "image 1/1 /content/drive/MyDrive/projects/SecondTry/JPG_480/val/Good/MohammadisaniHossein-111of127_IMG0091.jpg: 256x256 Good 1.00, Bad 0.00, Null 0.00, 14.6ms\n",
            "Speed: 4.0ms preprocess, 14.6ms inference, 0.0ms postprocess per image at shape (1, 3, 256, 256)\n"
          ]
        },
        {
          "name": "stderr",
          "output_type": "stream",
          "text": [
            "\r 29%|██▉       | 13/45 [00:11<00:22,  1.42it/s]"
          ]
        },
        {
          "name": "stdout",
          "output_type": "stream",
          "text": [
            "\n",
            "image 1/1 /content/drive/MyDrive/projects/SecondTry/JPG_480/val/Good/MoghbeliZAHRA-218of232_IMG0212.jpg: 256x256 Good 1.00, Null 0.00, Bad 0.00, 14.7ms\n",
            "Speed: 6.1ms preprocess, 14.7ms inference, 0.1ms postprocess per image at shape (1, 3, 256, 256)\n"
          ]
        },
        {
          "name": "stderr",
          "output_type": "stream",
          "text": [
            "\r 31%|███       | 14/45 [00:12<00:20,  1.51it/s]"
          ]
        },
        {
          "name": "stdout",
          "output_type": "stream",
          "text": [
            "\n",
            "image 1/1 /content/drive/MyDrive/projects/SecondTry/JPG_480/val/Good/MohammadisaniHossein-111of127_IMG0118.jpg: 256x256 Good 0.99, Bad 0.01, Null 0.00, 26.6ms\n",
            "Speed: 13.5ms preprocess, 26.6ms inference, 0.1ms postprocess per image at shape (1, 3, 256, 256)\n"
          ]
        },
        {
          "name": "stderr",
          "output_type": "stream",
          "text": [
            "\r 33%|███▎      | 15/45 [00:13<00:22,  1.34it/s]"
          ]
        },
        {
          "name": "stdout",
          "output_type": "stream",
          "text": [
            "\n",
            "image 1/1 /content/drive/MyDrive/projects/SecondTry/JPG_480/val/Good/MohammadisaniHossein-111of127_IMG0102.jpg: 256x256 Good 1.00, Bad 0.00, Null 0.00, 14.6ms\n",
            "Speed: 4.0ms preprocess, 14.6ms inference, 0.1ms postprocess per image at shape (1, 3, 256, 256)\n"
          ]
        },
        {
          "name": "stderr",
          "output_type": "stream",
          "text": [
            "\r 36%|███▌      | 16/45 [00:13<00:20,  1.38it/s]"
          ]
        },
        {
          "name": "stdout",
          "output_type": "stream",
          "text": [
            "\n",
            "image 1/1 /content/drive/MyDrive/projects/SecondTry/JPG_480/val/Good/MoghbeliZAHRA-129of150_IMG0148.jpg: 256x256 Good 1.00, Bad 0.00, Null 0.00, 17.1ms\n",
            "Speed: 6.2ms preprocess, 17.1ms inference, 0.1ms postprocess per image at shape (1, 3, 256, 256)\n"
          ]
        },
        {
          "name": "stderr",
          "output_type": "stream",
          "text": [
            "\r 38%|███▊      | 17/45 [00:14<00:21,  1.31it/s]"
          ]
        },
        {
          "name": "stdout",
          "output_type": "stream",
          "text": [
            "\n",
            "image 1/1 /content/drive/MyDrive/projects/SecondTry/JPG_480/val/Good/MoghbeliZAHRA-129of150_IMG0150.jpg: 256x256 Good 1.00, Bad 0.00, Null 0.00, 21.3ms\n",
            "Speed: 23.7ms preprocess, 21.3ms inference, 0.1ms postprocess per image at shape (1, 3, 256, 256)\n"
          ]
        },
        {
          "name": "stderr",
          "output_type": "stream",
          "text": [
            "\r 40%|████      | 18/45 [00:15<00:20,  1.31it/s]"
          ]
        },
        {
          "name": "stdout",
          "output_type": "stream",
          "text": [
            "\n",
            "image 1/1 /content/drive/MyDrive/projects/SecondTry/JPG_480/val/Good/MoghbeliZAHRA-218of232_IMG0210.jpg: 256x256 Good 1.00, Null 0.00, Bad 0.00, 14.7ms\n",
            "Speed: 7.4ms preprocess, 14.7ms inference, 0.1ms postprocess per image at shape (1, 3, 256, 256)\n"
          ]
        },
        {
          "name": "stderr",
          "output_type": "stream",
          "text": [
            "\r 42%|████▏     | 19/45 [00:16<00:18,  1.39it/s]"
          ]
        },
        {
          "name": "stdout",
          "output_type": "stream",
          "text": [
            "\n",
            "image 1/1 /content/drive/MyDrive/projects/SecondTry/JPG_480/val/Good/MoghbeliZAHRA-218of232_IMG0211.jpg: 256x256 Good 1.00, Null 0.00, Bad 0.00, 14.6ms\n",
            "Speed: 6.2ms preprocess, 14.6ms inference, 0.1ms postprocess per image at shape (1, 3, 256, 256)\n"
          ]
        },
        {
          "name": "stderr",
          "output_type": "stream",
          "text": [
            "\r 44%|████▍     | 20/45 [00:16<00:17,  1.43it/s]"
          ]
        },
        {
          "name": "stdout",
          "output_type": "stream",
          "text": [
            "\n",
            "image 1/1 /content/drive/MyDrive/projects/SecondTry/JPG_480/val/Good/MoghbeliZAHRA-61of85_IMG0085.jpg: 256x256 Good 1.00, Bad 0.00, Null 0.00, 14.6ms\n",
            "Speed: 5.5ms preprocess, 14.6ms inference, 0.1ms postprocess per image at shape (1, 3, 256, 256)\n"
          ]
        },
        {
          "name": "stderr",
          "output_type": "stream",
          "text": [
            "\r 47%|████▋     | 21/45 [00:17<00:16,  1.47it/s]"
          ]
        },
        {
          "name": "stdout",
          "output_type": "stream",
          "text": [
            "\n",
            "image 1/1 /content/drive/MyDrive/projects/SecondTry/JPG_480/val/Good/MoghbeliZAHRA-129of150_IMG0149.jpg: 256x256 Good 1.00, Bad 0.00, Null 0.00, 14.6ms\n",
            "Speed: 4.3ms preprocess, 14.6ms inference, 0.1ms postprocess per image at shape (1, 3, 256, 256)\n"
          ]
        },
        {
          "name": "stderr",
          "output_type": "stream",
          "text": [
            "\r 49%|████▉     | 22/45 [00:18<00:15,  1.44it/s]"
          ]
        },
        {
          "name": "stdout",
          "output_type": "stream",
          "text": [
            "\n",
            "image 1/1 /content/drive/MyDrive/projects/SecondTry/JPG_480/val/Good/MOHAMMADIAMIR-50of69_IMG0011.jpg: 256x256 Good 1.00, Bad 0.00, Null 0.00, 14.6ms\n",
            "Speed: 4.0ms preprocess, 14.6ms inference, 0.0ms postprocess per image at shape (1, 3, 256, 256)\n"
          ]
        },
        {
          "name": "stderr",
          "output_type": "stream",
          "text": [
            "\r 51%|█████     | 23/45 [00:18<00:14,  1.52it/s]"
          ]
        },
        {
          "name": "stdout",
          "output_type": "stream",
          "text": [
            "\n",
            "image 1/1 /content/drive/MyDrive/projects/SecondTry/JPG_480/val/Good/MOHAMMADIAMIR-50of69_IMG0012.jpg: 256x256 Good 1.00, Bad 0.00, Null 0.00, 14.8ms\n",
            "Speed: 6.1ms preprocess, 14.8ms inference, 0.1ms postprocess per image at shape (1, 3, 256, 256)\n"
          ]
        },
        {
          "name": "stderr",
          "output_type": "stream",
          "text": [
            "\r 53%|█████▎    | 24/45 [00:19<00:12,  1.62it/s]"
          ]
        },
        {
          "name": "stdout",
          "output_type": "stream",
          "text": [
            "\n",
            "image 1/1 /content/drive/MyDrive/projects/SecondTry/JPG_480/val/Good/MOHAMMADIAMIR-50of69_IMG0013.jpg: 256x256 Good 1.00, Bad 0.00, Null 0.00, 14.7ms\n",
            "Speed: 6.1ms preprocess, 14.7ms inference, 0.1ms postprocess per image at shape (1, 3, 256, 256)\n"
          ]
        },
        {
          "name": "stderr",
          "output_type": "stream",
          "text": [
            "\r 56%|█████▌    | 25/45 [00:19<00:12,  1.63it/s]"
          ]
        },
        {
          "name": "stdout",
          "output_type": "stream",
          "text": [
            "\n",
            "image 1/1 /content/drive/MyDrive/projects/SecondTry/JPG_480/val/Good/MOHAMMADIAMIR-118of118_IMG0049.jpg: 256x256 Good 1.00, Bad 0.00, Null 0.00, 14.6ms\n",
            "Speed: 4.0ms preprocess, 14.6ms inference, 0.1ms postprocess per image at shape (1, 3, 256, 256)\n"
          ]
        },
        {
          "name": "stderr",
          "output_type": "stream",
          "text": [
            "\r 58%|█████▊    | 26/45 [00:24<00:32,  1.72s/it]"
          ]
        },
        {
          "name": "stdout",
          "output_type": "stream",
          "text": [
            "\n",
            "image 1/1 /content/drive/MyDrive/projects/SecondTry/JPG_480/val/Good/MoghbeliZAHRA-61of85_IMG0082.jpg: 256x256 Good 1.00, Bad 0.00, Null 0.00, 14.7ms\n",
            "Speed: 7.2ms preprocess, 14.7ms inference, 0.1ms postprocess per image at shape (1, 3, 256, 256)\n"
          ]
        },
        {
          "name": "stderr",
          "output_type": "stream",
          "text": [
            "\r 60%|██████    | 27/45 [00:25<00:27,  1.54s/it]"
          ]
        },
        {
          "name": "stdout",
          "output_type": "stream",
          "text": [
            "\n",
            "image 1/1 /content/drive/MyDrive/projects/SecondTry/JPG_480/val/Good/MoghbeliZAHRA-61of85_IMG0078.jpg: 256x256 Good 1.00, Bad 0.00, Null 0.00, 14.7ms\n",
            "Speed: 5.8ms preprocess, 14.7ms inference, 0.1ms postprocess per image at shape (1, 3, 256, 256)\n"
          ]
        },
        {
          "name": "stderr",
          "output_type": "stream",
          "text": [
            "\r 62%|██████▏   | 28/45 [00:26<00:22,  1.33s/it]"
          ]
        },
        {
          "name": "stdout",
          "output_type": "stream",
          "text": [
            "\n",
            "image 1/1 /content/drive/MyDrive/projects/SecondTry/JPG_480/val/Good/MOHAMMADIAMIR-118of118_IMG0084.jpg: 256x256 Good 1.00, Null 0.00, Bad 0.00, 14.5ms\n",
            "Speed: 3.9ms preprocess, 14.5ms inference, 0.0ms postprocess per image at shape (1, 3, 256, 256)\n"
          ]
        },
        {
          "name": "stderr",
          "output_type": "stream",
          "text": [
            "\r 64%|██████▍   | 29/45 [00:26<00:17,  1.12s/it]"
          ]
        },
        {
          "name": "stdout",
          "output_type": "stream",
          "text": [
            "\n",
            "image 1/1 /content/drive/MyDrive/projects/SecondTry/JPG_480/val/Good/MIRZAEIEHamidreza-169of169_IMG0145.jpg: 256x256 Good 1.00, Null 0.00, Bad 0.00, 14.5ms\n",
            "Speed: 3.8ms preprocess, 14.5ms inference, 0.0ms postprocess per image at shape (1, 3, 256, 256)\n"
          ]
        },
        {
          "name": "stderr",
          "output_type": "stream",
          "text": [
            "\r 67%|██████▋   | 30/45 [00:27<00:14,  1.02it/s]"
          ]
        },
        {
          "name": "stdout",
          "output_type": "stream",
          "text": [
            "\n",
            "image 1/1 /content/drive/MyDrive/projects/SecondTry/JPG_480/val/Good/MOHAMMADIAMIR-118of118_IMG0021.jpg: 256x256 Good 1.00, Null 0.00, Bad 0.00, 14.6ms\n",
            "Speed: 5.8ms preprocess, 14.6ms inference, 0.1ms postprocess per image at shape (1, 3, 256, 256)\n"
          ]
        },
        {
          "name": "stderr",
          "output_type": "stream",
          "text": [
            "\r 69%|██████▉   | 31/45 [00:28<00:12,  1.11it/s]"
          ]
        },
        {
          "name": "stdout",
          "output_type": "stream",
          "text": [
            "\n",
            "image 1/1 /content/drive/MyDrive/projects/SecondTry/JPG_480/val/Good/MIRZAEIEHamidreza-169of169_IMG0146.jpg: 256x256 Good 1.00, Null 0.00, Bad 0.00, 14.6ms\n",
            "Speed: 5.8ms preprocess, 14.6ms inference, 0.1ms postprocess per image at shape (1, 3, 256, 256)\n"
          ]
        },
        {
          "name": "stderr",
          "output_type": "stream",
          "text": [
            "\r 71%|███████   | 32/45 [00:28<00:10,  1.20it/s]"
          ]
        },
        {
          "name": "stdout",
          "output_type": "stream",
          "text": [
            "\n",
            "image 1/1 /content/drive/MyDrive/projects/SecondTry/JPG_480/val/Good/MIRZAEIEHamidreza-169of169_IMG0144.jpg: 256x256 Good 1.00, Null 0.00, Bad 0.00, 35.5ms\n",
            "Speed: 35.9ms preprocess, 35.5ms inference, 0.1ms postprocess per image at shape (1, 3, 256, 256)\n"
          ]
        },
        {
          "name": "stderr",
          "output_type": "stream",
          "text": [
            "\r 73%|███████▎  | 33/45 [00:29<00:09,  1.28it/s]"
          ]
        },
        {
          "name": "stdout",
          "output_type": "stream",
          "text": [
            "\n",
            "image 1/1 /content/drive/MyDrive/projects/SecondTry/JPG_480/val/Good/MIRZAEIEHamidreza-192of192_IMG0034.jpg: 256x256 Good 1.00, Bad 0.00, Null 0.00, 14.7ms\n",
            "Speed: 8.5ms preprocess, 14.7ms inference, 0.1ms postprocess per image at shape (1, 3, 256, 256)\n"
          ]
        },
        {
          "name": "stderr",
          "output_type": "stream",
          "text": [
            "\r 76%|███████▌  | 34/45 [00:30<00:10,  1.07it/s]"
          ]
        },
        {
          "name": "stdout",
          "output_type": "stream",
          "text": [
            "\n",
            "image 1/1 /content/drive/MyDrive/projects/SecondTry/JPG_480/val/Good/MIRZAEIEHamidreza-192of192_IMG0191.jpg: 256x256 Good 1.00, Bad 0.00, Null 0.00, 14.6ms\n",
            "Speed: 4.0ms preprocess, 14.6ms inference, 0.0ms postprocess per image at shape (1, 3, 256, 256)\n"
          ]
        },
        {
          "name": "stderr",
          "output_type": "stream",
          "text": [
            "\r 78%|███████▊  | 35/45 [00:31<00:08,  1.22it/s]"
          ]
        },
        {
          "name": "stdout",
          "output_type": "stream",
          "text": [
            "\n",
            "image 1/1 /content/drive/MyDrive/projects/SecondTry/JPG_480/val/Good/MIRZAEIEHamidreza-192of192_IMG0192.jpg: 256x256 Good 1.00, Bad 0.00, Null 0.00, 14.6ms\n",
            "Speed: 5.1ms preprocess, 14.6ms inference, 0.1ms postprocess per image at shape (1, 3, 256, 256)\n"
          ]
        },
        {
          "name": "stderr",
          "output_type": "stream",
          "text": [
            "\r 80%|████████  | 36/45 [00:31<00:06,  1.30it/s]"
          ]
        },
        {
          "name": "stdout",
          "output_type": "stream",
          "text": [
            "\n",
            "image 1/1 /content/drive/MyDrive/projects/SecondTry/JPG_480/val/Good/MADAHSADEGH-39of39_IMG0005.jpg: 256x256 Good 1.00, Bad 0.00, Null 0.00, 14.6ms\n",
            "Speed: 3.9ms preprocess, 14.6ms inference, 0.1ms postprocess per image at shape (1, 3, 256, 256)\n"
          ]
        },
        {
          "name": "stderr",
          "output_type": "stream",
          "text": [
            "\r 82%|████████▏ | 37/45 [00:32<00:05,  1.34it/s]"
          ]
        },
        {
          "name": "stdout",
          "output_type": "stream",
          "text": [
            "\n",
            "image 1/1 /content/drive/MyDrive/projects/SecondTry/JPG_480/val/Good/MADAHSADEGH-39of39_IMG0027.jpg: 256x256 Good 1.00, Bad 0.00, Null 0.00, 14.6ms\n",
            "Speed: 4.0ms preprocess, 14.6ms inference, 0.0ms postprocess per image at shape (1, 3, 256, 256)\n"
          ]
        },
        {
          "name": "stderr",
          "output_type": "stream",
          "text": [
            "\r 84%|████████▍ | 38/45 [00:33<00:05,  1.30it/s]"
          ]
        },
        {
          "name": "stdout",
          "output_type": "stream",
          "text": [
            "\n",
            "image 1/1 /content/drive/MyDrive/projects/SecondTry/JPG_480/val/Good/MADAHSADEGH-927of927_IMG0925.jpg: 256x256 Good 1.00, Bad 0.00, Null 0.00, 14.6ms\n",
            "Speed: 4.0ms preprocess, 14.6ms inference, 0.1ms postprocess per image at shape (1, 3, 256, 256)\n"
          ]
        },
        {
          "name": "stderr",
          "output_type": "stream",
          "text": [
            "\r 87%|████████▋ | 39/45 [00:34<00:04,  1.29it/s]"
          ]
        },
        {
          "name": "stdout",
          "output_type": "stream",
          "text": [
            "\n",
            "image 1/1 /content/drive/MyDrive/projects/SecondTry/JPG_480/val/Good/MADAHSADEGH-927of927_IMG0926.jpg: 256x256 Good 1.00, Bad 0.00, Null 0.00, 14.6ms\n",
            "Speed: 4.0ms preprocess, 14.6ms inference, 0.1ms postprocess per image at shape (1, 3, 256, 256)\n"
          ]
        },
        {
          "name": "stderr",
          "output_type": "stream",
          "text": [
            "\r 89%|████████▉ | 40/45 [00:34<00:03,  1.37it/s]"
          ]
        },
        {
          "name": "stdout",
          "output_type": "stream",
          "text": [
            "\n",
            "image 1/1 /content/drive/MyDrive/projects/SecondTry/JPG_480/val/Good/MADAHSADEGH-39of39_IMG0016.jpg: 256x256 Good 1.00, Bad 0.00, Null 0.00, 14.9ms\n",
            "Speed: 6.0ms preprocess, 14.9ms inference, 0.1ms postprocess per image at shape (1, 3, 256, 256)\n"
          ]
        },
        {
          "name": "stderr",
          "output_type": "stream",
          "text": [
            "\r 91%|█████████ | 41/45 [00:35<00:02,  1.47it/s]"
          ]
        },
        {
          "name": "stdout",
          "output_type": "stream",
          "text": [
            "\n",
            "image 1/1 /content/drive/MyDrive/projects/SecondTry/JPG_480/val/Good/MADAHSADEGH-927of927_IMG0927.jpg: 256x256 Good 1.00, Bad 0.00, Null 0.00, 14.6ms\n",
            "Speed: 4.0ms preprocess, 14.6ms inference, 0.0ms postprocess per image at shape (1, 3, 256, 256)\n"
          ]
        },
        {
          "name": "stderr",
          "output_type": "stream",
          "text": [
            "\r 93%|█████████▎| 42/45 [00:36<00:02,  1.48it/s]"
          ]
        },
        {
          "name": "stdout",
          "output_type": "stream",
          "text": [
            "\n",
            "image 1/1 /content/drive/MyDrive/projects/SecondTry/JPG_480/val/Good/MehrdadMAHDI-97of97_IMG0095.jpg: 256x256 Good 0.99, Null 0.01, Bad 0.00, 14.6ms\n",
            "Speed: 4.0ms preprocess, 14.6ms inference, 0.0ms postprocess per image at shape (1, 3, 256, 256)\n"
          ]
        },
        {
          "name": "stderr",
          "output_type": "stream",
          "text": [
            "\r 96%|█████████▌| 43/45 [00:36<00:01,  1.42it/s]"
          ]
        },
        {
          "name": "stdout",
          "output_type": "stream",
          "text": [
            "\n",
            "image 1/1 /content/drive/MyDrive/projects/SecondTry/JPG_480/val/Good/MehrdadMAHDI-97of97_IMG0096.jpg: 256x256 Good 0.99, Null 0.00, Bad 0.00, 14.6ms\n",
            "Speed: 5.6ms preprocess, 14.6ms inference, 0.0ms postprocess per image at shape (1, 3, 256, 256)\n"
          ]
        },
        {
          "name": "stderr",
          "output_type": "stream",
          "text": [
            "\r 98%|█████████▊| 44/45 [00:37<00:00,  1.47it/s]"
          ]
        },
        {
          "name": "stdout",
          "output_type": "stream",
          "text": [
            "\n",
            "image 1/1 /content/drive/MyDrive/projects/SecondTry/JPG_480/val/Good/MehrdadMAHDI-97of97_IMG0097.jpg: 256x256 Good 0.99, Null 0.01, Bad 0.00, 14.6ms\n",
            "Speed: 3.9ms preprocess, 14.6ms inference, 0.1ms postprocess per image at shape (1, 3, 256, 256)\n"
          ]
        },
        {
          "name": "stderr",
          "output_type": "stream",
          "text": [
            "100%|██████████| 45/45 [00:38<00:00,  1.18it/s]\n",
            "  0%|          | 0/42 [00:00<?, ?it/s]"
          ]
        },
        {
          "name": "stdout",
          "output_type": "stream",
          "text": [
            "\n",
            "image 1/1 /content/drive/MyDrive/projects/SecondTry/JPG_480/val/Null/MohammadisaniHossein-423of434_IMG0026.jpg: 256x256 Null 1.00, Bad 0.00, Good 0.00, 14.6ms\n",
            "Speed: 4.0ms preprocess, 14.6ms inference, 0.0ms postprocess per image at shape (1, 3, 256, 256)\n"
          ]
        },
        {
          "name": "stderr",
          "output_type": "stream",
          "text": [
            "\r  2%|▏         | 1/42 [00:00<00:27,  1.48it/s]"
          ]
        },
        {
          "name": "stdout",
          "output_type": "stream",
          "text": [
            "\n",
            "image 1/1 /content/drive/MyDrive/projects/SecondTry/JPG_480/val/Null/MohammadisaniHossein-423of434_IMG0029.jpg: 256x256 Null 1.00, Bad 0.00, Good 0.00, 14.5ms\n",
            "Speed: 3.9ms preprocess, 14.5ms inference, 0.0ms postprocess per image at shape (1, 3, 256, 256)\n"
          ]
        },
        {
          "name": "stderr",
          "output_type": "stream",
          "text": [
            "\r  5%|▍         | 2/42 [00:01<00:27,  1.44it/s]"
          ]
        },
        {
          "name": "stdout",
          "output_type": "stream",
          "text": [
            "\n",
            "image 1/1 /content/drive/MyDrive/projects/SecondTry/JPG_480/val/Null/MohammadisaniHossein-423of434_IMG0039.jpg: 256x256 Null 1.00, Bad 0.00, Good 0.00, 14.6ms\n",
            "Speed: 4.1ms preprocess, 14.6ms inference, 0.1ms postprocess per image at shape (1, 3, 256, 256)\n"
          ]
        },
        {
          "name": "stderr",
          "output_type": "stream",
          "text": [
            "\r  7%|▋         | 3/42 [00:02<00:26,  1.48it/s]"
          ]
        },
        {
          "name": "stdout",
          "output_type": "stream",
          "text": [
            "\n",
            "image 1/1 /content/drive/MyDrive/projects/SecondTry/JPG_480/val/Null/MohammadisaniHossein-423of434_IMG0044.jpg: 256x256 Null 1.00, Bad 0.00, Good 0.00, 14.6ms\n",
            "Speed: 6.1ms preprocess, 14.6ms inference, 0.1ms postprocess per image at shape (1, 3, 256, 256)\n"
          ]
        },
        {
          "name": "stderr",
          "output_type": "stream",
          "text": [
            "\r 10%|▉         | 4/42 [00:02<00:24,  1.53it/s]"
          ]
        },
        {
          "name": "stdout",
          "output_type": "stream",
          "text": [
            "\n",
            "image 1/1 /content/drive/MyDrive/projects/SecondTry/JPG_480/val/Null/MohammadisaniHossein-423of434_IMG0011.jpg: 256x256 Null 1.00, Bad 0.00, Good 0.00, 14.6ms\n",
            "Speed: 5.8ms preprocess, 14.6ms inference, 0.1ms postprocess per image at shape (1, 3, 256, 256)\n"
          ]
        },
        {
          "name": "stderr",
          "output_type": "stream",
          "text": [
            "\r 12%|█▏        | 5/42 [00:03<00:23,  1.55it/s]"
          ]
        },
        {
          "name": "stdout",
          "output_type": "stream",
          "text": [
            "\n",
            "image 1/1 /content/drive/MyDrive/projects/SecondTry/JPG_480/val/Null/MohammadisaniHossein-423of434_IMG0033.jpg: 256x256 Null 1.00, Bad 0.00, Good 0.00, 19.0ms\n",
            "Speed: 5.7ms preprocess, 19.0ms inference, 0.1ms postprocess per image at shape (1, 3, 256, 256)\n"
          ]
        },
        {
          "name": "stderr",
          "output_type": "stream",
          "text": [
            "\r 14%|█▍        | 6/42 [00:03<00:23,  1.54it/s]"
          ]
        },
        {
          "name": "stdout",
          "output_type": "stream",
          "text": [
            "\n",
            "image 1/1 /content/drive/MyDrive/projects/SecondTry/JPG_480/val/Null/MohammadisaniHossein-423of434_IMG0059.jpg: 256x256 Null 1.00, Bad 0.00, Good 0.00, 14.6ms\n",
            "Speed: 4.0ms preprocess, 14.6ms inference, 0.1ms postprocess per image at shape (1, 3, 256, 256)\n"
          ]
        },
        {
          "name": "stderr",
          "output_type": "stream",
          "text": [
            "\r 17%|█▋        | 7/42 [00:05<00:36,  1.03s/it]"
          ]
        },
        {
          "name": "stdout",
          "output_type": "stream",
          "text": [
            "\n",
            "image 1/1 /content/drive/MyDrive/projects/SecondTry/JPG_480/val/Null/MohammadisaniHossein-423of434_IMG0037.jpg: 256x256 Null 1.00, Bad 0.00, Good 0.00, 14.5ms\n",
            "Speed: 3.9ms preprocess, 14.5ms inference, 0.1ms postprocess per image at shape (1, 3, 256, 256)\n"
          ]
        },
        {
          "name": "stderr",
          "output_type": "stream",
          "text": [
            "\r 19%|█▉        | 8/42 [00:06<00:30,  1.13it/s]"
          ]
        },
        {
          "name": "stdout",
          "output_type": "stream",
          "text": [
            "\n",
            "image 1/1 /content/drive/MyDrive/projects/SecondTry/JPG_480/val/Null/MohammadisaniHossein-423of434_IMG0049.jpg: 256x256 Null 1.00, Bad 0.00, Good 0.00, 14.6ms\n",
            "Speed: 4.1ms preprocess, 14.6ms inference, 0.1ms postprocess per image at shape (1, 3, 256, 256)\n"
          ]
        },
        {
          "name": "stderr",
          "output_type": "stream",
          "text": [
            "\r 21%|██▏       | 9/42 [00:07<00:26,  1.22it/s]"
          ]
        },
        {
          "name": "stdout",
          "output_type": "stream",
          "text": [
            "\n",
            "image 1/1 /content/drive/MyDrive/projects/SecondTry/JPG_480/val/Null/MohammadisaniHossein-423of434_IMG0007.jpg: 256x256 Null 1.00, Bad 0.00, Good 0.00, 14.6ms\n",
            "Speed: 4.3ms preprocess, 14.6ms inference, 0.0ms postprocess per image at shape (1, 3, 256, 256)\n"
          ]
        },
        {
          "name": "stderr",
          "output_type": "stream",
          "text": [
            "\r 24%|██▍       | 10/42 [00:07<00:25,  1.25it/s]"
          ]
        },
        {
          "name": "stdout",
          "output_type": "stream",
          "text": [
            "\n",
            "image 1/1 /content/drive/MyDrive/projects/SecondTry/JPG_480/val/Null/MohammadisaniHossein-423of434_IMG0054.jpg: 256x256 Null 1.00, Bad 0.00, Good 0.00, 14.6ms\n",
            "Speed: 4.1ms preprocess, 14.6ms inference, 0.0ms postprocess per image at shape (1, 3, 256, 256)\n"
          ]
        },
        {
          "name": "stderr",
          "output_type": "stream",
          "text": [
            "\r 26%|██▌       | 11/42 [00:09<00:31,  1.02s/it]"
          ]
        },
        {
          "name": "stdout",
          "output_type": "stream",
          "text": [
            "\n",
            "image 1/1 /content/drive/MyDrive/projects/SecondTry/JPG_480/val/Null/MohammadisaniHossein-423of434_IMG0004.jpg: 256x256 Null 1.00, Bad 0.00, Good 0.00, 14.6ms\n",
            "Speed: 4.0ms preprocess, 14.6ms inference, 0.0ms postprocess per image at shape (1, 3, 256, 256)\n"
          ]
        },
        {
          "name": "stderr",
          "output_type": "stream",
          "text": [
            "\r 29%|██▊       | 12/42 [00:10<00:34,  1.15s/it]"
          ]
        },
        {
          "name": "stdout",
          "output_type": "stream",
          "text": [
            "\n",
            "image 1/1 /content/drive/MyDrive/projects/SecondTry/JPG_480/val/Null/MohammadisaniHossein-423of434_IMG0034.jpg: 256x256 Null 0.99, Bad 0.01, Good 0.00, 14.6ms\n",
            "Speed: 3.9ms preprocess, 14.6ms inference, 0.1ms postprocess per image at shape (1, 3, 256, 256)\n"
          ]
        },
        {
          "name": "stderr",
          "output_type": "stream",
          "text": [
            "\r 31%|███       | 13/42 [00:11<00:30,  1.04s/it]"
          ]
        },
        {
          "name": "stdout",
          "output_type": "stream",
          "text": [
            "\n",
            "image 1/1 /content/drive/MyDrive/projects/SecondTry/JPG_480/val/Null/MohammadisaniHossein-423of434_IMG0009.jpg: 256x256 Null 1.00, Bad 0.00, Good 0.00, 14.7ms\n",
            "Speed: 6.0ms preprocess, 14.7ms inference, 0.1ms postprocess per image at shape (1, 3, 256, 256)\n"
          ]
        },
        {
          "name": "stderr",
          "output_type": "stream",
          "text": [
            "\r 33%|███▎      | 14/42 [00:12<00:26,  1.07it/s]"
          ]
        },
        {
          "name": "stdout",
          "output_type": "stream",
          "text": [
            "\n",
            "image 1/1 /content/drive/MyDrive/projects/SecondTry/JPG_480/val/Null/MohammadisaniHossein-423of434_IMG0042.jpg: 256x256 Null 1.00, Bad 0.00, Good 0.00, 14.6ms\n",
            "Speed: 4.4ms preprocess, 14.6ms inference, 0.1ms postprocess per image at shape (1, 3, 256, 256)\n"
          ]
        },
        {
          "name": "stderr",
          "output_type": "stream",
          "text": [
            "\r 36%|███▌      | 15/42 [00:13<00:24,  1.11it/s]"
          ]
        },
        {
          "name": "stdout",
          "output_type": "stream",
          "text": [
            "\n",
            "image 1/1 /content/drive/MyDrive/projects/SecondTry/JPG_480/val/Null/MohammadisaniHossein-423of434_IMG0018.jpg: 256x256 Null 1.00, Bad 0.00, Good 0.00, 14.6ms\n",
            "Speed: 4.0ms preprocess, 14.6ms inference, 0.0ms postprocess per image at shape (1, 3, 256, 256)\n"
          ]
        },
        {
          "name": "stderr",
          "output_type": "stream",
          "text": [
            "\r 38%|███▊      | 16/42 [00:13<00:22,  1.14it/s]"
          ]
        },
        {
          "name": "stdout",
          "output_type": "stream",
          "text": [
            "\n",
            "image 1/1 /content/drive/MyDrive/projects/SecondTry/JPG_480/val/Null/MohammadisaniHossein-423of434_IMG0001.jpg: 256x256 Null 1.00, Bad 0.00, Good 0.00, 14.6ms\n",
            "Speed: 5.6ms preprocess, 14.6ms inference, 0.1ms postprocess per image at shape (1, 3, 256, 256)\n"
          ]
        },
        {
          "name": "stderr",
          "output_type": "stream",
          "text": [
            "\r 40%|████      | 17/42 [00:14<00:19,  1.25it/s]"
          ]
        },
        {
          "name": "stdout",
          "output_type": "stream",
          "text": [
            "\n",
            "image 1/1 /content/drive/MyDrive/projects/SecondTry/JPG_480/val/Null/MohammadisaniHossein-423of434_IMG0023.jpg: 256x256 Null 1.00, Bad 0.00, Good 0.00, 14.6ms\n",
            "Speed: 6.0ms preprocess, 14.6ms inference, 0.1ms postprocess per image at shape (1, 3, 256, 256)\n"
          ]
        },
        {
          "name": "stderr",
          "output_type": "stream",
          "text": [
            "\r 43%|████▎     | 18/42 [00:15<00:18,  1.31it/s]"
          ]
        },
        {
          "name": "stdout",
          "output_type": "stream",
          "text": [
            "\n",
            "image 1/1 /content/drive/MyDrive/projects/SecondTry/JPG_480/val/Null/MohammadisaniHossein-423of434_IMG0014.jpg: 256x256 Null 1.00, Bad 0.00, Good 0.00, 15.0ms\n",
            "Speed: 6.2ms preprocess, 15.0ms inference, 0.1ms postprocess per image at shape (1, 3, 256, 256)\n"
          ]
        },
        {
          "name": "stderr",
          "output_type": "stream",
          "text": [
            "\r 45%|████▌     | 19/42 [00:16<00:18,  1.26it/s]"
          ]
        },
        {
          "name": "stdout",
          "output_type": "stream",
          "text": [
            "\n",
            "image 1/1 /content/drive/MyDrive/projects/SecondTry/JPG_480/val/Null/MADAHSADEGH-927of927_IMG0088.jpg: 256x256 Null 0.99, Bad 0.01, Good 0.00, 14.6ms\n",
            "Speed: 4.1ms preprocess, 14.6ms inference, 0.1ms postprocess per image at shape (1, 3, 256, 256)\n"
          ]
        },
        {
          "name": "stderr",
          "output_type": "stream",
          "text": [
            "\r 48%|████▊     | 20/42 [00:16<00:16,  1.34it/s]"
          ]
        },
        {
          "name": "stdout",
          "output_type": "stream",
          "text": [
            "\n",
            "image 1/1 /content/drive/MyDrive/projects/SecondTry/JPG_480/val/Null/MADAHSADEGH-927of927_IMG0062.jpg: 256x256 Null 0.98, Bad 0.02, Good 0.00, 14.6ms\n",
            "Speed: 4.0ms preprocess, 14.6ms inference, 0.1ms postprocess per image at shape (1, 3, 256, 256)\n"
          ]
        },
        {
          "name": "stderr",
          "output_type": "stream",
          "text": [
            "\r 50%|█████     | 21/42 [00:17<00:15,  1.32it/s]"
          ]
        },
        {
          "name": "stdout",
          "output_type": "stream",
          "text": [
            "\n",
            "image 1/1 /content/drive/MyDrive/projects/SecondTry/JPG_480/val/Null/MADAHSADEGH-927of927_IMG0085.jpg: 256x256 Null 1.00, Bad 0.00, Good 0.00, 14.5ms\n",
            "Speed: 4.2ms preprocess, 14.5ms inference, 0.0ms postprocess per image at shape (1, 3, 256, 256)\n"
          ]
        },
        {
          "name": "stderr",
          "output_type": "stream",
          "text": [
            "\r 52%|█████▏    | 22/42 [00:18<00:14,  1.38it/s]"
          ]
        },
        {
          "name": "stdout",
          "output_type": "stream",
          "text": [
            "\n",
            "image 1/1 /content/drive/MyDrive/projects/SecondTry/JPG_480/val/Null/MADAHSADEGH-927of927_IMG0020.jpg: 256x256 Null 0.96, Bad 0.04, Good 0.00, 14.6ms\n",
            "Speed: 4.0ms preprocess, 14.6ms inference, 0.1ms postprocess per image at shape (1, 3, 256, 256)\n"
          ]
        },
        {
          "name": "stderr",
          "output_type": "stream",
          "text": [
            "\r 55%|█████▍    | 23/42 [00:18<00:14,  1.34it/s]"
          ]
        },
        {
          "name": "stdout",
          "output_type": "stream",
          "text": [
            "\n",
            "image 1/1 /content/drive/MyDrive/projects/SecondTry/JPG_480/val/Null/MADAHSADEGH-927of927_IMG0001.jpg: 256x256 Bad 0.64, Null 0.36, Good 0.00, 14.8ms\n",
            "Speed: 6.0ms preprocess, 14.8ms inference, 0.1ms postprocess per image at shape (1, 3, 256, 256)\n"
          ]
        },
        {
          "name": "stderr",
          "output_type": "stream",
          "text": [
            "\r 57%|█████▋    | 24/42 [00:19<00:14,  1.25it/s]"
          ]
        },
        {
          "name": "stdout",
          "output_type": "stream",
          "text": [
            "\n",
            "image 1/1 /content/drive/MyDrive/projects/SecondTry/JPG_480/val/Null/MADAHSADEGH-927of927_IMG0055.jpg: 256x256 Null 0.70, Bad 0.30, Good 0.00, 14.6ms\n",
            "Speed: 4.0ms preprocess, 14.6ms inference, 0.1ms postprocess per image at shape (1, 3, 256, 256)\n"
          ]
        },
        {
          "name": "stderr",
          "output_type": "stream",
          "text": [
            "\r 60%|█████▉    | 25/42 [00:20<00:13,  1.30it/s]"
          ]
        },
        {
          "name": "stdout",
          "output_type": "stream",
          "text": [
            "\n",
            "image 1/1 /content/drive/MyDrive/projects/SecondTry/JPG_480/val/Null/MIRZAEIEHamidreza-262of281_IMG0024.jpg: 256x256 Null 1.00, Bad 0.00, Good 0.00, 14.6ms\n",
            "Speed: 4.3ms preprocess, 14.6ms inference, 0.0ms postprocess per image at shape (1, 3, 256, 256)\n"
          ]
        },
        {
          "name": "stderr",
          "output_type": "stream",
          "text": [
            "\r 62%|██████▏   | 26/42 [00:21<00:12,  1.33it/s]"
          ]
        },
        {
          "name": "stdout",
          "output_type": "stream",
          "text": [
            "\n",
            "image 1/1 /content/drive/MyDrive/projects/SecondTry/JPG_480/val/Null/MIRZAEIEHamidreza-262of281_IMG0026.jpg: 256x256 Null 1.00, Bad 0.00, Good 0.00, 14.6ms\n",
            "Speed: 4.1ms preprocess, 14.6ms inference, 0.2ms postprocess per image at shape (1, 3, 256, 256)\n"
          ]
        },
        {
          "name": "stderr",
          "output_type": "stream",
          "text": [
            "\r 64%|██████▍   | 27/42 [00:22<00:11,  1.31it/s]"
          ]
        },
        {
          "name": "stdout",
          "output_type": "stream",
          "text": [
            "\n",
            "image 1/1 /content/drive/MyDrive/projects/SecondTry/JPG_480/val/Null/MADAHSADEGH-927of927_IMG0090.jpg: 256x256 Null 1.00, Bad 0.00, Good 0.00, 14.6ms\n",
            "Speed: 4.4ms preprocess, 14.6ms inference, 0.1ms postprocess per image at shape (1, 3, 256, 256)\n"
          ]
        },
        {
          "name": "stderr",
          "output_type": "stream",
          "text": [
            "\r 67%|██████▋   | 28/42 [00:22<00:10,  1.34it/s]"
          ]
        },
        {
          "name": "stdout",
          "output_type": "stream",
          "text": [
            "\n",
            "image 1/1 /content/drive/MyDrive/projects/SecondTry/JPG_480/val/Null/MADAHSADEGH-927of927_IMG0089.jpg: 256x256 Null 1.00, Bad 0.00, Good 0.00, 14.6ms\n",
            "Speed: 4.0ms preprocess, 14.6ms inference, 0.1ms postprocess per image at shape (1, 3, 256, 256)\n"
          ]
        },
        {
          "name": "stderr",
          "output_type": "stream",
          "text": [
            "\r 69%|██████▉   | 29/42 [00:23<00:09,  1.31it/s]"
          ]
        },
        {
          "name": "stdout",
          "output_type": "stream",
          "text": [
            "\n",
            "image 1/1 /content/drive/MyDrive/projects/SecondTry/JPG_480/val/Null/MIRZAEIEHamidreza-262of281_IMG0070.jpg: 256x256 Null 0.96, Bad 0.04, Good 0.00, 14.6ms\n",
            "Speed: 4.9ms preprocess, 14.6ms inference, 0.1ms postprocess per image at shape (1, 3, 256, 256)\n"
          ]
        },
        {
          "name": "stderr",
          "output_type": "stream",
          "text": [
            "\r 71%|███████▏  | 30/42 [00:23<00:07,  1.53it/s]"
          ]
        },
        {
          "name": "stdout",
          "output_type": "stream",
          "text": [
            "\n",
            "image 1/1 /content/drive/MyDrive/projects/SecondTry/JPG_480/val/Null/MIRZAEIEHamidreza-262of281_IMG0025.jpg: 256x256 Null 1.00, Bad 0.00, Good 0.00, 14.6ms\n",
            "Speed: 4.0ms preprocess, 14.6ms inference, 0.1ms postprocess per image at shape (1, 3, 256, 256)\n"
          ]
        },
        {
          "name": "stderr",
          "output_type": "stream",
          "text": [
            "\r 74%|███████▍  | 31/42 [00:24<00:07,  1.50it/s]"
          ]
        },
        {
          "name": "stdout",
          "output_type": "stream",
          "text": [
            "\n",
            "image 1/1 /content/drive/MyDrive/projects/SecondTry/JPG_480/val/Null/MIRZAEIEHamidreza-262of281_IMG0069.jpg: 256x256 Null 0.96, Bad 0.04, Good 0.00, 14.7ms\n",
            "Speed: 4.5ms preprocess, 14.7ms inference, 0.1ms postprocess per image at shape (1, 3, 256, 256)\n"
          ]
        },
        {
          "name": "stderr",
          "output_type": "stream",
          "text": [
            "\r 76%|███████▌  | 32/42 [00:25<00:05,  1.69it/s]"
          ]
        },
        {
          "name": "stdout",
          "output_type": "stream",
          "text": [
            "\n",
            "image 1/1 /content/drive/MyDrive/projects/SecondTry/JPG_480/val/Null/MIRZAEIEHamidreza-262of281_IMG0072.jpg: 256x256 Null 0.96, Bad 0.03, Good 0.00, 14.6ms\n",
            "Speed: 5.2ms preprocess, 14.6ms inference, 0.0ms postprocess per image at shape (1, 3, 256, 256)\n"
          ]
        },
        {
          "name": "stderr",
          "output_type": "stream",
          "text": [
            "\r 79%|███████▊  | 33/42 [00:25<00:04,  1.95it/s]"
          ]
        },
        {
          "name": "stdout",
          "output_type": "stream",
          "text": [
            "\n",
            "image 1/1 /content/drive/MyDrive/projects/SecondTry/JPG_480/val/Null/MIRZAEIEHamidreza-262of281_IMG0067.jpg: 256x256 Null 0.96, Bad 0.04, Good 0.00, 14.6ms\n",
            "Speed: 4.8ms preprocess, 14.6ms inference, 0.1ms postprocess per image at shape (1, 3, 256, 256)\n"
          ]
        },
        {
          "name": "stderr",
          "output_type": "stream",
          "text": [
            "\r 81%|████████  | 34/42 [00:25<00:03,  2.06it/s]"
          ]
        },
        {
          "name": "stdout",
          "output_type": "stream",
          "text": [
            "\n",
            "image 1/1 /content/drive/MyDrive/projects/SecondTry/JPG_480/val/Null/MIRZAEIEHamidreza-262of281_IMG0068.jpg: 256x256 Null 0.96, Bad 0.04, Good 0.00, 14.7ms\n",
            "Speed: 7.0ms preprocess, 14.7ms inference, 0.1ms postprocess per image at shape (1, 3, 256, 256)\n"
          ]
        },
        {
          "name": "stderr",
          "output_type": "stream",
          "text": [
            "\r 83%|████████▎ | 35/42 [00:26<00:03,  2.12it/s]"
          ]
        },
        {
          "name": "stdout",
          "output_type": "stream",
          "text": [
            "\n",
            "image 1/1 /content/drive/MyDrive/projects/SecondTry/JPG_480/val/Null/MIRZAEIEHamidreza-262of281_IMG0071.jpg: 256x256 Null 0.96, Bad 0.03, Good 0.00, 35.3ms\n",
            "Speed: 11.3ms preprocess, 35.3ms inference, 0.1ms postprocess per image at shape (1, 3, 256, 256)\n"
          ]
        },
        {
          "name": "stderr",
          "output_type": "stream",
          "text": [
            "\r 86%|████████▌ | 36/42 [00:26<00:02,  2.15it/s]"
          ]
        },
        {
          "name": "stdout",
          "output_type": "stream",
          "text": [
            "\n",
            "image 1/1 /content/drive/MyDrive/projects/SecondTry/JPG_480/val/Null/MoghbeliZAHRA-383of399_IMG0021.jpg: 256x256 Null 0.98, Bad 0.02, Good 0.00, 18.0ms\n",
            "Speed: 6.1ms preprocess, 18.0ms inference, 0.1ms postprocess per image at shape (1, 3, 256, 256)\n"
          ]
        },
        {
          "name": "stderr",
          "output_type": "stream",
          "text": [
            "\r 88%|████████▊ | 37/42 [00:27<00:03,  1.61it/s]"
          ]
        },
        {
          "name": "stdout",
          "output_type": "stream",
          "text": [
            "\n",
            "image 1/1 /content/drive/MyDrive/projects/SecondTry/JPG_480/val/Null/MoghbeliZAHRA-383of399_IMG0116.jpg: 256x256 Null 1.00, Bad 0.00, Good 0.00, 32.1ms\n",
            "Speed: 11.4ms preprocess, 32.1ms inference, 0.1ms postprocess per image at shape (1, 3, 256, 256)\n"
          ]
        },
        {
          "name": "stderr",
          "output_type": "stream",
          "text": [
            "\r 90%|█████████ | 38/42 [00:28<00:02,  1.46it/s]"
          ]
        },
        {
          "name": "stdout",
          "output_type": "stream",
          "text": [
            "\n",
            "image 1/1 /content/drive/MyDrive/projects/SecondTry/JPG_480/val/Null/MoghbeliZAHRA-383of399_IMG0001.jpg: 256x256 Bad 0.99, Good 0.01, Null 0.00, 32.3ms\n",
            "Speed: 10.3ms preprocess, 32.3ms inference, 0.1ms postprocess per image at shape (1, 3, 256, 256)\n"
          ]
        },
        {
          "name": "stderr",
          "output_type": "stream",
          "text": [
            "\r 93%|█████████▎| 39/42 [00:29<00:02,  1.39it/s]"
          ]
        },
        {
          "name": "stdout",
          "output_type": "stream",
          "text": [
            "\n",
            "image 1/1 /content/drive/MyDrive/projects/SecondTry/JPG_480/val/Null/MoghbeliZAHRA-383of399_IMG0033.jpg: 256x256 Bad 0.89, Good 0.11, Null 0.00, 32.5ms\n",
            "Speed: 21.3ms preprocess, 32.5ms inference, 0.1ms postprocess per image at shape (1, 3, 256, 256)\n"
          ]
        },
        {
          "name": "stderr",
          "output_type": "stream",
          "text": [
            "\r 95%|█████████▌| 40/42 [00:30<00:01,  1.29it/s]"
          ]
        },
        {
          "name": "stdout",
          "output_type": "stream",
          "text": [
            "\n",
            "image 1/1 /content/drive/MyDrive/projects/SecondTry/JPG_480/val/Null/MoghbeliZAHRA-383of399_IMG0014.jpg: 256x256 Null 1.00, Bad 0.00, Good 0.00, 14.8ms\n",
            "Speed: 4.1ms preprocess, 14.8ms inference, 0.1ms postprocess per image at shape (1, 3, 256, 256)\n"
          ]
        },
        {
          "name": "stderr",
          "output_type": "stream",
          "text": [
            "\r 98%|█████████▊| 41/42 [00:30<00:00,  1.37it/s]"
          ]
        },
        {
          "name": "stdout",
          "output_type": "stream",
          "text": [
            "\n",
            "image 1/1 /content/drive/MyDrive/projects/SecondTry/JPG_480/val/Null/MoghbeliZAHRA-383of399_IMG0145.jpg: 256x256 Null 1.00, Bad 0.00, Good 0.00, 14.6ms\n",
            "Speed: 3.9ms preprocess, 14.6ms inference, 0.1ms postprocess per image at shape (1, 3, 256, 256)\n"
          ]
        },
        {
          "name": "stderr",
          "output_type": "stream",
          "text": [
            "100%|██████████| 42/42 [00:31<00:00,  1.34it/s]\n"
          ]
        }
      ],
      "source": [
        "# test set path\n",
        "test_dir = '/content/drive/MyDrive/projects/SecondTry/JPG_480/val/'\n",
        "\n",
        "classes = ['Bad', 'Good', 'Null']\n",
        "\n",
        "true_labels = []\n",
        "pred_labels = []\n",
        "\n",
        "# Loop through the test\n",
        "for label in classes:\n",
        "    class_dir = os.path.join(test_dir, label)\n",
        "    for image_name in tqdm(os.listdir(class_dir)):\n",
        "        image_path = os.path.join(class_dir, image_name)\n",
        "\n",
        "        # Predict the images class\n",
        "        result = model.predict(image_path)\n",
        "\n",
        "        result = result[0]\n",
        "\n",
        "        # Get the predicted class index using the top1 attribute\n",
        "        predicted_idx = result.probs.top1\n",
        "        predicted_class = classes[predicted_idx]\n",
        "\n",
        "        true_labels.append(label)\n",
        "        pred_labels.append(predicted_class)\n",
        "\n",
        "true_labels = np.array(true_labels)\n",
        "pred_labels = np.array(pred_labels)"
      ]
    },
    {
      "cell_type": "code",
      "execution_count": 8,
      "metadata": {
        "colab": {
          "base_uri": "https://localhost:8080/",
          "height": 633
        },
        "id": "kWuTm37zGdrq",
        "outputId": "35afe497-cd32-4c08-ba9d-91927e487856"
      },
      "outputs": [
        {
          "name": "stdout",
          "output_type": "stream",
          "text": [
            "Confusion Matrix:\n",
            "[[27  1  3]\n",
            " [ 0 45  0]\n",
            " [ 3  0 39]]\n"
          ]
        },
        {
          "data": {
            "image/png": "[encoded data removed]",
            "text/plain": [
              "<Figure size 800x600 with 2 Axes>"
            ]
          },
          "metadata": {},
          "output_type": "display_data"
        }
      ],
      "source": [
        "# Calculate Confusion Matrix with specified order\n",
        "conf_matrix = confusion_matrix(true_labels, pred_labels, labels=classes)  # Using the specified class order\n",
        "print('Confusion Matrix:')\n",
        "print(conf_matrix)\n",
        "\n",
        "# Plot Confusion Matrix with the original class labels\n",
        "plt.figure(figsize=(8, 6))\n",
        "sns.heatmap(conf_matrix, annot=True, fmt='d', cmap='Blues',\n",
        "            xticklabels=classes, yticklabels=classes,\n",
        "            cbar_kws={\"orientation\": \"vertical\"})  # Add color bar\n",
        "plt.xlabel('Predicted Label')\n",
        "plt.ylabel('True Label')\n",
        "plt.title('Confusion Matrix')\n",
        "plt.show()"
      ]
    },
    {
      "cell_type": "code",
      "execution_count": 9,
      "metadata": {
        "colab": {
          "base_uri": "https://localhost:8080/"
        },
        "id": "bpWwEWsxGgNL",
        "outputId": "36915f2d-0a5d-4c22-d40f-30da54e15248"
      },
      "outputs": [
        {
          "name": "stdout",
          "output_type": "stream",
          "text": [
            "Confusion Matrix:\n",
            "[[27  1  3]\n",
            " [ 0 45  0]\n",
            " [ 3  0 39]]\n",
            "Classification Report:\n",
            "              precision    recall  f1-score   support\n",
            "\n",
            "         Bad       0.90      0.87      0.89        31\n",
            "        Good       0.98      1.00      0.99        45\n",
            "        Null       0.93      0.93      0.93        42\n",
            "\n",
            "    accuracy                           0.94       118\n",
            "   macro avg       0.94      0.93      0.93       118\n",
            "weighted avg       0.94      0.94      0.94       118\n",
            "\n"
          ]
        }
      ],
      "source": [
        "# Display Confusion Matrix\n",
        "conf_matrix = confusion_matrix(true_labels, pred_labels, labels=classes)\n",
        "print('Confusion Matrix:')\n",
        "print(conf_matrix)\n",
        "\n",
        "# Display Classification Report (includes precision, recall, F1-score)\n",
        "class_report = classification_report(true_labels, pred_labels, target_names=classes)\n",
        "print('Classification Report:')\n",
        "print(class_report)"
      ]
    },
    {
      "cell_type": "markdown",
      "metadata": {
        "id": "FToak9S9jDth"
      },
      "source": [
        "#### misclassified"
      ]
    },
    {
      "cell_type": "code",
      "execution_count": 11,
      "metadata": {
        "colab": {
          "base_uri": "https://localhost:8080/",
          "height": 1000
        },
        "id": "4oPpe4GMjCDB",
        "outputId": "ecb18fcf-71e3-4400-aa58-6c178b77fb02"
      },
      "outputs": [
        {
          "name": "stderr",
          "output_type": "stream",
          "text": [
            "\r  0%|          | 0/31 [00:00<?, ?it/s]"
          ]
        },
        {
          "name": "stdout",
          "output_type": "stream",
          "text": [
            "\n",
            "image 1/1 /content/drive/MyDrive/projects/SecondTry/JPG_480/val/Bad/MehrdadMAHDI-130of130_IMG0002.jpg: 256x256 Bad 0.94, Null 0.05, Good 0.00, 14.8ms\n",
            "Speed: 5.3ms preprocess, 14.8ms inference, 0.1ms postprocess per image at shape (1, 3, 256, 256)\n",
            "\n",
            "image 1/1 /content/drive/MyDrive/projects/SecondTry/JPG_480/val/Bad/MehrdadMAHDI-130of130_IMG0003.jpg: 256x256 Bad 0.96, Null 0.03, Good 0.01, 14.5ms\n",
            "Speed: 4.7ms preprocess, 14.5ms inference, 0.1ms postprocess per image at shape (1, 3, 256, 256)\n",
            "\n",
            "image 1/1 /content/drive/MyDrive/projects/SecondTry/JPG_480/val/Bad/MehrdadMAHDI-130of130_IMG0001.jpg: 256x256 Bad 0.87, Null 0.13, Good 0.00, 15.1ms\n",
            "Speed: 5.1ms preprocess, 15.1ms inference, 0.0ms postprocess per image at shape (1, 3, 256, 256)\n",
            "\n",
            "image 1/1 /content/drive/MyDrive/projects/SecondTry/JPG_480/val/Bad/MIRZAEIEHamidreza-192of192_IMG0138.jpg: 256x256 Bad 0.98, Good 0.02, Null 0.00, 14.5ms\n",
            "Speed: 3.7ms preprocess, 14.5ms inference, 0.1ms postprocess per image at shape (1, 3, 256, 256)\n"
          ]
        },
        {
          "name": "stderr",
          "output_type": "stream",
          "text": [
            "\r 13%|█▎        | 4/31 [00:00<00:00, 34.60it/s]"
          ]
        },
        {
          "name": "stdout",
          "output_type": "stream",
          "text": [
            "\n",
            "image 1/1 /content/drive/MyDrive/projects/SecondTry/JPG_480/val/Bad/MIRZAEIEHamidreza-192of192_IMG0137.jpg: 256x256 Bad 0.98, Good 0.02, Null 0.00, 14.5ms\n",
            "Speed: 4.1ms preprocess, 14.5ms inference, 0.0ms postprocess per image at shape (1, 3, 256, 256)\n",
            "\n",
            "image 1/1 /content/drive/MyDrive/projects/SecondTry/JPG_480/val/Bad/MIRZAEIEHamidreza-192of192_IMG0136.jpg: 256x256 Bad 0.94, Good 0.06, Null 0.00, 14.5ms\n",
            "Speed: 3.7ms preprocess, 14.5ms inference, 0.0ms postprocess per image at shape (1, 3, 256, 256)\n",
            "\n",
            "image 1/1 /content/drive/MyDrive/projects/SecondTry/JPG_480/val/Bad/MohammadisaniHossein-423of434_IMG0303.jpg: 256x256 Bad 0.89, Null 0.11, Good 0.00, 14.5ms\n",
            "Speed: 3.9ms preprocess, 14.5ms inference, 0.0ms postprocess per image at shape (1, 3, 256, 256)\n",
            "\n",
            "image 1/1 /content/drive/MyDrive/projects/SecondTry/JPG_480/val/Bad/MohammadisaniHossein-423of434_IMG0292.jpg: 256x256 Bad 0.99, Null 0.01, Good 0.00, 14.5ms\n",
            "Speed: 3.8ms preprocess, 14.5ms inference, 0.1ms postprocess per image at shape (1, 3, 256, 256)\n"
          ]
        },
        {
          "name": "stderr",
          "output_type": "stream",
          "text": [
            "\r 26%|██▌       | 8/31 [00:00<00:00, 35.25it/s]"
          ]
        },
        {
          "name": "stdout",
          "output_type": "stream",
          "text": [
            "\n",
            "image 1/1 /content/drive/MyDrive/projects/SecondTry/JPG_480/val/Bad/MohammadisaniHossein-423of434_IMG0295.jpg: 256x256 Bad 0.94, Null 0.06, Good 0.00, 14.8ms\n",
            "Speed: 6.0ms preprocess, 14.8ms inference, 0.1ms postprocess per image at shape (1, 3, 256, 256)\n",
            "\n",
            "image 1/1 /content/drive/MyDrive/projects/SecondTry/JPG_480/val/Bad/MohammadisaniHossein-423of434_IMG0300.jpg: 256x256 Null 0.95, Bad 0.04, Good 0.00, 16.9ms\n",
            "Speed: 6.5ms preprocess, 16.9ms inference, 0.1ms postprocess per image at shape (1, 3, 256, 256)\n",
            "\n",
            "image 1/1 /content/drive/MyDrive/projects/SecondTry/JPG_480/val/Bad/MohammadisaniHossein-423of434_IMG0296.jpg: 256x256 Bad 0.78, Null 0.22, Good 0.00, 14.5ms\n",
            "Speed: 3.7ms preprocess, 14.5ms inference, 0.1ms postprocess per image at shape (1, 3, 256, 256)\n",
            "\n",
            "image 1/1 /content/drive/MyDrive/projects/SecondTry/JPG_480/val/Bad/MohammadisaniHossein-423of434_IMG0294.jpg: 256x256 Bad 0.97, Null 0.03, Good 0.00, 14.5ms\n",
            "Speed: 3.7ms preprocess, 14.5ms inference, 0.1ms postprocess per image at shape (1, 3, 256, 256)\n"
          ]
        },
        {
          "name": "stderr",
          "output_type": "stream",
          "text": [
            "\r 39%|███▊      | 12/31 [00:00<00:00, 34.12it/s]"
          ]
        },
        {
          "name": "stdout",
          "output_type": "stream",
          "text": [
            "\n",
            "image 1/1 /content/drive/MyDrive/projects/SecondTry/JPG_480/val/Bad/MohammadisaniHossein-423of434_IMG0293.jpg: 256x256 Bad 0.96, Null 0.04, Good 0.00, 13.7ms\n",
            "Speed: 3.7ms preprocess, 13.7ms inference, 0.1ms postprocess per image at shape (1, 3, 256, 256)\n",
            "\n",
            "image 1/1 /content/drive/MyDrive/projects/SecondTry/JPG_480/val/Bad/MohammadisaniHossein-423of434_IMG0301.jpg: 256x256 Null 0.80, Bad 0.20, Good 0.00, 12.6ms\n",
            "Speed: 3.8ms preprocess, 12.6ms inference, 0.1ms postprocess per image at shape (1, 3, 256, 256)\n",
            "\n",
            "image 1/1 /content/drive/MyDrive/projects/SecondTry/JPG_480/val/Bad/MohammadisaniHossein-111of127_IMG0063.jpg: 256x256 Bad 1.00, Good 0.00, Null 0.00, 12.5ms\n",
            "Speed: 3.8ms preprocess, 12.5ms inference, 0.0ms postprocess per image at shape (1, 3, 256, 256)\n",
            "\n",
            "image 1/1 /content/drive/MyDrive/projects/SecondTry/JPG_480/val/Bad/MohammadisaniHossein-423of434_IMG0298.jpg: 256x256 Null 0.96, Bad 0.03, Good 0.00, 12.6ms\n",
            "Speed: 3.8ms preprocess, 12.6ms inference, 0.0ms postprocess per image at shape (1, 3, 256, 256)\n"
          ]
        },
        {
          "name": "stderr",
          "output_type": "stream",
          "text": [
            "\r 52%|█████▏    | 16/31 [00:00<00:00, 35.50it/s]"
          ]
        },
        {
          "name": "stdout",
          "output_type": "stream",
          "text": [
            "\n",
            "image 1/1 /content/drive/MyDrive/projects/SecondTry/JPG_480/val/Bad/MoghbeliZAHRA-383of399_IMG0182.jpg: 256x256 Bad 0.99, Good 0.01, Null 0.00, 12.5ms\n",
            "Speed: 3.7ms preprocess, 12.5ms inference, 0.1ms postprocess per image at shape (1, 3, 256, 256)\n",
            "\n",
            "image 1/1 /content/drive/MyDrive/projects/SecondTry/JPG_480/val/Bad/MohammadisaniHossein-111of127_IMG0060.jpg: 256x256 Bad 1.00, Null 0.00, Good 0.00, 12.6ms\n",
            "Speed: 4.8ms preprocess, 12.6ms inference, 0.1ms postprocess per image at shape (1, 3, 256, 256)\n",
            "\n",
            "image 1/1 /content/drive/MyDrive/projects/SecondTry/JPG_480/val/Bad/MohammadisaniHossein-111of127_IMG0065.jpg: 256x256 Bad 1.00, Good 0.00, Null 0.00, 12.6ms\n",
            "Speed: 3.9ms preprocess, 12.6ms inference, 0.1ms postprocess per image at shape (1, 3, 256, 256)\n",
            "\n",
            "image 1/1 /content/drive/MyDrive/projects/SecondTry/JPG_480/val/Bad/MoghbeliZAHRA-383of399_IMG0185.jpg: 256x256 Bad 1.00, Good 0.00, Null 0.00, 14.6ms\n",
            "Speed: 5.9ms preprocess, 14.6ms inference, 0.1ms postprocess per image at shape (1, 3, 256, 256)\n"
          ]
        },
        {
          "name": "stderr",
          "output_type": "stream",
          "text": [
            "\r 65%|██████▍   | 20/31 [00:00<00:00, 35.22it/s]"
          ]
        },
        {
          "name": "stdout",
          "output_type": "stream",
          "text": [
            "\n",
            "image 1/1 /content/drive/MyDrive/projects/SecondTry/JPG_480/val/Bad/MoghbeliZAHRA-383of399_IMG0183.jpg: 256x256 Bad 0.99, Good 0.01, Null 0.00, 15.2ms\n",
            "Speed: 5.8ms preprocess, 15.2ms inference, 0.1ms postprocess per image at shape (1, 3, 256, 256)\n",
            "\n",
            "image 1/1 /content/drive/MyDrive/projects/SecondTry/JPG_480/val/Bad/MADAHSADEGH-927of927_IMG0425.jpg: 256x256 Bad 0.97, Null 0.02, Good 0.01, 11.2ms\n",
            "Speed: 5.7ms preprocess, 11.2ms inference, 0.1ms postprocess per image at shape (1, 3, 256, 256)\n",
            "\n",
            "image 1/1 /content/drive/MyDrive/projects/SecondTry/JPG_480/val/Bad/MoghbeliZAHRA-383of399_IMG0184.jpg: 256x256 Bad 0.99, Good 0.01, Null 0.00, 11.1ms\n",
            "Speed: 4.6ms preprocess, 11.1ms inference, 0.1ms postprocess per image at shape (1, 3, 256, 256)\n",
            "\n",
            "image 1/1 /content/drive/MyDrive/projects/SecondTry/JPG_480/val/Bad/MADAHSADEGH-927of927_IMG0797.jpg: 256x256 Bad 0.70, Good 0.28, Null 0.01, 11.0ms\n",
            "Speed: 5.6ms preprocess, 11.0ms inference, 0.1ms postprocess per image at shape (1, 3, 256, 256)\n"
          ]
        },
        {
          "name": "stderr",
          "output_type": "stream",
          "text": [
            "\r 77%|███████▋  | 24/31 [00:00<00:00, 34.90it/s]"
          ]
        },
        {
          "name": "stdout",
          "output_type": "stream",
          "text": [
            "\n",
            "image 1/1 /content/drive/MyDrive/projects/SecondTry/JPG_480/val/Bad/MoghbeliZAHRA-129of150_IMG0021.jpg: 256x256 Bad 0.86, Good 0.14, Null 0.00, 11.0ms\n",
            "Speed: 3.8ms preprocess, 11.0ms inference, 0.1ms postprocess per image at shape (1, 3, 256, 256)\n",
            "\n",
            "image 1/1 /content/drive/MyDrive/projects/SecondTry/JPG_480/val/Bad/MoghbeliZAHRA-129of150_IMG0019.jpg: 256x256 Bad 0.69, Good 0.31, Null 0.00, 11.0ms\n",
            "Speed: 3.8ms preprocess, 11.0ms inference, 0.1ms postprocess per image at shape (1, 3, 256, 256)\n",
            "\n",
            "image 1/1 /content/drive/MyDrive/projects/SecondTry/JPG_480/val/Bad/MADAHSADEGH-927of927_IMG0793.jpg: 256x256 Bad 0.81, Null 0.19, Good 0.00, 11.0ms\n",
            "Speed: 3.8ms preprocess, 11.0ms inference, 0.1ms postprocess per image at shape (1, 3, 256, 256)\n",
            "\n",
            "image 1/1 /content/drive/MyDrive/projects/SecondTry/JPG_480/val/Bad/MADAHSADEGH-927of927_IMG0799.jpg: 256x256 Good 0.99, Bad 0.01, Null 0.00, 11.1ms\n",
            "Speed: 4.0ms preprocess, 11.1ms inference, 0.1ms postprocess per image at shape (1, 3, 256, 256)\n",
            "\n",
            "image 1/1 /content/drive/MyDrive/projects/SecondTry/JPG_480/val/Bad/MoghbeliZAHRA-129of150_IMG0023.jpg: 256x256 Bad 0.97, Good 0.03, Null 0.00, 11.0ms\n",
            "Speed: 4.1ms preprocess, 11.0ms inference, 0.1ms postprocess per image at shape (1, 3, 256, 256)\n"
          ]
        },
        {
          "name": "stderr",
          "output_type": "stream",
          "text": [
            "\r 94%|█████████▎| 29/31 [00:00<00:00, 36.66it/s]"
          ]
        },
        {
          "name": "stdout",
          "output_type": "stream",
          "text": [
            "\n",
            "image 1/1 /content/drive/MyDrive/projects/SecondTry/JPG_480/val/Bad/MoghbeliZAHRA-129of150_IMG0017.jpg: 256x256 Bad 0.57, Good 0.43, Null 0.00, 11.1ms\n",
            "Speed: 4.5ms preprocess, 11.1ms inference, 0.1ms postprocess per image at shape (1, 3, 256, 256)\n",
            "\n",
            "image 1/1 /content/drive/MyDrive/projects/SecondTry/JPG_480/val/Bad/MoghbeliZAHRA-129of150_IMG0015.jpg: 256x256 Bad 0.85, Good 0.15, Null 0.00, 11.1ms\n",
            "Speed: 4.6ms preprocess, 11.1ms inference, 0.1ms postprocess per image at shape (1, 3, 256, 256)\n"
          ]
        },
        {
          "name": "stderr",
          "output_type": "stream",
          "text": [
            "100%|██████████| 31/31 [00:00<00:00, 35.80it/s]\n",
            "  0%|          | 0/45 [00:00<?, ?it/s]"
          ]
        },
        {
          "name": "stdout",
          "output_type": "stream",
          "text": [
            "\n",
            "image 1/1 /content/drive/MyDrive/projects/SecondTry/JPG_480/val/Good/MOHEBIPARASTO-47of47_IMG0045.jpg: 256x256 Good 1.00, Bad 0.00, Null 0.00, 11.1ms\n",
            "Speed: 3.9ms preprocess, 11.1ms inference, 0.1ms postprocess per image at shape (1, 3, 256, 256)\n",
            "\n",
            "image 1/1 /content/drive/MyDrive/projects/SecondTry/JPG_480/val/Good/MOHEBIPARASTO-47of47_IMG0047.jpg: 256x256 Good 1.00, Bad 0.00, Null 0.00, 11.0ms\n",
            "Speed: 4.5ms preprocess, 11.0ms inference, 0.1ms postprocess per image at shape (1, 3, 256, 256)\n",
            "\n",
            "image 1/1 /content/drive/MyDrive/projects/SecondTry/JPG_480/val/Good/MOHEBIPARASTO-47of47_IMG0046.jpg: 256x256 Good 1.00, Bad 0.00, Null 0.00, 11.0ms\n",
            "Speed: 3.9ms preprocess, 11.0ms inference, 0.1ms postprocess per image at shape (1, 3, 256, 256)\n",
            "\n",
            "image 1/1 /content/drive/MyDrive/projects/SecondTry/JPG_480/val/Good/MoghbeliZAHRA-383of399_IMG0350.jpg: 256x256 Good 1.00, Bad 0.00, Null 0.00, 11.0ms\n",
            "Speed: 4.4ms preprocess, 11.0ms inference, 0.1ms postprocess per image at shape (1, 3, 256, 256)\n",
            "\n",
            "image 1/1 /content/drive/MyDrive/projects/SecondTry/JPG_480/val/Good/MoghbeliZAHRA-383of399_IMG0349.jpg: 256x256 Good 1.00, Bad 0.00, Null 0.00, 10.3ms\n",
            "Speed: 3.8ms preprocess, 10.3ms inference, 0.1ms postprocess per image at shape (1, 3, 256, 256)\n"
          ]
        },
        {
          "name": "stderr",
          "output_type": "stream",
          "text": [
            "\r 11%|█         | 5/45 [00:00<00:00, 40.68it/s]"
          ]
        },
        {
          "name": "stdout",
          "output_type": "stream",
          "text": [
            "\n",
            "image 1/1 /content/drive/MyDrive/projects/SecondTry/JPG_480/val/Good/MoghbeliZAHRA-383of399_IMG0351.jpg: 256x256 Good 1.00, Bad 0.00, Null 0.00, 10.4ms\n",
            "Speed: 4.6ms preprocess, 10.4ms inference, 0.1ms postprocess per image at shape (1, 3, 256, 256)\n",
            "\n",
            "image 1/1 /content/drive/MyDrive/projects/SecondTry/JPG_480/val/Good/MohammadisaniHossein-423of434_IMG0324.jpg: 256x256 Good 1.00, Bad 0.00, Null 0.00, 10.3ms\n",
            "Speed: 3.7ms preprocess, 10.3ms inference, 0.1ms postprocess per image at shape (1, 3, 256, 256)\n",
            "\n",
            "image 1/1 /content/drive/MyDrive/projects/SecondTry/JPG_480/val/Good/MohammadisaniHossein-423of434_IMG0423.jpg: 256x256 Good 1.00, Bad 0.00, Null 0.00, 10.4ms\n",
            "Speed: 3.7ms preprocess, 10.4ms inference, 0.1ms postprocess per image at shape (1, 3, 256, 256)\n",
            "\n",
            "image 1/1 /content/drive/MyDrive/projects/SecondTry/JPG_480/val/Good/MOHAMMADIAMIR-91of91_IMG0048.jpg: 256x256 Good 1.00, Bad 0.00, Null 0.00, 10.3ms\n",
            "Speed: 3.9ms preprocess, 10.3ms inference, 0.0ms postprocess per image at shape (1, 3, 256, 256)\n",
            "\n",
            "image 1/1 /content/drive/MyDrive/projects/SecondTry/JPG_480/val/Good/MOHAMMADIAMIR-91of91_IMG0047.jpg: 256x256 Good 1.00, Bad 0.00, Null 0.00, 10.3ms\n",
            "Speed: 3.6ms preprocess, 10.3ms inference, 0.0ms postprocess per image at shape (1, 3, 256, 256)\n"
          ]
        },
        {
          "name": "stderr",
          "output_type": "stream",
          "text": [
            "\r 22%|██▏       | 10/45 [00:00<00:00, 40.62it/s]"
          ]
        },
        {
          "name": "stdout",
          "output_type": "stream",
          "text": [
            "\n",
            "image 1/1 /content/drive/MyDrive/projects/SecondTry/JPG_480/val/Good/MohammadisaniHossein-423of434_IMG0243.jpg: 256x256 Good 1.00, Bad 0.00, Null 0.00, 10.4ms\n",
            "Speed: 4.3ms preprocess, 10.4ms inference, 0.1ms postprocess per image at shape (1, 3, 256, 256)\n",
            "\n",
            "image 1/1 /content/drive/MyDrive/projects/SecondTry/JPG_480/val/Good/MOHAMMADIAMIR-91of91_IMG0046.jpg: 256x256 Good 1.00, Bad 0.00, Null 0.00, 10.4ms\n",
            "Speed: 7.4ms preprocess, 10.4ms inference, 0.1ms postprocess per image at shape (1, 3, 256, 256)\n",
            "\n",
            "image 1/1 /content/drive/MyDrive/projects/SecondTry/JPG_480/val/Good/MohammadisaniHossein-111of127_IMG0091.jpg: 256x256 Good 1.00, Bad 0.00, Null 0.00, 10.1ms\n",
            "Speed: 3.7ms preprocess, 10.1ms inference, 0.0ms postprocess per image at shape (1, 3, 256, 256)\n",
            "\n",
            "image 1/1 /content/drive/MyDrive/projects/SecondTry/JPG_480/val/Good/MoghbeliZAHRA-218of232_IMG0212.jpg: 256x256 Good 1.00, Null 0.00, Bad 0.00, 10.1ms\n",
            "Speed: 4.7ms preprocess, 10.1ms inference, 0.1ms postprocess per image at shape (1, 3, 256, 256)\n",
            "\n",
            "image 1/1 /content/drive/MyDrive/projects/SecondTry/JPG_480/val/Good/MohammadisaniHossein-111of127_IMG0118.jpg: 256x256 Good 0.99, Bad 0.01, Null 0.00, 10.9ms\n",
            "Speed: 5.1ms preprocess, 10.9ms inference, 0.1ms postprocess per image at shape (1, 3, 256, 256)\n"
          ]
        },
        {
          "name": "stderr",
          "output_type": "stream",
          "text": [
            "\r 33%|███▎      | 15/45 [00:00<00:00, 40.41it/s]"
          ]
        },
        {
          "name": "stdout",
          "output_type": "stream",
          "text": [
            "\n",
            "image 1/1 /content/drive/MyDrive/projects/SecondTry/JPG_480/val/Good/MohammadisaniHossein-111of127_IMG0102.jpg: 256x256 Good 1.00, Bad 0.00, Null 0.00, 10.1ms\n",
            "Speed: 3.8ms preprocess, 10.1ms inference, 0.1ms postprocess per image at shape (1, 3, 256, 256)\n",
            "\n",
            "image 1/1 /content/drive/MyDrive/projects/SecondTry/JPG_480/val/Good/MoghbeliZAHRA-129of150_IMG0148.jpg: 256x256 Good 1.00, Bad 0.00, Null 0.00, 12.9ms\n",
            "Speed: 6.4ms preprocess, 12.9ms inference, 0.1ms postprocess per image at shape (1, 3, 256, 256)\n",
            "\n",
            "image 1/1 /content/drive/MyDrive/projects/SecondTry/JPG_480/val/Good/MoghbeliZAHRA-129of150_IMG0150.jpg: 256x256 Good 1.00, Bad 0.00, Null 0.00, 12.0ms\n",
            "Speed: 5.7ms preprocess, 12.0ms inference, 0.1ms postprocess per image at shape (1, 3, 256, 256)\n",
            "\n",
            "image 1/1 /content/drive/MyDrive/projects/SecondTry/JPG_480/val/Good/MoghbeliZAHRA-218of232_IMG0210.jpg: 256x256 Good 1.00, Null 0.00, Bad 0.00, 10.1ms\n",
            "Speed: 3.8ms preprocess, 10.1ms inference, 0.1ms postprocess per image at shape (1, 3, 256, 256)\n",
            "\n",
            "image 1/1 /content/drive/MyDrive/projects/SecondTry/JPG_480/val/Good/MoghbeliZAHRA-218of232_IMG0211.jpg: 256x256 Good 1.00, Null 0.00, Bad 0.00, 10.1ms\n",
            "Speed: 3.7ms preprocess, 10.1ms inference, 0.0ms postprocess per image at shape (1, 3, 256, 256)\n"
          ]
        },
        {
          "name": "stderr",
          "output_type": "stream",
          "text": [
            "\r 44%|████▍     | 20/45 [00:00<00:00, 39.85it/s]"
          ]
        },
        {
          "name": "stdout",
          "output_type": "stream",
          "text": [
            "\n",
            "image 1/1 /content/drive/MyDrive/projects/SecondTry/JPG_480/val/Good/MoghbeliZAHRA-61of85_IMG0085.jpg: 256x256 Good 1.00, Bad 0.00, Null 0.00, 10.1ms\n",
            "Speed: 4.3ms preprocess, 10.1ms inference, 0.0ms postprocess per image at shape (1, 3, 256, 256)\n",
            "\n",
            "image 1/1 /content/drive/MyDrive/projects/SecondTry/JPG_480/val/Good/MoghbeliZAHRA-129of150_IMG0149.jpg: 256x256 Good 1.00, Bad 0.00, Null 0.00, 10.1ms\n",
            "Speed: 4.6ms preprocess, 10.1ms inference, 0.1ms postprocess per image at shape (1, 3, 256, 256)\n",
            "\n",
            "image 1/1 /content/drive/MyDrive/projects/SecondTry/JPG_480/val/Good/MOHAMMADIAMIR-50of69_IMG0011.jpg: 256x256 Good 1.00, Bad 0.00, Null 0.00, 10.1ms\n",
            "Speed: 4.6ms preprocess, 10.1ms inference, 0.1ms postprocess per image at shape (1, 3, 256, 256)\n",
            "\n",
            "image 1/1 /content/drive/MyDrive/projects/SecondTry/JPG_480/val/Good/MOHAMMADIAMIR-50of69_IMG0012.jpg: 256x256 Good 1.00, Bad 0.00, Null 0.00, 10.1ms\n",
            "Speed: 4.2ms preprocess, 10.1ms inference, 0.1ms postprocess per image at shape (1, 3, 256, 256)\n",
            "\n",
            "image 1/1 /content/drive/MyDrive/projects/SecondTry/JPG_480/val/Good/MOHAMMADIAMIR-50of69_IMG0013.jpg: 256x256 Good 1.00, Bad 0.00, Null 0.00, 10.1ms\n",
            "Speed: 3.5ms preprocess, 10.1ms inference, 0.0ms postprocess per image at shape (1, 3, 256, 256)\n"
          ]
        },
        {
          "name": "stderr",
          "output_type": "stream",
          "text": [
            "\r 56%|█████▌    | 25/45 [00:00<00:00, 40.54it/s]"
          ]
        },
        {
          "name": "stdout",
          "output_type": "stream",
          "text": [
            "\n",
            "image 1/1 /content/drive/MyDrive/projects/SecondTry/JPG_480/val/Good/MOHAMMADIAMIR-118of118_IMG0049.jpg: 256x256 Good 1.00, Bad 0.00, Null 0.00, 10.2ms\n",
            "Speed: 3.9ms preprocess, 10.2ms inference, 0.1ms postprocess per image at shape (1, 3, 256, 256)\n",
            "\n",
            "image 1/1 /content/drive/MyDrive/projects/SecondTry/JPG_480/val/Good/MoghbeliZAHRA-61of85_IMG0082.jpg: 256x256 Good 1.00, Bad 0.00, Null 0.00, 10.1ms\n",
            "Speed: 3.7ms preprocess, 10.1ms inference, 0.0ms postprocess per image at shape (1, 3, 256, 256)\n",
            "\n",
            "image 1/1 /content/drive/MyDrive/projects/SecondTry/JPG_480/val/Good/MoghbeliZAHRA-61of85_IMG0078.jpg: 256x256 Good 1.00, Bad 0.00, Null 0.00, 10.1ms\n",
            "Speed: 3.7ms preprocess, 10.1ms inference, 0.1ms postprocess per image at shape (1, 3, 256, 256)\n",
            "\n",
            "image 1/1 /content/drive/MyDrive/projects/SecondTry/JPG_480/val/Good/MOHAMMADIAMIR-118of118_IMG0084.jpg: 256x256 Good 1.00, Null 0.00, Bad 0.00, 10.1ms\n",
            "Speed: 3.6ms preprocess, 10.1ms inference, 0.0ms postprocess per image at shape (1, 3, 256, 256)\n",
            "\n",
            "image 1/1 /content/drive/MyDrive/projects/SecondTry/JPG_480/val/Good/MIRZAEIEHamidreza-169of169_IMG0145.jpg: 256x256 Good 1.00, Null 0.00, Bad 0.00, 10.1ms\n",
            "Speed: 4.3ms preprocess, 10.1ms inference, 0.0ms postprocess per image at shape (1, 3, 256, 256)\n"
          ]
        },
        {
          "name": "stderr",
          "output_type": "stream",
          "text": [
            "\r 67%|██████▋   | 30/45 [00:00<00:00, 39.67it/s]"
          ]
        },
        {
          "name": "stdout",
          "output_type": "stream",
          "text": [
            "\n",
            "image 1/1 /content/drive/MyDrive/projects/SecondTry/JPG_480/val/Good/MOHAMMADIAMIR-118of118_IMG0021.jpg: 256x256 Good 1.00, Null 0.00, Bad 0.00, 10.1ms\n",
            "Speed: 3.7ms preprocess, 10.1ms inference, 0.1ms postprocess per image at shape (1, 3, 256, 256)\n",
            "\n",
            "image 1/1 /content/drive/MyDrive/projects/SecondTry/JPG_480/val/Good/MIRZAEIEHamidreza-169of169_IMG0146.jpg: 256x256 Good 1.00, Null 0.00, Bad 0.00, 10.1ms\n",
            "Speed: 3.7ms preprocess, 10.1ms inference, 0.1ms postprocess per image at shape (1, 3, 256, 256)\n",
            "\n",
            "image 1/1 /content/drive/MyDrive/projects/SecondTry/JPG_480/val/Good/MIRZAEIEHamidreza-169of169_IMG0144.jpg: 256x256 Good 1.00, Null 0.00, Bad 0.00, 10.2ms\n",
            "Speed: 4.3ms preprocess, 10.2ms inference, 0.1ms postprocess per image at shape (1, 3, 256, 256)\n",
            "\n",
            "image 1/1 /content/drive/MyDrive/projects/SecondTry/JPG_480/val/Good/MIRZAEIEHamidreza-192of192_IMG0034.jpg: 256x256 Good 1.00, Bad 0.00, Null 0.00, 10.1ms\n",
            "Speed: 4.4ms preprocess, 10.1ms inference, 0.1ms postprocess per image at shape (1, 3, 256, 256)\n"
          ]
        },
        {
          "name": "stderr",
          "output_type": "stream",
          "text": [
            "\r 76%|███████▌  | 34/45 [00:00<00:00, 39.69it/s]"
          ]
        },
        {
          "name": "stdout",
          "output_type": "stream",
          "text": [
            "\n",
            "image 1/1 /content/drive/MyDrive/projects/SecondTry/JPG_480/val/Good/MIRZAEIEHamidreza-192of192_IMG0191.jpg: 256x256 Good 1.00, Bad 0.00, Null 0.00, 10.1ms\n",
            "Speed: 4.4ms preprocess, 10.1ms inference, 0.1ms postprocess per image at shape (1, 3, 256, 256)\n",
            "\n",
            "image 1/1 /content/drive/MyDrive/projects/SecondTry/JPG_480/val/Good/MIRZAEIEHamidreza-192of192_IMG0192.jpg: 256x256 Good 1.00, Bad 0.00, Null 0.00, 10.2ms\n",
            "Speed: 5.4ms preprocess, 10.2ms inference, 0.1ms postprocess per image at shape (1, 3, 256, 256)\n",
            "\n",
            "image 1/1 /content/drive/MyDrive/projects/SecondTry/JPG_480/val/Good/MADAHSADEGH-39of39_IMG0005.jpg: 256x256 Good 1.00, Bad 0.00, Null 0.00, 10.1ms\n",
            "Speed: 4.4ms preprocess, 10.1ms inference, 0.1ms postprocess per image at shape (1, 3, 256, 256)\n",
            "\n",
            "image 1/1 /content/drive/MyDrive/projects/SecondTry/JPG_480/val/Good/MADAHSADEGH-39of39_IMG0027.jpg: 256x256 Good 1.00, Bad 0.00, Null 0.00, 10.1ms\n",
            "Speed: 4.5ms preprocess, 10.1ms inference, 0.1ms postprocess per image at shape (1, 3, 256, 256)\n",
            "\n",
            "image 1/1 /content/drive/MyDrive/projects/SecondTry/JPG_480/val/Good/MADAHSADEGH-927of927_IMG0925.jpg: 256x256 Good 1.00, Bad 0.00, Null 0.00, 10.1ms\n",
            "Speed: 4.6ms preprocess, 10.1ms inference, 0.0ms postprocess per image at shape (1, 3, 256, 256)\n"
          ]
        },
        {
          "name": "stderr",
          "output_type": "stream",
          "text": [
            "\r 87%|████████▋ | 39/45 [00:00<00:00, 39.85it/s]"
          ]
        },
        {
          "name": "stdout",
          "output_type": "stream",
          "text": [
            "\n",
            "image 1/1 /content/drive/MyDrive/projects/SecondTry/JPG_480/val/Good/MADAHSADEGH-927of927_IMG0926.jpg: 256x256 Good 1.00, Bad 0.00, Null 0.00, 10.1ms\n",
            "Speed: 4.5ms preprocess, 10.1ms inference, 0.1ms postprocess per image at shape (1, 3, 256, 256)\n",
            "\n",
            "image 1/1 /content/drive/MyDrive/projects/SecondTry/JPG_480/val/Good/MADAHSADEGH-39of39_IMG0016.jpg: 256x256 Good 1.00, Bad 0.00, Null 0.00, 10.1ms\n",
            "Speed: 3.7ms preprocess, 10.1ms inference, 0.0ms postprocess per image at shape (1, 3, 256, 256)\n",
            "\n",
            "image 1/1 /content/drive/MyDrive/projects/SecondTry/JPG_480/val/Good/MADAHSADEGH-927of927_IMG0927.jpg: 256x256 Good 1.00, Bad 0.00, Null 0.00, 10.1ms\n",
            "Speed: 3.8ms preprocess, 10.1ms inference, 0.0ms postprocess per image at shape (1, 3, 256, 256)\n",
            "\n",
            "image 1/1 /content/drive/MyDrive/projects/SecondTry/JPG_480/val/Good/MehrdadMAHDI-97of97_IMG0095.jpg: 256x256 Good 0.99, Null 0.01, Bad 0.00, 10.1ms\n",
            "Speed: 3.7ms preprocess, 10.1ms inference, 0.0ms postprocess per image at shape (1, 3, 256, 256)\n",
            "\n",
            "image 1/1 /content/drive/MyDrive/projects/SecondTry/JPG_480/val/Good/MehrdadMAHDI-97of97_IMG0096.jpg: 256x256 Good 0.99, Null 0.00, Bad 0.00, 10.1ms\n",
            "Speed: 4.5ms preprocess, 10.1ms inference, 0.1ms postprocess per image at shape (1, 3, 256, 256)\n"
          ]
        },
        {
          "name": "stderr",
          "output_type": "stream",
          "text": [
            "\r 98%|█████████▊| 44/45 [00:01<00:00, 40.01it/s]"
          ]
        },
        {
          "name": "stdout",
          "output_type": "stream",
          "text": [
            "\n",
            "image 1/1 /content/drive/MyDrive/projects/SecondTry/JPG_480/val/Good/MehrdadMAHDI-97of97_IMG0097.jpg: 256x256 Good 0.99, Null 0.01, Bad 0.00, 10.1ms\n",
            "Speed: 3.7ms preprocess, 10.1ms inference, 0.1ms postprocess per image at shape (1, 3, 256, 256)\n"
          ]
        },
        {
          "name": "stderr",
          "output_type": "stream",
          "text": [
            "100%|██████████| 45/45 [00:01<00:00, 40.03it/s]\n",
            "  0%|          | 0/42 [00:00<?, ?it/s]"
          ]
        },
        {
          "name": "stdout",
          "output_type": "stream",
          "text": [
            "\n",
            "image 1/1 /content/drive/MyDrive/projects/SecondTry/JPG_480/val/Null/MohammadisaniHossein-423of434_IMG0026.jpg: 256x256 Null 1.00, Bad 0.00, Good 0.00, 10.2ms\n",
            "Speed: 4.5ms preprocess, 10.2ms inference, 0.1ms postprocess per image at shape (1, 3, 256, 256)\n",
            "\n",
            "image 1/1 /content/drive/MyDrive/projects/SecondTry/JPG_480/val/Null/MohammadisaniHossein-423of434_IMG0029.jpg: 256x256 Null 1.00, Bad 0.00, Good 0.00, 10.1ms\n",
            "Speed: 3.7ms preprocess, 10.1ms inference, 0.0ms postprocess per image at shape (1, 3, 256, 256)\n",
            "\n",
            "image 1/1 /content/drive/MyDrive/projects/SecondTry/JPG_480/val/Null/MohammadisaniHossein-423of434_IMG0039.jpg: 256x256 Null 1.00, Bad 0.00, Good 0.00, 10.2ms\n",
            "Speed: 4.6ms preprocess, 10.2ms inference, 0.1ms postprocess per image at shape (1, 3, 256, 256)\n",
            "\n",
            "image 1/1 /content/drive/MyDrive/projects/SecondTry/JPG_480/val/Null/MohammadisaniHossein-423of434_IMG0044.jpg: 256x256 Null 1.00, Bad 0.00, Good 0.00, 10.1ms\n",
            "Speed: 5.0ms preprocess, 10.1ms inference, 0.1ms postprocess per image at shape (1, 3, 256, 256)\n",
            "\n",
            "image 1/1 /content/drive/MyDrive/projects/SecondTry/JPG_480/val/Null/MohammadisaniHossein-423of434_IMG0011.jpg: 256x256 Null 1.00, Bad 0.00, Good 0.00, 10.1ms\n",
            "Speed: 3.7ms preprocess, 10.1ms inference, 0.0ms postprocess per image at shape (1, 3, 256, 256)\n"
          ]
        },
        {
          "name": "stderr",
          "output_type": "stream",
          "text": [
            "\r 12%|█▏        | 5/42 [00:00<00:00, 40.70it/s]"
          ]
        },
        {
          "name": "stdout",
          "output_type": "stream",
          "text": [
            "\n",
            "image 1/1 /content/drive/MyDrive/projects/SecondTry/JPG_480/val/Null/MohammadisaniHossein-423of434_IMG0033.jpg: 256x256 Null 1.00, Bad 0.00, Good 0.00, 10.2ms\n",
            "Speed: 3.9ms preprocess, 10.2ms inference, 0.1ms postprocess per image at shape (1, 3, 256, 256)\n",
            "\n",
            "image 1/1 /content/drive/MyDrive/projects/SecondTry/JPG_480/val/Null/MohammadisaniHossein-423of434_IMG0059.jpg: 256x256 Null 1.00, Bad 0.00, Good 0.00, 10.1ms\n",
            "Speed: 4.4ms preprocess, 10.1ms inference, 0.1ms postprocess per image at shape (1, 3, 256, 256)\n",
            "\n",
            "image 1/1 /content/drive/MyDrive/projects/SecondTry/JPG_480/val/Null/MohammadisaniHossein-423of434_IMG0037.jpg: 256x256 Null 1.00, Bad 0.00, Good 0.00, 10.1ms\n",
            "Speed: 3.7ms preprocess, 10.1ms inference, 0.0ms postprocess per image at shape (1, 3, 256, 256)\n",
            "\n",
            "image 1/1 /content/drive/MyDrive/projects/SecondTry/JPG_480/val/Null/MohammadisaniHossein-423of434_IMG0049.jpg: 256x256 Null 1.00, Bad 0.00, Good 0.00, 10.1ms\n",
            "Speed: 3.8ms preprocess, 10.1ms inference, 0.1ms postprocess per image at shape (1, 3, 256, 256)\n",
            "\n",
            "image 1/1 /content/drive/MyDrive/projects/SecondTry/JPG_480/val/Null/MohammadisaniHossein-423of434_IMG0007.jpg: 256x256 Null 1.00, Bad 0.00, Good 0.00, 10.2ms\n",
            "Speed: 4.8ms preprocess, 10.2ms inference, 0.1ms postprocess per image at shape (1, 3, 256, 256)\n"
          ]
        },
        {
          "name": "stderr",
          "output_type": "stream",
          "text": [
            "\r 24%|██▍       | 10/42 [00:00<00:00, 41.06it/s]"
          ]
        },
        {
          "name": "stdout",
          "output_type": "stream",
          "text": [
            "\n",
            "image 1/1 /content/drive/MyDrive/projects/SecondTry/JPG_480/val/Null/MohammadisaniHossein-423of434_IMG0054.jpg: 256x256 Null 1.00, Bad 0.00, Good 0.00, 10.2ms\n",
            "Speed: 4.6ms preprocess, 10.2ms inference, 0.1ms postprocess per image at shape (1, 3, 256, 256)\n",
            "\n",
            "image 1/1 /content/drive/MyDrive/projects/SecondTry/JPG_480/val/Null/MohammadisaniHossein-423of434_IMG0004.jpg: 256x256 Null 1.00, Bad 0.00, Good 0.00, 10.1ms\n",
            "Speed: 4.8ms preprocess, 10.1ms inference, 0.1ms postprocess per image at shape (1, 3, 256, 256)\n",
            "\n",
            "image 1/1 /content/drive/MyDrive/projects/SecondTry/JPG_480/val/Null/MohammadisaniHossein-423of434_IMG0034.jpg: 256x256 Null 0.99, Bad 0.01, Good 0.00, 10.1ms\n",
            "Speed: 3.9ms preprocess, 10.1ms inference, 0.0ms postprocess per image at shape (1, 3, 256, 256)\n",
            "\n",
            "image 1/1 /content/drive/MyDrive/projects/SecondTry/JPG_480/val/Null/MohammadisaniHossein-423of434_IMG0009.jpg: 256x256 Null 1.00, Bad 0.00, Good 0.00, 10.9ms\n",
            "Speed: 5.2ms preprocess, 10.9ms inference, 0.1ms postprocess per image at shape (1, 3, 256, 256)\n",
            "\n",
            "image 1/1 /content/drive/MyDrive/projects/SecondTry/JPG_480/val/Null/MohammadisaniHossein-423of434_IMG0042.jpg: 256x256 Null 1.00, Bad 0.00, Good 0.00, 12.4ms\n",
            "Speed: 6.4ms preprocess, 12.4ms inference, 0.1ms postprocess per image at shape (1, 3, 256, 256)\n"
          ]
        },
        {
          "name": "stderr",
          "output_type": "stream",
          "text": [
            "\r 36%|███▌      | 15/42 [00:00<00:00, 38.82it/s]"
          ]
        },
        {
          "name": "stdout",
          "output_type": "stream",
          "text": [
            "\n",
            "image 1/1 /content/drive/MyDrive/projects/SecondTry/JPG_480/val/Null/MohammadisaniHossein-423of434_IMG0018.jpg: 256x256 Null 1.00, Bad 0.00, Good 0.00, 10.2ms\n",
            "Speed: 4.5ms preprocess, 10.2ms inference, 0.1ms postprocess per image at shape (1, 3, 256, 256)\n",
            "\n",
            "image 1/1 /content/drive/MyDrive/projects/SecondTry/JPG_480/val/Null/MohammadisaniHossein-423of434_IMG0001.jpg: 256x256 Null 1.00, Bad 0.00, Good 0.00, 10.3ms\n",
            "Speed: 6.4ms preprocess, 10.3ms inference, 0.1ms postprocess per image at shape (1, 3, 256, 256)\n",
            "\n",
            "image 1/1 /content/drive/MyDrive/projects/SecondTry/JPG_480/val/Null/MohammadisaniHossein-423of434_IMG0023.jpg: 256x256 Null 1.00, Bad 0.00, Good 0.00, 10.1ms\n",
            "Speed: 4.0ms preprocess, 10.1ms inference, 0.0ms postprocess per image at shape (1, 3, 256, 256)\n",
            "\n",
            "image 1/1 /content/drive/MyDrive/projects/SecondTry/JPG_480/val/Null/MohammadisaniHossein-423of434_IMG0014.jpg: 256x256 Null 1.00, Bad 0.00, Good 0.00, 10.1ms\n",
            "Speed: 4.0ms preprocess, 10.1ms inference, 0.0ms postprocess per image at shape (1, 3, 256, 256)\n",
            "\n",
            "image 1/1 /content/drive/MyDrive/projects/SecondTry/JPG_480/val/Null/MADAHSADEGH-927of927_IMG0088.jpg: 256x256 Null 0.99, Bad 0.01, Good 0.00, 10.1ms\n",
            "Speed: 3.7ms preprocess, 10.1ms inference, 0.1ms postprocess per image at shape (1, 3, 256, 256)\n"
          ]
        },
        {
          "name": "stderr",
          "output_type": "stream",
          "text": [
            "\r 48%|████▊     | 20/42 [00:00<00:00, 39.70it/s]"
          ]
        },
        {
          "name": "stdout",
          "output_type": "stream",
          "text": [
            "\n",
            "image 1/1 /content/drive/MyDrive/projects/SecondTry/JPG_480/val/Null/MADAHSADEGH-927of927_IMG0062.jpg: 256x256 Null 0.98, Bad 0.02, Good 0.00, 10.1ms\n",
            "Speed: 4.5ms preprocess, 10.1ms inference, 0.1ms postprocess per image at shape (1, 3, 256, 256)\n",
            "\n",
            "image 1/1 /content/drive/MyDrive/projects/SecondTry/JPG_480/val/Null/MADAHSADEGH-927of927_IMG0085.jpg: 256x256 Null 1.00, Bad 0.00, Good 0.00, 10.1ms\n",
            "Speed: 4.0ms preprocess, 10.1ms inference, 0.1ms postprocess per image at shape (1, 3, 256, 256)\n",
            "\n",
            "image 1/1 /content/drive/MyDrive/projects/SecondTry/JPG_480/val/Null/MADAHSADEGH-927of927_IMG0020.jpg: 256x256 Null 0.96, Bad 0.04, Good 0.00, 10.1ms\n",
            "Speed: 4.9ms preprocess, 10.1ms inference, 0.0ms postprocess per image at shape (1, 3, 256, 256)\n",
            "\n",
            "image 1/1 /content/drive/MyDrive/projects/SecondTry/JPG_480/val/Null/MADAHSADEGH-927of927_IMG0001.jpg: 256x256 Bad 0.64, Null 0.36, Good 0.00, 10.0ms\n",
            "Speed: 4.0ms preprocess, 10.0ms inference, 0.1ms postprocess per image at shape (1, 3, 256, 256)\n",
            "\n",
            "image 1/1 /content/drive/MyDrive/projects/SecondTry/JPG_480/val/Null/MADAHSADEGH-927of927_IMG0055.jpg: 256x256 Null 0.70, Bad 0.30, Good 0.00, 10.0ms\n",
            "Speed: 3.8ms preprocess, 10.0ms inference, 0.0ms postprocess per image at shape (1, 3, 256, 256)\n"
          ]
        },
        {
          "name": "stderr",
          "output_type": "stream",
          "text": [
            "\r 60%|█████▉    | 25/42 [00:00<00:00, 39.85it/s]"
          ]
        },
        {
          "name": "stdout",
          "output_type": "stream",
          "text": [
            "\n",
            "image 1/1 /content/drive/MyDrive/projects/SecondTry/JPG_480/val/Null/MIRZAEIEHamidreza-262of281_IMG0024.jpg: 256x256 Null 1.00, Bad 0.00, Good 0.00, 10.0ms\n",
            "Speed: 4.4ms preprocess, 10.0ms inference, 0.0ms postprocess per image at shape (1, 3, 256, 256)\n",
            "\n",
            "image 1/1 /content/drive/MyDrive/projects/SecondTry/JPG_480/val/Null/MIRZAEIEHamidreza-262of281_IMG0026.jpg: 256x256 Null 1.00, Bad 0.00, Good 0.00, 10.0ms\n",
            "Speed: 3.7ms preprocess, 10.0ms inference, 0.1ms postprocess per image at shape (1, 3, 256, 256)\n",
            "\n",
            "image 1/1 /content/drive/MyDrive/projects/SecondTry/JPG_480/val/Null/MADAHSADEGH-927of927_IMG0090.jpg: 256x256 Null 1.00, Bad 0.00, Good 0.00, 10.0ms\n",
            "Speed: 3.8ms preprocess, 10.0ms inference, 0.1ms postprocess per image at shape (1, 3, 256, 256)\n",
            "\n",
            "image 1/1 /content/drive/MyDrive/projects/SecondTry/JPG_480/val/Null/MADAHSADEGH-927of927_IMG0089.jpg: 256x256 Null 1.00, Bad 0.00, Good 0.00, 10.0ms\n",
            "Speed: 3.7ms preprocess, 10.0ms inference, 0.0ms postprocess per image at shape (1, 3, 256, 256)\n",
            "\n",
            "image 1/1 /content/drive/MyDrive/projects/SecondTry/JPG_480/val/Null/MIRZAEIEHamidreza-262of281_IMG0070.jpg: 256x256 Null 0.96, Bad 0.04, Good 0.00, 10.0ms\n",
            "Speed: 3.7ms preprocess, 10.0ms inference, 0.0ms postprocess per image at shape (1, 3, 256, 256)\n"
          ]
        },
        {
          "name": "stderr",
          "output_type": "stream",
          "text": [
            "\r 71%|███████▏  | 30/42 [00:00<00:00, 40.32it/s]"
          ]
        },
        {
          "name": "stdout",
          "output_type": "stream",
          "text": [
            "\n",
            "image 1/1 /content/drive/MyDrive/projects/SecondTry/JPG_480/val/Null/MIRZAEIEHamidreza-262of281_IMG0025.jpg: 256x256 Null 1.00, Bad 0.00, Good 0.00, 10.0ms\n",
            "Speed: 3.7ms preprocess, 10.0ms inference, 0.1ms postprocess per image at shape (1, 3, 256, 256)\n",
            "\n",
            "image 1/1 /content/drive/MyDrive/projects/SecondTry/JPG_480/val/Null/MIRZAEIEHamidreza-262of281_IMG0069.jpg: 256x256 Null 0.96, Bad 0.04, Good 0.00, 10.0ms\n",
            "Speed: 3.9ms preprocess, 10.0ms inference, 0.0ms postprocess per image at shape (1, 3, 256, 256)\n",
            "\n",
            "image 1/1 /content/drive/MyDrive/projects/SecondTry/JPG_480/val/Null/MIRZAEIEHamidreza-262of281_IMG0072.jpg: 256x256 Null 0.96, Bad 0.03, Good 0.00, 10.0ms\n",
            "Speed: 5.0ms preprocess, 10.0ms inference, 0.1ms postprocess per image at shape (1, 3, 256, 256)\n",
            "\n",
            "image 1/1 /content/drive/MyDrive/projects/SecondTry/JPG_480/val/Null/MIRZAEIEHamidreza-262of281_IMG0067.jpg: 256x256 Null 0.96, Bad 0.04, Good 0.00, 10.1ms\n",
            "Speed: 5.0ms preprocess, 10.1ms inference, 0.1ms postprocess per image at shape (1, 3, 256, 256)\n",
            "\n",
            "image 1/1 /content/drive/MyDrive/projects/SecondTry/JPG_480/val/Null/MIRZAEIEHamidreza-262of281_IMG0068.jpg: 256x256 Null 0.96, Bad 0.04, Good 0.00, 10.0ms\n",
            "Speed: 5.0ms preprocess, 10.0ms inference, 0.1ms postprocess per image at shape (1, 3, 256, 256)\n"
          ]
        },
        {
          "name": "stderr",
          "output_type": "stream",
          "text": [
            "\r 83%|████████▎ | 35/42 [00:00<00:00, 40.78it/s]"
          ]
        },
        {
          "name": "stdout",
          "output_type": "stream",
          "text": [
            "\n",
            "image 1/1 /content/drive/MyDrive/projects/SecondTry/JPG_480/val/Null/MIRZAEIEHamidreza-262of281_IMG0071.jpg: 256x256 Null 0.96, Bad 0.03, Good 0.00, 10.0ms\n",
            "Speed: 3.8ms preprocess, 10.0ms inference, 0.0ms postprocess per image at shape (1, 3, 256, 256)\n",
            "\n",
            "image 1/1 /content/drive/MyDrive/projects/SecondTry/JPG_480/val/Null/MoghbeliZAHRA-383of399_IMG0021.jpg: 256x256 Null 0.98, Bad 0.02, Good 0.00, 10.0ms\n",
            "Speed: 3.7ms preprocess, 10.0ms inference, 0.0ms postprocess per image at shape (1, 3, 256, 256)\n",
            "\n",
            "image 1/1 /content/drive/MyDrive/projects/SecondTry/JPG_480/val/Null/MoghbeliZAHRA-383of399_IMG0116.jpg: 256x256 Null 1.00, Bad 0.00, Good 0.00, 10.0ms\n",
            "Speed: 3.8ms preprocess, 10.0ms inference, 0.0ms postprocess per image at shape (1, 3, 256, 256)\n",
            "\n",
            "image 1/1 /content/drive/MyDrive/projects/SecondTry/JPG_480/val/Null/MoghbeliZAHRA-383of399_IMG0001.jpg: 256x256 Bad 0.99, Good 0.01, Null 0.00, 10.1ms\n",
            "Speed: 4.4ms preprocess, 10.1ms inference, 0.1ms postprocess per image at shape (1, 3, 256, 256)\n",
            "\n",
            "image 1/1 /content/drive/MyDrive/projects/SecondTry/JPG_480/val/Null/MoghbeliZAHRA-383of399_IMG0033.jpg: 256x256 Bad 0.89, Good 0.11, Null 0.00, 10.0ms\n",
            "Speed: 4.0ms preprocess, 10.0ms inference, 0.0ms postprocess per image at shape (1, 3, 256, 256)\n"
          ]
        },
        {
          "name": "stderr",
          "output_type": "stream",
          "text": [
            "\r 95%|█████████▌| 40/42 [00:00<00:00, 40.95it/s]"
          ]
        },
        {
          "name": "stdout",
          "output_type": "stream",
          "text": [
            "\n",
            "image 1/1 /content/drive/MyDrive/projects/SecondTry/JPG_480/val/Null/MoghbeliZAHRA-383of399_IMG0014.jpg: 256x256 Null 1.00, Bad 0.00, Good 0.00, 9.8ms\n",
            "Speed: 3.7ms preprocess, 9.8ms inference, 0.0ms postprocess per image at shape (1, 3, 256, 256)\n",
            "\n",
            "image 1/1 /content/drive/MyDrive/projects/SecondTry/JPG_480/val/Null/MoghbeliZAHRA-383of399_IMG0145.jpg: 256x256 Null 1.00, Bad 0.00, Good 0.00, 9.8ms\n",
            "Speed: 4.5ms preprocess, 9.8ms inference, 0.1ms postprocess per image at shape (1, 3, 256, 256)\n"
          ]
        },
        {
          "name": "stderr",
          "output_type": "stream",
          "text": [
            "\r100%|██████████| 42/42 [00:01<00:00, 40.45it/s]"
          ]
        },
        {
          "name": "stdout",
          "output_type": "stream",
          "text": [
            "Number of misclassified images: 7\n"
          ]
        },
        {
          "name": "stderr",
          "output_type": "stream",
          "text": [
            "\n"
          ]
        },
        {
          "data": {
            "image/png": "[encoded data removed]",
            "text/plain": [
              "<Figure size 1500x1200 with 7 Axes>"
            ]
          },
          "metadata": {},
          "output_type": "display_data"
        }
      ],
      "source": [
        "import matplotlib.pyplot as plt\n",
        "import os\n",
        "from PIL import Image\n",
        "\n",
        "# Store misclassified samples\n",
        "misclassified = []\n",
        "true_labels_mc = []\n",
        "pred_labels_mc = []\n",
        "# Loop through the test directory\n",
        "for label in classes:\n",
        "    class_dir = os.path.join(test_dir, label)\n",
        "    for image_name in tqdm(os.listdir(class_dir)):\n",
        "        image_path = os.path.join(class_dir, image_name)\n",
        "\n",
        "        # Predict the images class\n",
        "        result = model.predict(image_path)\n",
        "        result = result[0]\n",
        "        predicted_idx = result.probs.top1\n",
        "        predicted_class = classes[predicted_idx]\n",
        "\n",
        "        # Save true/predicted labels\n",
        "        true_labels_mc.append(label)\n",
        "        pred_labels_mc.append(predicted_class)\n",
        "\n",
        "        # Check for misclassification\n",
        "        if predicted_class != label:\n",
        "            misclassified.append((image_path, label, predicted_class))\n",
        "\n",
        "# Show some misclassified images\n",
        "print(f\"Number of misclassified images: {len(misclassified)}\")\n",
        "\n",
        "num_to_show = min(12, len(misclassified))\n",
        "plt.figure(figsize=(15, 12))\n",
        "\n",
        "for idx in range(num_to_show):\n",
        "    image_path, true_label, pred_label = misclassified[idx]\n",
        "    img = Image.open(image_path)\n",
        "\n",
        "    plt.subplot(3, 4, idx+1)\n",
        "    plt.imshow(img)\n",
        "    plt.title(f'True: {true_label}\\nPred: {pred_label}', fontsize=10)\n",
        "    plt.axis('off')\n",
        "\n",
        "plt.tight_layout()\n",
        "plt.show()"
      ]
    },
    {
      "cell_type": "markdown",
      "metadata": {
        "id": "zDxkBzdwtZu4"
      },
      "source": [
        "### Model Evaluation"
      ]
    },
    {
      "cell_type": "code",
      "execution_count": null,
      "metadata": {
        "colab": {
          "base_uri": "https://localhost:8080/"
        },
        "id": "xkF5lWdgtQqf",
        "outputId": "ffe87611-d5de-4dfc-cc64-6375663d0be5"
      },
      "outputs": [
        {
          "name": "stdout",
          "output_type": "stream",
          "text": [
            "Ultralytics 8.3.11 🚀 Python-3.10.12 torch-2.4.1+cu121 CUDA:0 (Tesla T4, 15102MiB)\n",
            "\u001b[34m\u001b[1mengine/trainer: \u001b[0mtask=classify, mode=train, model=/content/drive/MyDrive/projects/SecondTry/All model last version/Yolo/runs/classify/train2/weights/best.pt, data=/content/drive/MyDrive/projects/SecondTry/Folds/fold_1, epochs=100, time=None, patience=100, batch=16, imgsz=256, save=True, save_period=-1, cache=False, device=None, workers=8, project=None, name=train8, exist_ok=False, pretrained=True, optimizer=auto, verbose=True, seed=0, deterministic=True, single_cls=False, rect=False, cos_lr=False, close_mosaic=10, resume=False, amp=True, fraction=1.0, profile=False, freeze=None, multi_scale=False, overlap_mask=True, mask_ratio=4, dropout=0.0, val=True, split=val, save_json=False, save_hybrid=False, conf=None, iou=0.7, max_det=300, half=False, dnn=False, plots=True, source=None, vid_stride=1, stream_buffer=False, visualize=False, augment=False, agnostic_nms=False, classes=None, retina_masks=False, embed=None, show=False, save_frames=False, save_txt=False, save_conf=False, save_crop=False, show_labels=True, show_conf=True, show_boxes=True, line_width=None, format=torchscript, keras=False, optimize=False, int8=False, dynamic=False, simplify=True, opset=None, workspace=4, nms=False, lr0=0.01, lrf=0.01, momentum=0.937, weight_decay=0.0005, warmup_epochs=3.0, warmup_momentum=0.8, warmup_bias_lr=0.1, box=7.5, cls=0.5, dfl=1.5, pose=12.0, kobj=1.0, label_smoothing=0.0, nbs=64, hsv_h=0.015, hsv_s=0.7, hsv_v=0.4, degrees=0.0, translate=0.1, scale=0.5, shear=0.0, perspective=0.0, flipud=0.0, fliplr=0.5, bgr=0.0, mosaic=1.0, mixup=0.0, copy_paste=0.0, copy_paste_mode=flip, auto_augment=randaugment, erasing=0.4, crop_fraction=1.0, cfg=None, tracker=botsort.yaml, save_dir=runs/classify/train8\n",
            "\u001b[34m\u001b[1mtrain:\u001b[0m /content/drive/MyDrive/projects/SecondTry/Folds/fold_1/train... found 962 images in 3 classes ✅ \n",
            "\u001b[34m\u001b[1mval:\u001b[0m /content/drive/MyDrive/projects/SecondTry/Folds/fold_1/val... found 241 images in 3 classes ✅ \n",
            "\u001b[34m\u001b[1mtest:\u001b[0m None...\n",
            "\n",
            "                   from  n    params  module                                       arguments                     \n",
            "  0                  -1  1      2320  ultralytics.nn.modules.conv.Conv             [3, 80, 3, 2]                 \n",
            "  1                  -1  1    115520  ultralytics.nn.modules.conv.Conv             [80, 160, 3, 2]               \n",
            "  2                  -1  3    436800  ultralytics.nn.modules.block.C2f             [160, 160, 3, True]           \n",
            "  3                  -1  1    461440  ultralytics.nn.modules.conv.Conv             [160, 320, 3, 2]              \n",
            "  4                  -1  6   3281920  ultralytics.nn.modules.block.C2f             [320, 320, 6, True]           \n",
            "  5                  -1  1   1844480  ultralytics.nn.modules.conv.Conv             [320, 640, 3, 2]              \n",
            "  6                  -1  6  13117440  ultralytics.nn.modules.block.C2f             [640, 640, 6, True]           \n",
            "  7                  -1  1   7375360  ultralytics.nn.modules.conv.Conv             [640, 1280, 3, 2]             \n",
            "  8                  -1  3  27865600  ultralytics.nn.modules.block.C2f             [1280, 1280, 3, True]         \n",
            "  9                  -1  1   1644803  ultralytics.nn.modules.head.Classify         [1280, 3]                     \n",
            "YOLOv8x-cls summary: 183 layers, 56,145,683 parameters, 56,145,683 gradients, 154.3 GFLOPs\n",
            "Transferred 52/302 items from pretrained weights\n",
            "\u001b[34m\u001b[1mTensorBoard: \u001b[0mStart with 'tensorboard --logdir runs/classify/train8', view at http://localhost:6006/\n",
            "\u001b[34m\u001b[1mAMP: \u001b[0mrunning Automatic Mixed Precision (AMP) checks with YOLO11n...\n",
            "\u001b[34m\u001b[1mAMP: \u001b[0mchecks passed ✅\n"
          ]
        },
        {
          "name": "stderr",
          "output_type": "stream",
          "text": [
            "\u001b[34m\u001b[1mtrain: \u001b[0mScanning /content/drive/MyDrive/projects/SecondTry/Folds/fold_1/train... 962 images, 0 corrupt: 100%|██████████| 962/962 [00:00<?, ?it/s]\n",
            "\u001b[34m\u001b[1mval: \u001b[0mScanning /content/drive/MyDrive/projects/SecondTry/Folds/fold_1/val... 241 images, 0 corrupt: 100%|██████████| 241/241 [00:00<?, ?it/s]\n"
          ]
        },
        {
          "name": "stdout",
          "output_type": "stream",
          "text": [
            "\u001b[34m\u001b[1moptimizer:\u001b[0m 'optimizer=auto' found, ignoring 'lr0=0.01' and 'momentum=0.937' and determining best 'optimizer', 'lr0' and 'momentum' automatically... \n",
            "\u001b[34m\u001b[1moptimizer:\u001b[0m AdamW(lr=0.000714, momentum=0.9) with parameter groups 50 weight(decay=0.0), 51 weight(decay=0.0005), 51 bias(decay=0.0)\n",
            "\u001b[34m\u001b[1mTensorBoard: \u001b[0mmodel graph visualization added ✅\n",
            "Image sizes 256 train, 256 val\n",
            "Using 2 dataloader workers\n",
            "Logging results to \u001b[1mruns/classify/train8\u001b[0m\n",
            "Starting training for 100 epochs...\n",
            "\n",
            "      Epoch    GPU_mem       loss  Instances       Size\n"
          ]
        },
        {
          "name": "stderr",
          "output_type": "stream",
          "text": [
            "      1/100      4.49G     0.7788          2        256: 100%|██████████| 61/61 [03:57<00:00,  3.89s/it]\n",
            "               classes   top1_acc   top5_acc: 100%|██████████| 8/8 [00:43<00:00,  5.40s/it]"
          ]
        },
        {
          "name": "stdout",
          "output_type": "stream",
          "text": [
            "                   all      0.639          1\n"
          ]
        },
        {
          "name": "stderr",
          "output_type": "stream",
          "text": [
            "\n"
          ]
        },
        {
          "name": "stdout",
          "output_type": "stream",
          "text": [
            "\n",
            "      Epoch    GPU_mem       loss  Instances       Size\n"
          ]
        },
        {
          "name": "stderr",
          "output_type": "stream",
          "text": [
            "      2/100      2.98G     0.6148          2        256: 100%|██████████| 61/61 [00:20<00:00,  3.03it/s]\n",
            "               classes   top1_acc   top5_acc: 100%|██████████| 8/8 [00:02<00:00,  2.72it/s]"
          ]
        },
        {
          "name": "stdout",
          "output_type": "stream",
          "text": [
            "                   all      0.755          1\n"
          ]
        },
        {
          "name": "stderr",
          "output_type": "stream",
          "text": [
            "\n"
          ]
        },
        {
          "name": "stdout",
          "output_type": "stream",
          "text": [
            "\n",
            "      Epoch    GPU_mem       loss  Instances       Size\n"
          ]
        },
        {
          "name": "stderr",
          "output_type": "stream",
          "text": [
            "      3/100      3.05G     0.5495          2        256: 100%|██████████| 61/61 [00:16<00:00,  3.70it/s]\n",
            "               classes   top1_acc   top5_acc: 100%|██████████| 8/8 [00:02<00:00,  2.69it/s]"
          ]
        },
        {
          "name": "stdout",
          "output_type": "stream",
          "text": [
            "                   all       0.66          1\n"
          ]
        },
        {
          "name": "stderr",
          "output_type": "stream",
          "text": [
            "\n"
          ]
        },
        {
          "name": "stdout",
          "output_type": "stream",
          "text": [
            "\n",
            "      Epoch    GPU_mem       loss  Instances       Size\n"
          ]
        },
        {
          "name": "stderr",
          "output_type": "stream",
          "text": [
            "      4/100      2.95G     0.5162          2        256: 100%|██████████| 61/61 [00:18<00:00,  3.34it/s]\n",
            "               classes   top1_acc   top5_acc: 100%|██████████| 8/8 [00:01<00:00,  4.49it/s]"
          ]
        },
        {
          "name": "stdout",
          "output_type": "stream",
          "text": [
            "                   all       0.71          1\n"
          ]
        },
        {
          "name": "stderr",
          "output_type": "stream",
          "text": [
            "\n"
          ]
        },
        {
          "name": "stdout",
          "output_type": "stream",
          "text": [
            "\n",
            "      Epoch    GPU_mem       loss  Instances       Size\n"
          ]
        },
        {
          "name": "stderr",
          "output_type": "stream",
          "text": [
            "      5/100      3.05G     0.5623          2        256: 100%|██████████| 61/61 [00:17<00:00,  3.41it/s]\n",
            "               classes   top1_acc   top5_acc: 100%|██████████| 8/8 [00:01<00:00,  4.62it/s]"
          ]
        },
        {
          "name": "stdout",
          "output_type": "stream",
          "text": [
            "                   all      0.718          1\n"
          ]
        },
        {
          "name": "stderr",
          "output_type": "stream",
          "text": [
            "\n"
          ]
        },
        {
          "name": "stdout",
          "output_type": "stream",
          "text": [
            "\n",
            "      Epoch    GPU_mem       loss  Instances       Size\n"
          ]
        },
        {
          "name": "stderr",
          "output_type": "stream",
          "text": [
            "      6/100      3.02G     0.5086          2        256: 100%|██████████| 61/61 [00:17<00:00,  3.40it/s]\n",
            "               classes   top1_acc   top5_acc: 100%|██████████| 8/8 [00:01<00:00,  4.51it/s]"
          ]
        },
        {
          "name": "stdout",
          "output_type": "stream",
          "text": [
            "                   all      0.871          1\n"
          ]
        },
        {
          "name": "stderr",
          "output_type": "stream",
          "text": [
            "\n"
          ]
        },
        {
          "name": "stdout",
          "output_type": "stream",
          "text": [
            "\n",
            "      Epoch    GPU_mem       loss  Instances       Size\n"
          ]
        },
        {
          "name": "stderr",
          "output_type": "stream",
          "text": [
            "      7/100      3.02G     0.4183          2        256: 100%|██████████| 61/61 [00:18<00:00,  3.27it/s]\n",
            "               classes   top1_acc   top5_acc: 100%|██████████| 8/8 [00:02<00:00,  3.21it/s]"
          ]
        },
        {
          "name": "stdout",
          "output_type": "stream",
          "text": [
            "                   all      0.896          1\n"
          ]
        },
        {
          "name": "stderr",
          "output_type": "stream",
          "text": [
            "\n"
          ]
        },
        {
          "name": "stdout",
          "output_type": "stream",
          "text": [
            "\n",
            "      Epoch    GPU_mem       loss  Instances       Size\n"
          ]
        },
        {
          "name": "stderr",
          "output_type": "stream",
          "text": [
            "      8/100      2.95G     0.4291          2        256: 100%|██████████| 61/61 [00:18<00:00,  3.27it/s]\n",
            "               classes   top1_acc   top5_acc: 100%|██████████| 8/8 [00:03<00:00,  2.65it/s]"
          ]
        },
        {
          "name": "stdout",
          "output_type": "stream",
          "text": [
            "                   all      0.946          1\n"
          ]
        },
        {
          "name": "stderr",
          "output_type": "stream",
          "text": [
            "\n"
          ]
        },
        {
          "name": "stdout",
          "output_type": "stream",
          "text": [
            "\n",
            "      Epoch    GPU_mem       loss  Instances       Size\n"
          ]
        },
        {
          "name": "stderr",
          "output_type": "stream",
          "text": [
            "      9/100      3.04G     0.3558          2        256: 100%|██████████| 61/61 [00:21<00:00,  2.86it/s]\n",
            "               classes   top1_acc   top5_acc: 100%|██████████| 8/8 [00:02<00:00,  3.14it/s]"
          ]
        },
        {
          "name": "stdout",
          "output_type": "stream",
          "text": [
            "                   all        0.9          1\n"
          ]
        },
        {
          "name": "stderr",
          "output_type": "stream",
          "text": [
            "\n"
          ]
        },
        {
          "name": "stdout",
          "output_type": "stream",
          "text": [
            "\n",
            "      Epoch    GPU_mem       loss  Instances       Size\n"
          ]
        },
        {
          "name": "stderr",
          "output_type": "stream",
          "text": [
            "     10/100      3.03G     0.3807          2        256: 100%|██████████| 61/61 [00:18<00:00,  3.34it/s]\n",
            "               classes   top1_acc   top5_acc: 100%|██████████| 8/8 [00:01<00:00,  4.65it/s]"
          ]
        },
        {
          "name": "stdout",
          "output_type": "stream",
          "text": [
            "                   all      0.867          1\n"
          ]
        },
        {
          "name": "stderr",
          "output_type": "stream",
          "text": [
            "\n"
          ]
        },
        {
          "name": "stdout",
          "output_type": "stream",
          "text": [
            "\n",
            "      Epoch    GPU_mem       loss  Instances       Size\n"
          ]
        },
        {
          "name": "stderr",
          "output_type": "stream",
          "text": [
            "     11/100      3.03G     0.3372          2        256: 100%|██████████| 61/61 [00:17<00:00,  3.44it/s]\n",
            "               classes   top1_acc   top5_acc: 100%|██████████| 8/8 [00:02<00:00,  3.20it/s]"
          ]
        },
        {
          "name": "stdout",
          "output_type": "stream",
          "text": [
            "                   all      0.851          1\n"
          ]
        },
        {
          "name": "stderr",
          "output_type": "stream",
          "text": [
            "\n"
          ]
        },
        {
          "name": "stdout",
          "output_type": "stream",
          "text": [
            "\n",
            "      Epoch    GPU_mem       loss  Instances       Size\n"
          ]
        },
        {
          "name": "stderr",
          "output_type": "stream",
          "text": [
            "     12/100      2.95G      0.297          2        256: 100%|██████████| 61/61 [00:16<00:00,  3.66it/s]\n",
            "               classes   top1_acc   top5_acc: 100%|██████████| 8/8 [00:02<00:00,  2.81it/s]"
          ]
        },
        {
          "name": "stdout",
          "output_type": "stream",
          "text": [
            "                   all      0.834          1\n"
          ]
        },
        {
          "name": "stderr",
          "output_type": "stream",
          "text": [
            "\n"
          ]
        },
        {
          "name": "stdout",
          "output_type": "stream",
          "text": [
            "\n",
            "      Epoch    GPU_mem       loss  Instances       Size\n"
          ]
        },
        {
          "name": "stderr",
          "output_type": "stream",
          "text": [
            "     13/100      3.04G     0.3249          2        256: 100%|██████████| 61/61 [00:17<00:00,  3.51it/s]\n",
            "               classes   top1_acc   top5_acc: 100%|██████████| 8/8 [00:01<00:00,  4.95it/s]"
          ]
        },
        {
          "name": "stdout",
          "output_type": "stream",
          "text": [
            "                   all      0.929          1\n"
          ]
        },
        {
          "name": "stderr",
          "output_type": "stream",
          "text": [
            "\n"
          ]
        },
        {
          "name": "stdout",
          "output_type": "stream",
          "text": [
            "\n",
            "      Epoch    GPU_mem       loss  Instances       Size\n"
          ]
        },
        {
          "name": "stderr",
          "output_type": "stream",
          "text": [
            "     14/100      3.03G     0.3194          2        256: 100%|██████████| 61/61 [00:18<00:00,  3.39it/s]\n",
            "               classes   top1_acc   top5_acc: 100%|██████████| 8/8 [00:01<00:00,  4.48it/s]"
          ]
        },
        {
          "name": "stdout",
          "output_type": "stream",
          "text": [
            "                   all      0.905          1\n"
          ]
        },
        {
          "name": "stderr",
          "output_type": "stream",
          "text": [
            "\n"
          ]
        },
        {
          "name": "stdout",
          "output_type": "stream",
          "text": [
            "\n",
            "      Epoch    GPU_mem       loss  Instances       Size\n"
          ]
        },
        {
          "name": "stderr",
          "output_type": "stream",
          "text": [
            "     15/100      3.03G     0.3425          2        256: 100%|██████████| 61/61 [00:17<00:00,  3.47it/s]\n",
            "               classes   top1_acc   top5_acc: 100%|██████████| 8/8 [00:01<00:00,  4.61it/s]"
          ]
        },
        {
          "name": "stdout",
          "output_type": "stream",
          "text": [
            "                   all      0.871          1\n"
          ]
        },
        {
          "name": "stderr",
          "output_type": "stream",
          "text": [
            "\n"
          ]
        },
        {
          "name": "stdout",
          "output_type": "stream",
          "text": [
            "\n",
            "      Epoch    GPU_mem       loss  Instances       Size\n"
          ]
        },
        {
          "name": "stderr",
          "output_type": "stream",
          "text": [
            "     16/100      2.93G     0.3193          2        256: 100%|██████████| 61/61 [00:17<00:00,  3.57it/s]\n",
            "               classes   top1_acc   top5_acc: 100%|██████████| 8/8 [00:02<00:00,  2.89it/s]"
          ]
        },
        {
          "name": "stdout",
          "output_type": "stream",
          "text": [
            "                   all      0.846          1\n"
          ]
        },
        {
          "name": "stderr",
          "output_type": "stream",
          "text": [
            "\n"
          ]
        },
        {
          "name": "stdout",
          "output_type": "stream",
          "text": [
            "\n",
            "      Epoch    GPU_mem       loss  Instances       Size\n"
          ]
        },
        {
          "name": "stderr",
          "output_type": "stream",
          "text": [
            "     17/100      3.04G     0.2437          2        256: 100%|██████████| 61/61 [00:17<00:00,  3.48it/s]\n",
            "               classes   top1_acc   top5_acc: 100%|██████████| 8/8 [00:02<00:00,  3.18it/s]"
          ]
        },
        {
          "name": "stdout",
          "output_type": "stream",
          "text": [
            "                   all      0.925          1\n"
          ]
        },
        {
          "name": "stderr",
          "output_type": "stream",
          "text": [
            "\n"
          ]
        },
        {
          "name": "stdout",
          "output_type": "stream",
          "text": [
            "\n",
            "      Epoch    GPU_mem       loss  Instances       Size\n"
          ]
        },
        {
          "name": "stderr",
          "output_type": "stream",
          "text": [
            "     18/100      3.06G      0.222          2        256: 100%|██████████| 61/61 [00:17<00:00,  3.43it/s]\n",
            "               classes   top1_acc   top5_acc: 100%|██████████| 8/8 [00:01<00:00,  4.52it/s]"
          ]
        },
        {
          "name": "stdout",
          "output_type": "stream",
          "text": [
            "                   all      0.884          1\n"
          ]
        },
        {
          "name": "stderr",
          "output_type": "stream",
          "text": [
            "\n"
          ]
        },
        {
          "name": "stdout",
          "output_type": "stream",
          "text": [
            "\n",
            "      Epoch    GPU_mem       loss  Instances       Size\n"
          ]
        },
        {
          "name": "stderr",
          "output_type": "stream",
          "text": [
            "     19/100      3.02G     0.3161          2        256: 100%|██████████| 61/61 [00:18<00:00,  3.38it/s]\n",
            "               classes   top1_acc   top5_acc: 100%|██████████| 8/8 [00:02<00:00,  3.92it/s]"
          ]
        },
        {
          "name": "stdout",
          "output_type": "stream",
          "text": [
            "                   all      0.871          1\n"
          ]
        },
        {
          "name": "stderr",
          "output_type": "stream",
          "text": [
            "\n"
          ]
        },
        {
          "name": "stdout",
          "output_type": "stream",
          "text": [
            "\n",
            "      Epoch    GPU_mem       loss  Instances       Size\n"
          ]
        },
        {
          "name": "stderr",
          "output_type": "stream",
          "text": [
            "     20/100      2.95G     0.2765          2        256: 100%|██████████| 61/61 [00:16<00:00,  3.64it/s]\n",
            "               classes   top1_acc   top5_acc: 100%|██████████| 8/8 [00:02<00:00,  2.74it/s]"
          ]
        },
        {
          "name": "stdout",
          "output_type": "stream",
          "text": [
            "                   all      0.909          1\n"
          ]
        },
        {
          "name": "stderr",
          "output_type": "stream",
          "text": [
            "\n"
          ]
        },
        {
          "name": "stdout",
          "output_type": "stream",
          "text": [
            "\n",
            "      Epoch    GPU_mem       loss  Instances       Size\n"
          ]
        },
        {
          "name": "stderr",
          "output_type": "stream",
          "text": [
            "     21/100      3.04G     0.2815          2        256: 100%|██████████| 61/61 [00:17<00:00,  3.47it/s]\n",
            "               classes   top1_acc   top5_acc: 100%|██████████| 8/8 [00:02<00:00,  3.34it/s]"
          ]
        },
        {
          "name": "stdout",
          "output_type": "stream",
          "text": [
            "                   all      0.921          1\n"
          ]
        },
        {
          "name": "stderr",
          "output_type": "stream",
          "text": [
            "\n"
          ]
        },
        {
          "name": "stdout",
          "output_type": "stream",
          "text": [
            "\n",
            "      Epoch    GPU_mem       loss  Instances       Size\n"
          ]
        },
        {
          "name": "stderr",
          "output_type": "stream",
          "text": [
            "     22/100      3.03G     0.2752          2        256: 100%|██████████| 61/61 [00:18<00:00,  3.38it/s]\n",
            "               classes   top1_acc   top5_acc: 100%|██████████| 8/8 [00:01<00:00,  4.52it/s]"
          ]
        },
        {
          "name": "stdout",
          "output_type": "stream",
          "text": [
            "                   all      0.921          1\n"
          ]
        },
        {
          "name": "stderr",
          "output_type": "stream",
          "text": [
            "\n"
          ]
        },
        {
          "name": "stdout",
          "output_type": "stream",
          "text": [
            "\n",
            "      Epoch    GPU_mem       loss  Instances       Size\n"
          ]
        },
        {
          "name": "stderr",
          "output_type": "stream",
          "text": [
            "     23/100      3.06G     0.2679          2        256: 100%|██████████| 61/61 [00:17<00:00,  3.47it/s]\n",
            "               classes   top1_acc   top5_acc: 100%|██████████| 8/8 [00:01<00:00,  4.51it/s]"
          ]
        },
        {
          "name": "stdout",
          "output_type": "stream",
          "text": [
            "                   all      0.913          1\n"
          ]
        },
        {
          "name": "stderr",
          "output_type": "stream",
          "text": [
            "\n"
          ]
        },
        {
          "name": "stdout",
          "output_type": "stream",
          "text": [
            "\n",
            "      Epoch    GPU_mem       loss  Instances       Size\n"
          ]
        },
        {
          "name": "stderr",
          "output_type": "stream",
          "text": [
            "     24/100      2.95G      0.253          2        256: 100%|██████████| 61/61 [00:17<00:00,  3.53it/s]\n",
            "               classes   top1_acc   top5_acc: 100%|██████████| 8/8 [00:02<00:00,  3.50it/s]"
          ]
        },
        {
          "name": "stdout",
          "output_type": "stream",
          "text": [
            "                   all      0.942          1\n"
          ]
        },
        {
          "name": "stderr",
          "output_type": "stream",
          "text": [
            "\n"
          ]
        },
        {
          "name": "stdout",
          "output_type": "stream",
          "text": [
            "\n",
            "      Epoch    GPU_mem       loss  Instances       Size\n"
          ]
        },
        {
          "name": "stderr",
          "output_type": "stream",
          "text": [
            "     25/100      3.04G     0.1922          2        256: 100%|██████████| 61/61 [00:16<00:00,  3.66it/s]\n",
            "               classes   top1_acc   top5_acc: 100%|██████████| 8/8 [00:03<00:00,  2.63it/s]"
          ]
        },
        {
          "name": "stdout",
          "output_type": "stream",
          "text": [
            "                   all      0.884          1\n"
          ]
        },
        {
          "name": "stderr",
          "output_type": "stream",
          "text": [
            "\n"
          ]
        },
        {
          "name": "stdout",
          "output_type": "stream",
          "text": [
            "\n",
            "      Epoch    GPU_mem       loss  Instances       Size\n"
          ]
        },
        {
          "name": "stderr",
          "output_type": "stream",
          "text": [
            "     26/100      3.02G     0.1782          2        256: 100%|██████████| 61/61 [00:17<00:00,  3.42it/s]\n",
            "               classes   top1_acc   top5_acc: 100%|██████████| 8/8 [00:03<00:00,  2.29it/s]"
          ]
        },
        {
          "name": "stdout",
          "output_type": "stream",
          "text": [
            "                   all      0.913          1\n"
          ]
        },
        {
          "name": "stderr",
          "output_type": "stream",
          "text": [
            "\n"
          ]
        },
        {
          "name": "stdout",
          "output_type": "stream",
          "text": [
            "\n",
            "      Epoch    GPU_mem       loss  Instances       Size\n"
          ]
        },
        {
          "name": "stderr",
          "output_type": "stream",
          "text": [
            "     27/100      3.03G     0.2168          2        256: 100%|██████████| 61/61 [00:17<00:00,  3.45it/s]\n",
            "               classes   top1_acc   top5_acc: 100%|██████████| 8/8 [00:01<00:00,  4.41it/s]"
          ]
        },
        {
          "name": "stdout",
          "output_type": "stream",
          "text": [
            "                   all      0.925          1\n"
          ]
        },
        {
          "name": "stderr",
          "output_type": "stream",
          "text": [
            "\n"
          ]
        },
        {
          "name": "stdout",
          "output_type": "stream",
          "text": [
            "\n",
            "      Epoch    GPU_mem       loss  Instances       Size\n"
          ]
        },
        {
          "name": "stderr",
          "output_type": "stream",
          "text": [
            "     28/100      2.95G     0.2582          2        256: 100%|██████████| 61/61 [00:17<00:00,  3.45it/s]\n",
            "               classes   top1_acc   top5_acc: 100%|██████████| 8/8 [00:01<00:00,  4.78it/s]"
          ]
        },
        {
          "name": "stdout",
          "output_type": "stream",
          "text": [
            "                   all      0.921          1\n"
          ]
        },
        {
          "name": "stderr",
          "output_type": "stream",
          "text": [
            "\n"
          ]
        },
        {
          "name": "stdout",
          "output_type": "stream",
          "text": [
            "\n",
            "      Epoch    GPU_mem       loss  Instances       Size\n"
          ]
        },
        {
          "name": "stderr",
          "output_type": "stream",
          "text": [
            "     29/100      3.08G     0.1819          2        256: 100%|██████████| 61/61 [00:17<00:00,  3.48it/s]\n",
            "               classes   top1_acc   top5_acc: 100%|██████████| 8/8 [00:02<00:00,  3.89it/s]"
          ]
        },
        {
          "name": "stdout",
          "output_type": "stream",
          "text": [
            "                   all       0.95          1\n"
          ]
        },
        {
          "name": "stderr",
          "output_type": "stream",
          "text": [
            "\n"
          ]
        },
        {
          "name": "stdout",
          "output_type": "stream",
          "text": [
            "\n",
            "      Epoch    GPU_mem       loss  Instances       Size\n"
          ]
        },
        {
          "name": "stderr",
          "output_type": "stream",
          "text": [
            "     30/100      3.05G     0.1851          2        256: 100%|██████████| 61/61 [00:17<00:00,  3.46it/s]\n",
            "               classes   top1_acc   top5_acc: 100%|██████████| 8/8 [00:03<00:00,  2.17it/s]"
          ]
        },
        {
          "name": "stdout",
          "output_type": "stream",
          "text": [
            "                   all      0.959          1\n"
          ]
        },
        {
          "name": "stderr",
          "output_type": "stream",
          "text": [
            "\n"
          ]
        },
        {
          "name": "stdout",
          "output_type": "stream",
          "text": [
            "\n",
            "      Epoch    GPU_mem       loss  Instances       Size\n"
          ]
        },
        {
          "name": "stderr",
          "output_type": "stream",
          "text": [
            "     31/100      3.03G     0.2411          2        256: 100%|██████████| 61/61 [00:18<00:00,  3.37it/s]\n",
            "               classes   top1_acc   top5_acc: 100%|██████████| 8/8 [00:01<00:00,  4.20it/s]"
          ]
        },
        {
          "name": "stdout",
          "output_type": "stream",
          "text": [
            "                   all      0.938          1\n"
          ]
        },
        {
          "name": "stderr",
          "output_type": "stream",
          "text": [
            "\n"
          ]
        },
        {
          "name": "stdout",
          "output_type": "stream",
          "text": [
            "\n",
            "      Epoch    GPU_mem       loss  Instances       Size\n"
          ]
        },
        {
          "name": "stderr",
          "output_type": "stream",
          "text": [
            "     32/100      2.95G     0.1943          2        256: 100%|██████████| 61/61 [00:18<00:00,  3.28it/s]\n",
            "               classes   top1_acc   top5_acc: 100%|██████████| 8/8 [00:02<00:00,  3.73it/s]"
          ]
        },
        {
          "name": "stdout",
          "output_type": "stream",
          "text": [
            "                   all      0.938          1\n"
          ]
        },
        {
          "name": "stderr",
          "output_type": "stream",
          "text": [
            "\n"
          ]
        },
        {
          "name": "stdout",
          "output_type": "stream",
          "text": [
            "\n",
            "      Epoch    GPU_mem       loss  Instances       Size\n"
          ]
        },
        {
          "name": "stderr",
          "output_type": "stream",
          "text": [
            "     33/100      3.06G     0.1947          2        256: 100%|██████████| 61/61 [00:16<00:00,  3.70it/s]\n",
            "               classes   top1_acc   top5_acc: 100%|██████████| 8/8 [00:02<00:00,  2.80it/s]"
          ]
        },
        {
          "name": "stdout",
          "output_type": "stream",
          "text": [
            "                   all      0.942          1\n"
          ]
        },
        {
          "name": "stderr",
          "output_type": "stream",
          "text": [
            "\n"
          ]
        },
        {
          "name": "stdout",
          "output_type": "stream",
          "text": [
            "\n",
            "      Epoch    GPU_mem       loss  Instances       Size\n"
          ]
        },
        {
          "name": "stderr",
          "output_type": "stream",
          "text": [
            "     34/100      3.02G     0.1531          2        256: 100%|██████████| 61/61 [00:17<00:00,  3.53it/s]\n",
            "               classes   top1_acc   top5_acc: 100%|██████████| 8/8 [00:03<00:00,  2.65it/s]"
          ]
        },
        {
          "name": "stdout",
          "output_type": "stream",
          "text": [
            "                   all      0.913          1\n"
          ]
        },
        {
          "name": "stderr",
          "output_type": "stream",
          "text": [
            "\n"
          ]
        },
        {
          "name": "stdout",
          "output_type": "stream",
          "text": [
            "\n",
            "      Epoch    GPU_mem       loss  Instances       Size\n"
          ]
        },
        {
          "name": "stderr",
          "output_type": "stream",
          "text": [
            "     35/100      3.03G     0.1736          2        256: 100%|██████████| 61/61 [00:17<00:00,  3.42it/s]\n",
            "               classes   top1_acc   top5_acc: 100%|██████████| 8/8 [00:01<00:00,  4.92it/s]"
          ]
        },
        {
          "name": "stdout",
          "output_type": "stream",
          "text": [
            "                   all      0.892          1\n"
          ]
        },
        {
          "name": "stderr",
          "output_type": "stream",
          "text": [
            "\n"
          ]
        },
        {
          "name": "stdout",
          "output_type": "stream",
          "text": [
            "\n",
            "      Epoch    GPU_mem       loss  Instances       Size\n"
          ]
        },
        {
          "name": "stderr",
          "output_type": "stream",
          "text": [
            "     36/100      2.93G     0.1687          2        256: 100%|██████████| 61/61 [00:17<00:00,  3.49it/s]\n",
            "               classes   top1_acc   top5_acc: 100%|██████████| 8/8 [00:01<00:00,  4.17it/s]"
          ]
        },
        {
          "name": "stdout",
          "output_type": "stream",
          "text": [
            "                   all      0.909          1\n"
          ]
        },
        {
          "name": "stderr",
          "output_type": "stream",
          "text": [
            "\n"
          ]
        },
        {
          "name": "stdout",
          "output_type": "stream",
          "text": [
            "\n",
            "      Epoch    GPU_mem       loss  Instances       Size\n"
          ]
        },
        {
          "name": "stderr",
          "output_type": "stream",
          "text": [
            "     37/100      3.05G     0.1598          2        256: 100%|██████████| 61/61 [00:16<00:00,  3.61it/s]\n",
            "               classes   top1_acc   top5_acc: 100%|██████████| 8/8 [00:02<00:00,  2.95it/s]"
          ]
        },
        {
          "name": "stdout",
          "output_type": "stream",
          "text": [
            "                   all      0.942          1\n"
          ]
        },
        {
          "name": "stderr",
          "output_type": "stream",
          "text": [
            "\n"
          ]
        },
        {
          "name": "stdout",
          "output_type": "stream",
          "text": [
            "\n",
            "      Epoch    GPU_mem       loss  Instances       Size\n"
          ]
        },
        {
          "name": "stderr",
          "output_type": "stream",
          "text": [
            "     38/100      3.06G     0.1666          2        256: 100%|██████████| 61/61 [00:17<00:00,  3.47it/s]\n",
            "               classes   top1_acc   top5_acc: 100%|██████████| 8/8 [00:01<00:00,  4.25it/s]"
          ]
        },
        {
          "name": "stdout",
          "output_type": "stream",
          "text": [
            "                   all      0.959          1\n"
          ]
        },
        {
          "name": "stderr",
          "output_type": "stream",
          "text": [
            "\n"
          ]
        },
        {
          "name": "stdout",
          "output_type": "stream",
          "text": [
            "\n",
            "      Epoch    GPU_mem       loss  Instances       Size\n"
          ]
        },
        {
          "name": "stderr",
          "output_type": "stream",
          "text": [
            "     39/100      3.03G     0.1661          2        256: 100%|██████████| 61/61 [00:17<00:00,  3.39it/s]\n",
            "               classes   top1_acc   top5_acc: 100%|██████████| 8/8 [00:01<00:00,  4.86it/s]"
          ]
        },
        {
          "name": "stdout",
          "output_type": "stream",
          "text": [
            "                   all      0.913          1\n"
          ]
        },
        {
          "name": "stderr",
          "output_type": "stream",
          "text": [
            "\n"
          ]
        },
        {
          "name": "stdout",
          "output_type": "stream",
          "text": [
            "\n",
            "      Epoch    GPU_mem       loss  Instances       Size\n"
          ]
        },
        {
          "name": "stderr",
          "output_type": "stream",
          "text": [
            "     40/100      2.95G     0.1904          2        256: 100%|██████████| 61/61 [00:17<00:00,  3.41it/s]\n",
            "               classes   top1_acc   top5_acc: 100%|██████████| 8/8 [00:03<00:00,  2.63it/s]"
          ]
        },
        {
          "name": "stdout",
          "output_type": "stream",
          "text": [
            "                   all      0.913          1\n"
          ]
        },
        {
          "name": "stderr",
          "output_type": "stream",
          "text": [
            "\n"
          ]
        },
        {
          "name": "stdout",
          "output_type": "stream",
          "text": [
            "\n",
            "      Epoch    GPU_mem       loss  Instances       Size\n"
          ]
        },
        {
          "name": "stderr",
          "output_type": "stream",
          "text": [
            "     41/100      3.05G     0.1412          2        256: 100%|██████████| 61/61 [00:16<00:00,  3.70it/s]\n",
            "               classes   top1_acc   top5_acc: 100%|██████████| 8/8 [00:02<00:00,  2.91it/s]"
          ]
        },
        {
          "name": "stdout",
          "output_type": "stream",
          "text": [
            "                   all      0.954          1\n"
          ]
        },
        {
          "name": "stderr",
          "output_type": "stream",
          "text": [
            "\n"
          ]
        },
        {
          "name": "stdout",
          "output_type": "stream",
          "text": [
            "\n",
            "      Epoch    GPU_mem       loss  Instances       Size\n"
          ]
        },
        {
          "name": "stderr",
          "output_type": "stream",
          "text": [
            "     42/100      3.01G      0.178          2        256: 100%|██████████| 61/61 [00:17<00:00,  3.49it/s]\n",
            "               classes   top1_acc   top5_acc: 100%|██████████| 8/8 [00:01<00:00,  4.69it/s]"
          ]
        },
        {
          "name": "stdout",
          "output_type": "stream",
          "text": [
            "                   all      0.938          1\n"
          ]
        },
        {
          "name": "stderr",
          "output_type": "stream",
          "text": [
            "\n"
          ]
        },
        {
          "name": "stdout",
          "output_type": "stream",
          "text": [
            "\n",
            "      Epoch    GPU_mem       loss  Instances       Size\n"
          ]
        },
        {
          "name": "stderr",
          "output_type": "stream",
          "text": [
            "     43/100      3.04G     0.1466          2        256: 100%|██████████| 61/61 [00:20<00:00,  2.92it/s]\n",
            "               classes   top1_acc   top5_acc: 100%|██████████| 8/8 [00:02<00:00,  3.48it/s]"
          ]
        },
        {
          "name": "stdout",
          "output_type": "stream",
          "text": [
            "                   all      0.942          1\n"
          ]
        },
        {
          "name": "stderr",
          "output_type": "stream",
          "text": [
            "\n"
          ]
        },
        {
          "name": "stdout",
          "output_type": "stream",
          "text": [
            "\n",
            "      Epoch    GPU_mem       loss  Instances       Size\n"
          ]
        },
        {
          "name": "stderr",
          "output_type": "stream",
          "text": [
            "     44/100      2.95G     0.1209          2        256: 100%|██████████| 61/61 [00:16<00:00,  3.60it/s]\n",
            "               classes   top1_acc   top5_acc: 100%|██████████| 8/8 [00:03<00:00,  2.64it/s]"
          ]
        },
        {
          "name": "stdout",
          "output_type": "stream",
          "text": [
            "                   all      0.921          1\n"
          ]
        },
        {
          "name": "stderr",
          "output_type": "stream",
          "text": [
            "\n"
          ]
        },
        {
          "name": "stdout",
          "output_type": "stream",
          "text": [
            "\n",
            "      Epoch    GPU_mem       loss  Instances       Size\n"
          ]
        },
        {
          "name": "stderr",
          "output_type": "stream",
          "text": [
            "     45/100      3.05G     0.1246          2        256: 100%|██████████| 61/61 [00:17<00:00,  3.41it/s]\n",
            "               classes   top1_acc   top5_acc: 100%|██████████| 8/8 [00:01<00:00,  4.50it/s]"
          ]
        },
        {
          "name": "stdout",
          "output_type": "stream",
          "text": [
            "                   all      0.938          1\n"
          ]
        },
        {
          "name": "stderr",
          "output_type": "stream",
          "text": [
            "\n"
          ]
        },
        {
          "name": "stdout",
          "output_type": "stream",
          "text": [
            "\n",
            "      Epoch    GPU_mem       loss  Instances       Size\n"
          ]
        },
        {
          "name": "stderr",
          "output_type": "stream",
          "text": [
            "     46/100      3.06G     0.1177          2        256: 100%|██████████| 61/61 [00:17<00:00,  3.49it/s]\n",
            "               classes   top1_acc   top5_acc: 100%|██████████| 8/8 [00:01<00:00,  4.78it/s]"
          ]
        },
        {
          "name": "stdout",
          "output_type": "stream",
          "text": [
            "                   all      0.946          1\n"
          ]
        },
        {
          "name": "stderr",
          "output_type": "stream",
          "text": [
            "\n"
          ]
        },
        {
          "name": "stdout",
          "output_type": "stream",
          "text": [
            "\n",
            "      Epoch    GPU_mem       loss  Instances       Size\n"
          ]
        },
        {
          "name": "stderr",
          "output_type": "stream",
          "text": [
            "     47/100      3.03G     0.1179          2        256: 100%|██████████| 61/61 [00:17<00:00,  3.53it/s]\n",
            "               classes   top1_acc   top5_acc: 100%|██████████| 8/8 [00:02<00:00,  3.43it/s]"
          ]
        },
        {
          "name": "stdout",
          "output_type": "stream",
          "text": [
            "                   all      0.909          1\n"
          ]
        },
        {
          "name": "stderr",
          "output_type": "stream",
          "text": [
            "\n"
          ]
        },
        {
          "name": "stdout",
          "output_type": "stream",
          "text": [
            "\n",
            "      Epoch    GPU_mem       loss  Instances       Size\n"
          ]
        },
        {
          "name": "stderr",
          "output_type": "stream",
          "text": [
            "     48/100      2.95G     0.1847          2        256: 100%|██████████| 61/61 [00:16<00:00,  3.60it/s]\n",
            "               classes   top1_acc   top5_acc: 100%|██████████| 8/8 [00:02<00:00,  2.69it/s]"
          ]
        },
        {
          "name": "stdout",
          "output_type": "stream",
          "text": [
            "                   all      0.921          1\n"
          ]
        },
        {
          "name": "stderr",
          "output_type": "stream",
          "text": [
            "\n"
          ]
        },
        {
          "name": "stdout",
          "output_type": "stream",
          "text": [
            "\n",
            "      Epoch    GPU_mem       loss  Instances       Size\n"
          ]
        },
        {
          "name": "stderr",
          "output_type": "stream",
          "text": [
            "     49/100      3.04G     0.1593          2        256: 100%|██████████| 61/61 [00:17<00:00,  3.56it/s]\n",
            "               classes   top1_acc   top5_acc: 100%|██████████| 8/8 [00:02<00:00,  3.51it/s]"
          ]
        },
        {
          "name": "stdout",
          "output_type": "stream",
          "text": [
            "                   all      0.934          1\n"
          ]
        },
        {
          "name": "stderr",
          "output_type": "stream",
          "text": [
            "\n"
          ]
        },
        {
          "name": "stdout",
          "output_type": "stream",
          "text": [
            "\n",
            "      Epoch    GPU_mem       loss  Instances       Size\n"
          ]
        },
        {
          "name": "stderr",
          "output_type": "stream",
          "text": [
            "     50/100      3.03G      0.118          2        256: 100%|██████████| 61/61 [00:17<00:00,  3.42it/s]\n",
            "               classes   top1_acc   top5_acc: 100%|██████████| 8/8 [00:01<00:00,  4.51it/s]"
          ]
        },
        {
          "name": "stdout",
          "output_type": "stream",
          "text": [
            "                   all      0.938          1\n"
          ]
        },
        {
          "name": "stderr",
          "output_type": "stream",
          "text": [
            "\n"
          ]
        },
        {
          "name": "stdout",
          "output_type": "stream",
          "text": [
            "\n",
            "      Epoch    GPU_mem       loss  Instances       Size\n"
          ]
        },
        {
          "name": "stderr",
          "output_type": "stream",
          "text": [
            "     51/100      3.03G     0.1085          2        256: 100%|██████████| 61/61 [00:17<00:00,  3.46it/s]\n",
            "               classes   top1_acc   top5_acc: 100%|██████████| 8/8 [00:01<00:00,  4.70it/s]"
          ]
        },
        {
          "name": "stdout",
          "output_type": "stream",
          "text": [
            "                   all      0.959          1\n"
          ]
        },
        {
          "name": "stderr",
          "output_type": "stream",
          "text": [
            "\n"
          ]
        },
        {
          "name": "stdout",
          "output_type": "stream",
          "text": [
            "\n",
            "      Epoch    GPU_mem       loss  Instances       Size\n"
          ]
        },
        {
          "name": "stderr",
          "output_type": "stream",
          "text": [
            "     52/100      2.94G     0.1161          2        256: 100%|██████████| 61/61 [00:18<00:00,  3.22it/s]\n",
            "               classes   top1_acc   top5_acc: 100%|██████████| 8/8 [00:04<00:00,  1.96it/s]"
          ]
        },
        {
          "name": "stdout",
          "output_type": "stream",
          "text": [
            "                   all       0.95          1\n"
          ]
        },
        {
          "name": "stderr",
          "output_type": "stream",
          "text": [
            "\n"
          ]
        },
        {
          "name": "stdout",
          "output_type": "stream",
          "text": [
            "\n",
            "      Epoch    GPU_mem       loss  Instances       Size\n"
          ]
        },
        {
          "name": "stderr",
          "output_type": "stream",
          "text": [
            "     53/100      3.04G     0.2014          2        256: 100%|██████████| 61/61 [00:17<00:00,  3.57it/s]\n",
            "               classes   top1_acc   top5_acc: 100%|██████████| 8/8 [00:02<00:00,  3.63it/s]"
          ]
        },
        {
          "name": "stdout",
          "output_type": "stream",
          "text": [
            "                   all      0.954          1\n"
          ]
        },
        {
          "name": "stderr",
          "output_type": "stream",
          "text": [
            "\n"
          ]
        },
        {
          "name": "stdout",
          "output_type": "stream",
          "text": [
            "\n",
            "      Epoch    GPU_mem       loss  Instances       Size\n"
          ]
        },
        {
          "name": "stderr",
          "output_type": "stream",
          "text": [
            "     54/100      3.02G     0.1407          2        256: 100%|██████████| 61/61 [00:17<00:00,  3.49it/s]\n",
            "               classes   top1_acc   top5_acc: 100%|██████████| 8/8 [00:01<00:00,  4.45it/s]"
          ]
        },
        {
          "name": "stdout",
          "output_type": "stream",
          "text": [
            "                   all      0.917          1\n"
          ]
        },
        {
          "name": "stderr",
          "output_type": "stream",
          "text": [
            "\n"
          ]
        },
        {
          "name": "stdout",
          "output_type": "stream",
          "text": [
            "\n",
            "      Epoch    GPU_mem       loss  Instances       Size\n"
          ]
        },
        {
          "name": "stderr",
          "output_type": "stream",
          "text": [
            "     55/100      3.06G     0.1022          2        256: 100%|██████████| 61/61 [00:18<00:00,  3.36it/s]\n",
            "               classes   top1_acc   top5_acc: 100%|██████████| 8/8 [00:01<00:00,  5.09it/s]"
          ]
        },
        {
          "name": "stdout",
          "output_type": "stream",
          "text": [
            "                   all      0.921          1\n"
          ]
        },
        {
          "name": "stderr",
          "output_type": "stream",
          "text": [
            "\n"
          ]
        },
        {
          "name": "stdout",
          "output_type": "stream",
          "text": [
            "\n",
            "      Epoch    GPU_mem       loss  Instances       Size\n"
          ]
        },
        {
          "name": "stderr",
          "output_type": "stream",
          "text": [
            "     56/100      2.95G     0.1015          2        256: 100%|██████████| 61/61 [00:17<00:00,  3.40it/s]\n",
            "               classes   top1_acc   top5_acc: 100%|██████████| 8/8 [00:01<00:00,  4.74it/s]"
          ]
        },
        {
          "name": "stdout",
          "output_type": "stream",
          "text": [
            "                   all      0.921          1\n"
          ]
        },
        {
          "name": "stderr",
          "output_type": "stream",
          "text": [
            "\n"
          ]
        },
        {
          "name": "stdout",
          "output_type": "stream",
          "text": [
            "\n",
            "      Epoch    GPU_mem       loss  Instances       Size\n"
          ]
        },
        {
          "name": "stderr",
          "output_type": "stream",
          "text": [
            "     57/100      3.04G     0.1808          2        256: 100%|██████████| 61/61 [00:16<00:00,  3.71it/s]\n",
            "               classes   top1_acc   top5_acc: 100%|██████████| 8/8 [00:02<00:00,  2.81it/s]"
          ]
        },
        {
          "name": "stdout",
          "output_type": "stream",
          "text": [
            "                   all      0.938          1\n"
          ]
        },
        {
          "name": "stderr",
          "output_type": "stream",
          "text": [
            "\n"
          ]
        },
        {
          "name": "stdout",
          "output_type": "stream",
          "text": [
            "\n",
            "      Epoch    GPU_mem       loss  Instances       Size\n"
          ]
        },
        {
          "name": "stderr",
          "output_type": "stream",
          "text": [
            "     58/100      3.03G     0.1433          2        256: 100%|██████████| 61/61 [00:16<00:00,  3.72it/s]\n",
            "               classes   top1_acc   top5_acc: 100%|██████████| 8/8 [00:03<00:00,  2.64it/s]"
          ]
        },
        {
          "name": "stdout",
          "output_type": "stream",
          "text": [
            "                   all      0.954          1\n"
          ]
        },
        {
          "name": "stderr",
          "output_type": "stream",
          "text": [
            "\n"
          ]
        },
        {
          "name": "stdout",
          "output_type": "stream",
          "text": [
            "\n",
            "      Epoch    GPU_mem       loss  Instances       Size\n"
          ]
        },
        {
          "name": "stderr",
          "output_type": "stream",
          "text": [
            "     59/100      3.03G     0.1773          2        256: 100%|██████████| 61/61 [00:17<00:00,  3.42it/s]\n",
            "               classes   top1_acc   top5_acc: 100%|██████████| 8/8 [00:01<00:00,  4.79it/s]"
          ]
        },
        {
          "name": "stdout",
          "output_type": "stream",
          "text": [
            "                   all      0.967          1\n"
          ]
        },
        {
          "name": "stderr",
          "output_type": "stream",
          "text": [
            "\n"
          ]
        },
        {
          "name": "stdout",
          "output_type": "stream",
          "text": [
            "\n",
            "      Epoch    GPU_mem       loss  Instances       Size\n"
          ]
        },
        {
          "name": "stderr",
          "output_type": "stream",
          "text": [
            "     60/100      2.94G     0.1127          2        256: 100%|██████████| 61/61 [00:22<00:00,  2.77it/s]\n",
            "               classes   top1_acc   top5_acc: 100%|██████████| 8/8 [00:03<00:00,  2.27it/s]"
          ]
        },
        {
          "name": "stdout",
          "output_type": "stream",
          "text": [
            "                   all      0.975          1\n"
          ]
        },
        {
          "name": "stderr",
          "output_type": "stream",
          "text": [
            "\n"
          ]
        },
        {
          "name": "stdout",
          "output_type": "stream",
          "text": [
            "\n",
            "      Epoch    GPU_mem       loss  Instances       Size\n"
          ]
        },
        {
          "name": "stderr",
          "output_type": "stream",
          "text": [
            "     61/100      3.04G     0.1203          2        256: 100%|██████████| 61/61 [00:18<00:00,  3.30it/s]\n",
            "               classes   top1_acc   top5_acc: 100%|██████████| 8/8 [00:01<00:00,  4.33it/s]"
          ]
        },
        {
          "name": "stdout",
          "output_type": "stream",
          "text": [
            "                   all      0.971          1\n"
          ]
        },
        {
          "name": "stderr",
          "output_type": "stream",
          "text": [
            "\n"
          ]
        },
        {
          "name": "stdout",
          "output_type": "stream",
          "text": [
            "\n",
            "      Epoch    GPU_mem       loss  Instances       Size\n"
          ]
        },
        {
          "name": "stderr",
          "output_type": "stream",
          "text": [
            "     62/100      3.02G     0.1891          2        256: 100%|██████████| 61/61 [00:17<00:00,  3.46it/s]\n",
            "               classes   top1_acc   top5_acc: 100%|██████████| 8/8 [00:01<00:00,  4.55it/s]"
          ]
        },
        {
          "name": "stdout",
          "output_type": "stream",
          "text": [
            "                   all      0.946          1\n"
          ]
        },
        {
          "name": "stderr",
          "output_type": "stream",
          "text": [
            "\n"
          ]
        },
        {
          "name": "stdout",
          "output_type": "stream",
          "text": [
            "\n",
            "      Epoch    GPU_mem       loss  Instances       Size\n"
          ]
        },
        {
          "name": "stderr",
          "output_type": "stream",
          "text": [
            "     63/100      3.03G     0.1296          2        256: 100%|██████████| 61/61 [00:16<00:00,  3.62it/s]\n",
            "               classes   top1_acc   top5_acc: 100%|██████████| 8/8 [00:02<00:00,  3.11it/s]"
          ]
        },
        {
          "name": "stdout",
          "output_type": "stream",
          "text": [
            "                   all       0.95          1\n"
          ]
        },
        {
          "name": "stderr",
          "output_type": "stream",
          "text": [
            "\n"
          ]
        },
        {
          "name": "stdout",
          "output_type": "stream",
          "text": [
            "\n",
            "      Epoch    GPU_mem       loss  Instances       Size\n"
          ]
        },
        {
          "name": "stderr",
          "output_type": "stream",
          "text": [
            "     64/100      2.95G     0.1218          2        256: 100%|██████████| 61/61 [00:16<00:00,  3.74it/s]\n",
            "               classes   top1_acc   top5_acc: 100%|██████████| 8/8 [00:03<00:00,  2.65it/s]"
          ]
        },
        {
          "name": "stdout",
          "output_type": "stream",
          "text": [
            "                   all      0.959          1\n"
          ]
        },
        {
          "name": "stderr",
          "output_type": "stream",
          "text": [
            "\n"
          ]
        },
        {
          "name": "stdout",
          "output_type": "stream",
          "text": [
            "\n",
            "      Epoch    GPU_mem       loss  Instances       Size\n"
          ]
        },
        {
          "name": "stderr",
          "output_type": "stream",
          "text": [
            "     65/100      3.05G     0.1089          2        256: 100%|██████████| 61/61 [00:17<00:00,  3.44it/s]\n",
            "               classes   top1_acc   top5_acc: 100%|██████████| 8/8 [00:01<00:00,  4.73it/s]"
          ]
        },
        {
          "name": "stdout",
          "output_type": "stream",
          "text": [
            "                   all      0.946          1\n"
          ]
        },
        {
          "name": "stderr",
          "output_type": "stream",
          "text": [
            "\n"
          ]
        },
        {
          "name": "stdout",
          "output_type": "stream",
          "text": [
            "\n",
            "      Epoch    GPU_mem       loss  Instances       Size\n"
          ]
        },
        {
          "name": "stderr",
          "output_type": "stream",
          "text": [
            "     66/100      3.03G    0.09345          2        256: 100%|██████████| 61/61 [00:17<00:00,  3.42it/s]\n",
            "               classes   top1_acc   top5_acc: 100%|██████████| 8/8 [00:01<00:00,  4.58it/s]"
          ]
        },
        {
          "name": "stdout",
          "output_type": "stream",
          "text": [
            "                   all      0.954          1\n"
          ]
        },
        {
          "name": "stderr",
          "output_type": "stream",
          "text": [
            "\n"
          ]
        },
        {
          "name": "stdout",
          "output_type": "stream",
          "text": [
            "\n",
            "      Epoch    GPU_mem       loss  Instances       Size\n"
          ]
        },
        {
          "name": "stderr",
          "output_type": "stream",
          "text": [
            "     67/100      3.03G     0.1032          2        256: 100%|██████████| 61/61 [00:17<00:00,  3.40it/s]\n",
            "               classes   top1_acc   top5_acc: 100%|██████████| 8/8 [00:01<00:00,  4.33it/s]"
          ]
        },
        {
          "name": "stdout",
          "output_type": "stream",
          "text": [
            "                   all      0.959          1\n"
          ]
        },
        {
          "name": "stderr",
          "output_type": "stream",
          "text": [
            "\n"
          ]
        },
        {
          "name": "stdout",
          "output_type": "stream",
          "text": [
            "\n",
            "      Epoch    GPU_mem       loss  Instances       Size\n"
          ]
        },
        {
          "name": "stderr",
          "output_type": "stream",
          "text": [
            "     68/100      2.95G     0.1126          2        256: 100%|██████████| 61/61 [00:18<00:00,  3.38it/s]\n",
            "               classes   top1_acc   top5_acc: 100%|██████████| 8/8 [00:01<00:00,  4.61it/s]"
          ]
        },
        {
          "name": "stdout",
          "output_type": "stream",
          "text": [
            "                   all      0.959          1\n"
          ]
        },
        {
          "name": "stderr",
          "output_type": "stream",
          "text": [
            "\n"
          ]
        },
        {
          "name": "stdout",
          "output_type": "stream",
          "text": [
            "\n",
            "      Epoch    GPU_mem       loss  Instances       Size\n"
          ]
        },
        {
          "name": "stderr",
          "output_type": "stream",
          "text": [
            "     69/100      3.04G    0.09309          2        256: 100%|██████████| 61/61 [00:20<00:00,  2.91it/s]\n",
            "               classes   top1_acc   top5_acc: 100%|██████████| 8/8 [00:02<00:00,  3.12it/s]"
          ]
        },
        {
          "name": "stdout",
          "output_type": "stream",
          "text": [
            "                   all      0.979          1\n"
          ]
        },
        {
          "name": "stderr",
          "output_type": "stream",
          "text": [
            "\n"
          ]
        },
        {
          "name": "stdout",
          "output_type": "stream",
          "text": [
            "\n",
            "      Epoch    GPU_mem       loss  Instances       Size\n"
          ]
        },
        {
          "name": "stderr",
          "output_type": "stream",
          "text": [
            "     70/100      3.06G     0.1558          2        256: 100%|██████████| 61/61 [00:18<00:00,  3.24it/s]\n",
            "               classes   top1_acc   top5_acc: 100%|██████████| 8/8 [00:02<00:00,  3.85it/s]"
          ]
        },
        {
          "name": "stdout",
          "output_type": "stream",
          "text": [
            "                   all      0.975          1\n"
          ]
        },
        {
          "name": "stderr",
          "output_type": "stream",
          "text": [
            "\n"
          ]
        },
        {
          "name": "stdout",
          "output_type": "stream",
          "text": [
            "\n",
            "      Epoch    GPU_mem       loss  Instances       Size\n"
          ]
        },
        {
          "name": "stderr",
          "output_type": "stream",
          "text": [
            "     71/100      3.04G    0.06936          2        256: 100%|██████████| 61/61 [00:17<00:00,  3.50it/s]\n",
            "               classes   top1_acc   top5_acc: 100%|██████████| 8/8 [00:02<00:00,  3.72it/s]"
          ]
        },
        {
          "name": "stdout",
          "output_type": "stream",
          "text": [
            "                   all      0.954          1\n"
          ]
        },
        {
          "name": "stderr",
          "output_type": "stream",
          "text": [
            "\n"
          ]
        },
        {
          "name": "stdout",
          "output_type": "stream",
          "text": [
            "\n",
            "      Epoch    GPU_mem       loss  Instances       Size\n"
          ]
        },
        {
          "name": "stderr",
          "output_type": "stream",
          "text": [
            "     72/100      2.95G     0.0915          2        256: 100%|██████████| 61/61 [00:17<00:00,  3.43it/s]\n",
            "               classes   top1_acc   top5_acc: 100%|██████████| 8/8 [00:01<00:00,  4.53it/s]"
          ]
        },
        {
          "name": "stdout",
          "output_type": "stream",
          "text": [
            "                   all      0.963          1\n"
          ]
        },
        {
          "name": "stderr",
          "output_type": "stream",
          "text": [
            "\n"
          ]
        },
        {
          "name": "stdout",
          "output_type": "stream",
          "text": [
            "\n",
            "      Epoch    GPU_mem       loss  Instances       Size\n"
          ]
        },
        {
          "name": "stderr",
          "output_type": "stream",
          "text": [
            "     73/100      3.04G    0.06321          2        256: 100%|██████████| 61/61 [00:17<00:00,  3.44it/s]\n",
            "               classes   top1_acc   top5_acc: 100%|██████████| 8/8 [00:01<00:00,  4.62it/s]"
          ]
        },
        {
          "name": "stdout",
          "output_type": "stream",
          "text": [
            "                   all      0.979          1\n"
          ]
        },
        {
          "name": "stderr",
          "output_type": "stream",
          "text": [
            "\n"
          ]
        },
        {
          "name": "stdout",
          "output_type": "stream",
          "text": [
            "\n",
            "      Epoch    GPU_mem       loss  Instances       Size\n"
          ]
        },
        {
          "name": "stderr",
          "output_type": "stream",
          "text": [
            "     74/100      3.06G    0.09231          2        256: 100%|██████████| 61/61 [00:17<00:00,  3.44it/s]\n",
            "               classes   top1_acc   top5_acc: 100%|██████████| 8/8 [00:03<00:00,  2.63it/s]"
          ]
        },
        {
          "name": "stdout",
          "output_type": "stream",
          "text": [
            "                   all      0.967          1\n"
          ]
        },
        {
          "name": "stderr",
          "output_type": "stream",
          "text": [
            "\n"
          ]
        },
        {
          "name": "stdout",
          "output_type": "stream",
          "text": [
            "\n",
            "      Epoch    GPU_mem       loss  Instances       Size\n"
          ]
        },
        {
          "name": "stderr",
          "output_type": "stream",
          "text": [
            "     75/100      3.02G    0.09728          2        256: 100%|██████████| 61/61 [00:17<00:00,  3.56it/s]\n",
            "               classes   top1_acc   top5_acc: 100%|██████████| 8/8 [00:02<00:00,  2.84it/s]"
          ]
        },
        {
          "name": "stdout",
          "output_type": "stream",
          "text": [
            "                   all      0.954          1\n"
          ]
        },
        {
          "name": "stderr",
          "output_type": "stream",
          "text": [
            "\n"
          ]
        },
        {
          "name": "stdout",
          "output_type": "stream",
          "text": [
            "\n",
            "      Epoch    GPU_mem       loss  Instances       Size\n"
          ]
        },
        {
          "name": "stderr",
          "output_type": "stream",
          "text": [
            "     76/100      2.93G      0.119          2        256: 100%|██████████| 61/61 [00:18<00:00,  3.36it/s]\n",
            "               classes   top1_acc   top5_acc: 100%|██████████| 8/8 [00:01<00:00,  4.47it/s]"
          ]
        },
        {
          "name": "stdout",
          "output_type": "stream",
          "text": [
            "                   all      0.975          1\n"
          ]
        },
        {
          "name": "stderr",
          "output_type": "stream",
          "text": [
            "\n"
          ]
        },
        {
          "name": "stdout",
          "output_type": "stream",
          "text": [
            "\n",
            "      Epoch    GPU_mem       loss  Instances       Size\n"
          ]
        },
        {
          "name": "stderr",
          "output_type": "stream",
          "text": [
            "     77/100      3.05G     0.1039          2        256: 100%|██████████| 61/61 [00:21<00:00,  2.89it/s]\n",
            "               classes   top1_acc   top5_acc: 100%|██████████| 8/8 [00:01<00:00,  4.72it/s]"
          ]
        },
        {
          "name": "stdout",
          "output_type": "stream",
          "text": [
            "                   all      0.963          1\n"
          ]
        },
        {
          "name": "stderr",
          "output_type": "stream",
          "text": [
            "\n"
          ]
        },
        {
          "name": "stdout",
          "output_type": "stream",
          "text": [
            "\n",
            "      Epoch    GPU_mem       loss  Instances       Size\n"
          ]
        },
        {
          "name": "stderr",
          "output_type": "stream",
          "text": [
            "     78/100      3.06G    0.08598          2        256: 100%|██████████| 61/61 [00:17<00:00,  3.40it/s]\n",
            "               classes   top1_acc   top5_acc: 100%|██████████| 8/8 [00:01<00:00,  4.46it/s]"
          ]
        },
        {
          "name": "stdout",
          "output_type": "stream",
          "text": [
            "                   all      0.954          1\n"
          ]
        },
        {
          "name": "stderr",
          "output_type": "stream",
          "text": [
            "\n"
          ]
        },
        {
          "name": "stdout",
          "output_type": "stream",
          "text": [
            "\n",
            "      Epoch    GPU_mem       loss  Instances       Size\n"
          ]
        },
        {
          "name": "stderr",
          "output_type": "stream",
          "text": [
            "     79/100      3.03G    0.07603          2        256: 100%|██████████| 61/61 [00:17<00:00,  3.55it/s]\n",
            "               classes   top1_acc   top5_acc: 100%|██████████| 8/8 [00:02<00:00,  3.02it/s]"
          ]
        },
        {
          "name": "stdout",
          "output_type": "stream",
          "text": [
            "                   all      0.938          1\n"
          ]
        },
        {
          "name": "stderr",
          "output_type": "stream",
          "text": [
            "\n"
          ]
        },
        {
          "name": "stdout",
          "output_type": "stream",
          "text": [
            "\n",
            "      Epoch    GPU_mem       loss  Instances       Size\n"
          ]
        },
        {
          "name": "stderr",
          "output_type": "stream",
          "text": [
            "     80/100      2.95G     0.1052          2        256: 100%|██████████| 61/61 [00:17<00:00,  3.54it/s]\n",
            "               classes   top1_acc   top5_acc: 100%|██████████| 8/8 [00:02<00:00,  2.90it/s]"
          ]
        },
        {
          "name": "stdout",
          "output_type": "stream",
          "text": [
            "                   all      0.946          1\n"
          ]
        },
        {
          "name": "stderr",
          "output_type": "stream",
          "text": [
            "\n"
          ]
        },
        {
          "name": "stdout",
          "output_type": "stream",
          "text": [
            "\n",
            "      Epoch    GPU_mem       loss  Instances       Size\n"
          ]
        },
        {
          "name": "stderr",
          "output_type": "stream",
          "text": [
            "     81/100      3.05G     0.1115          2        256: 100%|██████████| 61/61 [00:16<00:00,  3.61it/s]\n",
            "               classes   top1_acc   top5_acc: 100%|██████████| 8/8 [00:01<00:00,  4.93it/s]"
          ]
        },
        {
          "name": "stdout",
          "output_type": "stream",
          "text": [
            "                   all      0.946          1\n"
          ]
        },
        {
          "name": "stderr",
          "output_type": "stream",
          "text": [
            "\n"
          ]
        },
        {
          "name": "stdout",
          "output_type": "stream",
          "text": [
            "\n",
            "      Epoch    GPU_mem       loss  Instances       Size\n"
          ]
        },
        {
          "name": "stderr",
          "output_type": "stream",
          "text": [
            "     82/100      3.01G     0.0794          2        256: 100%|██████████| 61/61 [00:17<00:00,  3.52it/s]\n",
            "               classes   top1_acc   top5_acc: 100%|██████████| 8/8 [00:01<00:00,  4.22it/s]"
          ]
        },
        {
          "name": "stdout",
          "output_type": "stream",
          "text": [
            "                   all      0.954          1\n"
          ]
        },
        {
          "name": "stderr",
          "output_type": "stream",
          "text": [
            "\n"
          ]
        },
        {
          "name": "stdout",
          "output_type": "stream",
          "text": [
            "\n",
            "      Epoch    GPU_mem       loss  Instances       Size\n"
          ]
        },
        {
          "name": "stderr",
          "output_type": "stream",
          "text": [
            "     83/100      3.04G     0.0568          2        256: 100%|██████████| 61/61 [00:17<00:00,  3.52it/s]\n",
            "               classes   top1_acc   top5_acc: 100%|██████████| 8/8 [00:02<00:00,  3.13it/s]"
          ]
        },
        {
          "name": "stdout",
          "output_type": "stream",
          "text": [
            "                   all      0.929          1\n"
          ]
        },
        {
          "name": "stderr",
          "output_type": "stream",
          "text": [
            "\n"
          ]
        },
        {
          "name": "stdout",
          "output_type": "stream",
          "text": [
            "\n",
            "      Epoch    GPU_mem       loss  Instances       Size\n"
          ]
        },
        {
          "name": "stderr",
          "output_type": "stream",
          "text": [
            "     84/100      2.95G    0.06066          2        256: 100%|██████████| 61/61 [00:16<00:00,  3.64it/s]\n",
            "               classes   top1_acc   top5_acc: 100%|██████████| 8/8 [00:03<00:00,  2.45it/s]"
          ]
        },
        {
          "name": "stdout",
          "output_type": "stream",
          "text": [
            "                   all      0.934          1\n"
          ]
        },
        {
          "name": "stderr",
          "output_type": "stream",
          "text": [
            "\n"
          ]
        },
        {
          "name": "stdout",
          "output_type": "stream",
          "text": [
            "\n",
            "      Epoch    GPU_mem       loss  Instances       Size\n"
          ]
        },
        {
          "name": "stderr",
          "output_type": "stream",
          "text": [
            "     85/100      3.05G    0.09171          2        256: 100%|██████████| 61/61 [00:18<00:00,  3.39it/s]\n",
            "               classes   top1_acc   top5_acc: 100%|██████████| 8/8 [00:02<00:00,  3.81it/s]"
          ]
        },
        {
          "name": "stdout",
          "output_type": "stream",
          "text": [
            "                   all      0.909          1\n"
          ]
        },
        {
          "name": "stderr",
          "output_type": "stream",
          "text": [
            "\n"
          ]
        },
        {
          "name": "stdout",
          "output_type": "stream",
          "text": [
            "\n",
            "      Epoch    GPU_mem       loss  Instances       Size\n"
          ]
        },
        {
          "name": "stderr",
          "output_type": "stream",
          "text": [
            "     86/100      3.06G     0.1074          2        256: 100%|██████████| 61/61 [00:18<00:00,  3.24it/s]\n",
            "               classes   top1_acc   top5_acc: 100%|██████████| 8/8 [00:01<00:00,  4.65it/s]"
          ]
        },
        {
          "name": "stdout",
          "output_type": "stream",
          "text": [
            "                   all      0.938          1\n"
          ]
        },
        {
          "name": "stderr",
          "output_type": "stream",
          "text": [
            "\n"
          ]
        },
        {
          "name": "stdout",
          "output_type": "stream",
          "text": [
            "\n",
            "      Epoch    GPU_mem       loss  Instances       Size\n"
          ]
        },
        {
          "name": "stderr",
          "output_type": "stream",
          "text": [
            "     87/100      3.03G    0.06254          2        256: 100%|██████████| 61/61 [00:17<00:00,  3.53it/s]\n",
            "               classes   top1_acc   top5_acc: 100%|██████████| 8/8 [00:02<00:00,  3.81it/s]"
          ]
        },
        {
          "name": "stdout",
          "output_type": "stream",
          "text": [
            "                   all      0.942          1\n"
          ]
        },
        {
          "name": "stderr",
          "output_type": "stream",
          "text": [
            "\n"
          ]
        },
        {
          "name": "stdout",
          "output_type": "stream",
          "text": [
            "\n",
            "      Epoch    GPU_mem       loss  Instances       Size\n"
          ]
        },
        {
          "name": "stderr",
          "output_type": "stream",
          "text": [
            "     88/100      2.95G     0.1212          2        256: 100%|██████████| 61/61 [00:16<00:00,  3.64it/s]\n",
            "               classes   top1_acc   top5_acc: 100%|██████████| 8/8 [00:02<00:00,  3.09it/s]"
          ]
        },
        {
          "name": "stdout",
          "output_type": "stream",
          "text": [
            "                   all       0.95          1\n"
          ]
        },
        {
          "name": "stderr",
          "output_type": "stream",
          "text": [
            "\n"
          ]
        },
        {
          "name": "stdout",
          "output_type": "stream",
          "text": [
            "\n",
            "      Epoch    GPU_mem       loss  Instances       Size\n"
          ]
        },
        {
          "name": "stderr",
          "output_type": "stream",
          "text": [
            "     89/100      3.04G    0.06384          2        256: 100%|██████████| 61/61 [00:15<00:00,  3.84it/s]\n",
            "               classes   top1_acc   top5_acc: 100%|██████████| 8/8 [00:03<00:00,  2.55it/s]"
          ]
        },
        {
          "name": "stdout",
          "output_type": "stream",
          "text": [
            "                   all      0.938          1\n"
          ]
        },
        {
          "name": "stderr",
          "output_type": "stream",
          "text": [
            "\n"
          ]
        },
        {
          "name": "stdout",
          "output_type": "stream",
          "text": [
            "\n",
            "      Epoch    GPU_mem       loss  Instances       Size\n"
          ]
        },
        {
          "name": "stderr",
          "output_type": "stream",
          "text": [
            "     90/100      3.03G    0.06639          2        256: 100%|██████████| 61/61 [00:17<00:00,  3.53it/s]\n",
            "               classes   top1_acc   top5_acc: 100%|██████████| 8/8 [00:01<00:00,  4.35it/s]"
          ]
        },
        {
          "name": "stdout",
          "output_type": "stream",
          "text": [
            "                   all      0.967          1\n"
          ]
        },
        {
          "name": "stderr",
          "output_type": "stream",
          "text": [
            "\n"
          ]
        },
        {
          "name": "stdout",
          "output_type": "stream",
          "text": [
            "\n",
            "      Epoch    GPU_mem       loss  Instances       Size\n"
          ]
        },
        {
          "name": "stderr",
          "output_type": "stream",
          "text": [
            "     91/100      3.03G    0.07837          2        256: 100%|██████████| 61/61 [00:18<00:00,  3.27it/s]\n",
            "               classes   top1_acc   top5_acc: 100%|██████████| 8/8 [00:01<00:00,  4.34it/s]"
          ]
        },
        {
          "name": "stdout",
          "output_type": "stream",
          "text": [
            "                   all      0.971          1\n"
          ]
        },
        {
          "name": "stderr",
          "output_type": "stream",
          "text": [
            "\n"
          ]
        },
        {
          "name": "stdout",
          "output_type": "stream",
          "text": [
            "\n",
            "      Epoch    GPU_mem       loss  Instances       Size\n"
          ]
        },
        {
          "name": "stderr",
          "output_type": "stream",
          "text": [
            "     92/100      2.94G    0.07171          2        256: 100%|██████████| 61/61 [00:16<00:00,  3.61it/s]\n",
            "               classes   top1_acc   top5_acc: 100%|██████████| 8/8 [00:02<00:00,  2.74it/s]"
          ]
        },
        {
          "name": "stdout",
          "output_type": "stream",
          "text": [
            "                   all      0.975          1\n"
          ]
        },
        {
          "name": "stderr",
          "output_type": "stream",
          "text": [
            "\n"
          ]
        },
        {
          "name": "stdout",
          "output_type": "stream",
          "text": [
            "\n",
            "      Epoch    GPU_mem       loss  Instances       Size\n"
          ]
        },
        {
          "name": "stderr",
          "output_type": "stream",
          "text": [
            "     93/100      3.04G    0.05161          2        256: 100%|██████████| 61/61 [00:18<00:00,  3.38it/s]\n",
            "               classes   top1_acc   top5_acc: 100%|██████████| 8/8 [00:01<00:00,  4.70it/s]"
          ]
        },
        {
          "name": "stdout",
          "output_type": "stream",
          "text": [
            "                   all      0.963          1\n"
          ]
        },
        {
          "name": "stderr",
          "output_type": "stream",
          "text": [
            "\n"
          ]
        },
        {
          "name": "stdout",
          "output_type": "stream",
          "text": [
            "\n",
            "      Epoch    GPU_mem       loss  Instances       Size\n"
          ]
        },
        {
          "name": "stderr",
          "output_type": "stream",
          "text": [
            "     94/100      3.02G    0.04934          2        256: 100%|██████████| 61/61 [00:18<00:00,  3.37it/s]\n",
            "               classes   top1_acc   top5_acc: 100%|██████████| 8/8 [00:02<00:00,  2.87it/s]"
          ]
        },
        {
          "name": "stdout",
          "output_type": "stream",
          "text": [
            "                   all       0.95          1\n"
          ]
        },
        {
          "name": "stderr",
          "output_type": "stream",
          "text": [
            "\n"
          ]
        },
        {
          "name": "stdout",
          "output_type": "stream",
          "text": [
            "\n",
            "      Epoch    GPU_mem       loss  Instances       Size\n"
          ]
        },
        {
          "name": "stderr",
          "output_type": "stream",
          "text": [
            "     95/100      3.06G    0.07271          2        256: 100%|██████████| 61/61 [00:17<00:00,  3.54it/s]\n",
            "               classes   top1_acc   top5_acc: 100%|██████████| 8/8 [00:02<00:00,  3.16it/s]"
          ]
        },
        {
          "name": "stdout",
          "output_type": "stream",
          "text": [
            "                   all      0.954          1\n"
          ]
        },
        {
          "name": "stderr",
          "output_type": "stream",
          "text": [
            "\n"
          ]
        },
        {
          "name": "stdout",
          "output_type": "stream",
          "text": [
            "\n",
            "      Epoch    GPU_mem       loss  Instances       Size\n"
          ]
        },
        {
          "name": "stderr",
          "output_type": "stream",
          "text": [
            "     96/100      2.95G    0.05193          2        256: 100%|██████████| 61/61 [00:17<00:00,  3.56it/s]\n",
            "               classes   top1_acc   top5_acc: 100%|██████████| 8/8 [00:02<00:00,  2.91it/s]"
          ]
        },
        {
          "name": "stdout",
          "output_type": "stream",
          "text": [
            "                   all      0.954          1\n"
          ]
        },
        {
          "name": "stderr",
          "output_type": "stream",
          "text": [
            "\n"
          ]
        },
        {
          "name": "stdout",
          "output_type": "stream",
          "text": [
            "\n",
            "      Epoch    GPU_mem       loss  Instances       Size\n"
          ]
        },
        {
          "name": "stderr",
          "output_type": "stream",
          "text": [
            "     97/100      3.04G    0.07167          2        256: 100%|██████████| 61/61 [00:17<00:00,  3.46it/s]\n",
            "               classes   top1_acc   top5_acc: 100%|██████████| 8/8 [00:01<00:00,  5.05it/s]"
          ]
        },
        {
          "name": "stdout",
          "output_type": "stream",
          "text": [
            "                   all      0.946          1\n"
          ]
        },
        {
          "name": "stderr",
          "output_type": "stream",
          "text": [
            "\n"
          ]
        },
        {
          "name": "stdout",
          "output_type": "stream",
          "text": [
            "\n",
            "      Epoch    GPU_mem       loss  Instances       Size\n"
          ]
        },
        {
          "name": "stderr",
          "output_type": "stream",
          "text": [
            "     98/100      3.03G    0.06341          2        256: 100%|██████████| 61/61 [00:18<00:00,  3.37it/s]\n",
            "               classes   top1_acc   top5_acc: 100%|██████████| 8/8 [00:01<00:00,  4.41it/s]"
          ]
        },
        {
          "name": "stdout",
          "output_type": "stream",
          "text": [
            "                   all      0.946          1\n"
          ]
        },
        {
          "name": "stderr",
          "output_type": "stream",
          "text": [
            "\n"
          ]
        },
        {
          "name": "stdout",
          "output_type": "stream",
          "text": [
            "\n",
            "      Epoch    GPU_mem       loss  Instances       Size\n"
          ]
        },
        {
          "name": "stderr",
          "output_type": "stream",
          "text": [
            "     99/100      3.03G    0.05145          2        256: 100%|██████████| 61/61 [00:17<00:00,  3.52it/s]\n",
            "               classes   top1_acc   top5_acc: 100%|██████████| 8/8 [00:02<00:00,  3.02it/s]"
          ]
        },
        {
          "name": "stdout",
          "output_type": "stream",
          "text": [
            "                   all      0.946          1\n"
          ]
        },
        {
          "name": "stderr",
          "output_type": "stream",
          "text": [
            "\n"
          ]
        },
        {
          "name": "stdout",
          "output_type": "stream",
          "text": [
            "\n",
            "      Epoch    GPU_mem       loss  Instances       Size\n"
          ]
        },
        {
          "name": "stderr",
          "output_type": "stream",
          "text": [
            "    100/100      2.94G    0.08498          2        256: 100%|██████████| 61/61 [00:20<00:00,  3.00it/s]\n",
            "               classes   top1_acc   top5_acc: 100%|██████████| 8/8 [00:01<00:00,  4.04it/s]"
          ]
        },
        {
          "name": "stdout",
          "output_type": "stream",
          "text": [
            "                   all      0.967          1\n"
          ]
        },
        {
          "name": "stderr",
          "output_type": "stream",
          "text": [
            "\n"
          ]
        },
        {
          "name": "stdout",
          "output_type": "stream",
          "text": [
            "\n",
            "100 epochs completed in 0.752 hours.\n",
            "Optimizer stripped from runs/classify/train8/weights/last.pt, 112.5MB\n",
            "Optimizer stripped from runs/classify/train8/weights/best.pt, 112.5MB\n",
            "\n",
            "Validating runs/classify/train8/weights/best.pt...\n",
            "Ultralytics 8.3.11 🚀 Python-3.10.12 torch-2.4.1+cu121 CUDA:0 (Tesla T4, 15102MiB)\n",
            "YOLOv8x-cls summary (fused): 133 layers, 56,127,043 parameters, 0 gradients, 153.8 GFLOPs\n",
            "\u001b[34m\u001b[1mtrain:\u001b[0m /content/drive/MyDrive/projects/SecondTry/Folds/fold_1/train... found 962 images in 3 classes ✅ \n",
            "\u001b[34m\u001b[1mval:\u001b[0m /content/drive/MyDrive/projects/SecondTry/Folds/fold_1/val... found 241 images in 3 classes ✅ \n",
            "\u001b[34m\u001b[1mtest:\u001b[0m None...\n"
          ]
        },
        {
          "name": "stderr",
          "output_type": "stream",
          "text": [
            "               classes   top1_acc   top5_acc: 100%|██████████| 8/8 [00:03<00:00,  2.08it/s]\n"
          ]
        },
        {
          "name": "stdout",
          "output_type": "stream",
          "text": [
            "                   all      0.979          1\n",
            "Speed: 0.2ms preprocess, 2.7ms inference, 0.0ms loss, 0.0ms postprocess per image\n",
            "Results saved to \u001b[1mruns/classify/train8\u001b[0m\n",
            "Results saved to \u001b[1mruns/classify/train8\u001b[0m\n"
          ]
        },
        {
          "data": {
            "text/plain": [
              "ultralytics.utils.metrics.ClassifyMetrics object with attributes:\n",
              "\n",
              "confusion_matrix: <ultralytics.utils.metrics.ConfusionMatrix object at 0x798e69e41600>\n",
              "curves: []\n",
              "curves_results: []\n",
              "fitness: 0.989626556634903\n",
              "keys: ['metrics/accuracy_top1', 'metrics/accuracy_top5']\n",
              "results_dict: {'metrics/accuracy_top1': 0.9792531132698059, 'metrics/accuracy_top5': 1.0, 'fitness': 0.989626556634903}\n",
              "save_dir: PosixPath('runs/classify/train8')\n",
              "speed: {'preprocess': 0.20009749163235865, 'inference': 2.7355207941838815, 'loss': 0.0005925839372690288, 'postprocess': 0.0005401516356408843}\n",
              "task: 'classify'\n",
              "top1: 0.9792531132698059\n",
              "top5: 1.0"
            ]
          },
          "execution_count": 31,
          "metadata": {},
          "output_type": "execute_result"
        }
      ],
      "source": [
        "model.eval()"
      ]
    },
    {
      "cell_type": "markdown",
      "metadata": {
        "id": "JluAVCLwb17l"
      },
      "source": [
        "## TensorBoard"
      ]
    },
    {
      "cell_type": "code",
      "execution_count": null,
      "metadata": {
        "colab": {
          "base_uri": "https://localhost:8080/"
        },
        "id": "-Q6TyqOCdlWV",
        "outputId": "d8a307a8-f544-4767-ac33-052db5c84eb2"
      },
      "outputs": [
        {
          "name": "stdout",
          "output_type": "stream",
          "text": [
            "Requirement already satisfied: tensorboard in /usr/local/lib/python3.10/dist-packages (2.17.0)\n",
            "Requirement already satisfied: absl-py>=0.4 in /usr/local/lib/python3.10/dist-packages (from tensorboard) (1.4.0)\n",
            "Requirement already satisfied: grpcio>=1.48.2 in /usr/local/lib/python3.10/dist-packages (from tensorboard) (1.64.1)\n",
            "Requirement already satisfied: markdown>=2.6.8 in /usr/local/lib/python3.10/dist-packages (from tensorboard) (3.7)\n",
            "Requirement already satisfied: numpy>=1.12.0 in /usr/local/lib/python3.10/dist-packages (from tensorboard) (1.26.4)\n",
            "Requirement already satisfied: protobuf!=4.24.0,<5.0.0,>=3.19.6 in /usr/local/lib/python3.10/dist-packages (from tensorboard) (3.20.3)\n",
            "Requirement already satisfied: setuptools>=41.0.0 in /usr/local/lib/python3.10/dist-packages (from tensorboard) (71.0.4)\n",
            "Requirement already satisfied: six>1.9 in /usr/local/lib/python3.10/dist-packages (from tensorboard) (1.16.0)\n",
            "Requirement already satisfied: tensorboard-data-server<0.8.0,>=0.7.0 in /usr/local/lib/python3.10/dist-packages (from tensorboard) (0.7.2)\n",
            "Requirement already satisfied: werkzeug>=1.0.1 in /usr/local/lib/python3.10/dist-packages (from tensorboard) (3.0.4)\n",
            "Requirement already satisfied: MarkupSafe>=2.1.1 in /usr/local/lib/python3.10/dist-packages (from werkzeug>=1.0.1->tensorboard) (2.1.5)\n"
          ]
        }
      ],
      "source": [
        "!pip install tensorboard"
      ]
    },
    {
      "cell_type": "code",
      "execution_count": null,
      "metadata": {
        "colab": {
          "base_uri": "https://localhost:8080/"
        },
        "id": "xkh3OgBGtjub",
        "outputId": "86fdb23a-da39-4ecd-e55b-5ecfe736d613"
      },
      "outputs": [
        {
          "name": "stdout",
          "output_type": "stream",
          "text": [
            "usage: tensorboard [-h] [--helpfull] [--logdir PATH] [--logdir_spec PATH_SPEC] [--host ADDR]\n",
            "                   [--bind_all] [--port PORT] [--reuse_port BOOL] [--load_fast {false,auto,true}]\n",
            "                   [--extra_data_server_flags EXTRA_DATA_SERVER_FLAGS]\n",
            "                   [--grpc_creds_type {local,ssl,ssl_dev}] [--grpc_data_provider PORT]\n",
            "                   [--purge_orphaned_data BOOL] [--db URI] [--db_import] [--inspect]\n",
            "                   [--version_tb] [--tag TAG] [--event_file PATH] [--path_prefix PATH]\n",
            "                   [--window_title TEXT] [--max_reload_threads COUNT] [--reload_interval SECONDS]\n",
            "                   [--reload_task TYPE] [--reload_multifile BOOL]\n",
            "                   [--reload_multifile_inactive_secs SECONDS] [--generic_data TYPE]\n",
            "                   [--samples_per_plugin SAMPLES_PER_PLUGIN] [--detect_file_replacement BOOL]\n",
            "                   {serve} ...\n",
            "tensorboard: error: argument {serve}: invalid choice: 'model' (choose from 'serve')\n"
          ]
        }
      ],
      "source": [
        "\n",
        "!tensorboard --logdir /content/drive/MyDrive/projects/SecondTry/All model last version/Yolo/runs/classify/train2/"
      ]
    },
    {
      "cell_type": "code",
      "execution_count": null,
      "metadata": {
        "id": "uCUaUqcCf3-3"
      },
      "outputs": [],
      "source": []
    }
  ],
  "metadata": {
    "accelerator": "GPU",
    "colab": {
      "collapsed_sections": [
        "J8pmHeo5YFMC",
        "vu8lyd8hX_cM"
      ],
      "gpuType": "T4",
      "provenance": []
    },
    "kernelspec": {
      "display_name": "Python 3",
      "name": "python3"
    },
    "language_info": {
      "name": "python"
    }
  },
  "nbformat": 4,
  "nbformat_minor": 0
}
